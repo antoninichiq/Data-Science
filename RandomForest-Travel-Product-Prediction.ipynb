{
 "cells": [
  {
   "cell_type": "code",
   "execution_count": 1,
   "id": "9e5c03f8-ea5d-451c-aa5e-8b98bcdce416",
   "metadata": {},
   "outputs": [],
   "source": [
    "import pandas as pd\n",
    "import numpy as np\n",
    "import matplotlib.pyplot as plt\n",
    "import seaborn as sns "
   ]
  },
  {
   "cell_type": "code",
   "execution_count": 2,
   "id": "f64e23cc-315f-4ac6-85c8-13e035e19b63",
   "metadata": {},
   "outputs": [
    {
     "data": {
      "text/html": [
       "<div>\n",
       "<style scoped>\n",
       "    .dataframe tbody tr th:only-of-type {\n",
       "        vertical-align: middle;\n",
       "    }\n",
       "\n",
       "    .dataframe tbody tr th {\n",
       "        vertical-align: top;\n",
       "    }\n",
       "\n",
       "    .dataframe thead th {\n",
       "        text-align: right;\n",
       "    }\n",
       "</style>\n",
       "<table border=\"1\" class=\"dataframe\">\n",
       "  <thead>\n",
       "    <tr style=\"text-align: right;\">\n",
       "      <th></th>\n",
       "      <th>CustomerID</th>\n",
       "      <th>ProdTaken</th>\n",
       "      <th>Age</th>\n",
       "      <th>TypeofContact</th>\n",
       "      <th>CityTier</th>\n",
       "      <th>DurationOfPitch</th>\n",
       "      <th>Occupation</th>\n",
       "      <th>Gender</th>\n",
       "      <th>NumberOfPersonVisiting</th>\n",
       "      <th>NumberOfFollowups</th>\n",
       "      <th>ProductPitched</th>\n",
       "      <th>PreferredPropertyStar</th>\n",
       "      <th>MaritalStatus</th>\n",
       "      <th>NumberOfTrips</th>\n",
       "      <th>Passport</th>\n",
       "      <th>PitchSatisfactionScore</th>\n",
       "      <th>OwnCar</th>\n",
       "      <th>NumberOfChildrenVisiting</th>\n",
       "      <th>Designation</th>\n",
       "      <th>MonthlyIncome</th>\n",
       "    </tr>\n",
       "  </thead>\n",
       "  <tbody>\n",
       "    <tr>\n",
       "      <th>0</th>\n",
       "      <td>200000</td>\n",
       "      <td>1</td>\n",
       "      <td>41.0</td>\n",
       "      <td>Self Enquiry</td>\n",
       "      <td>3</td>\n",
       "      <td>6.0</td>\n",
       "      <td>Salaried</td>\n",
       "      <td>Female</td>\n",
       "      <td>3</td>\n",
       "      <td>3.0</td>\n",
       "      <td>Deluxe</td>\n",
       "      <td>3.0</td>\n",
       "      <td>Single</td>\n",
       "      <td>1.0</td>\n",
       "      <td>1</td>\n",
       "      <td>2</td>\n",
       "      <td>1</td>\n",
       "      <td>0.0</td>\n",
       "      <td>Manager</td>\n",
       "      <td>20993.0</td>\n",
       "    </tr>\n",
       "    <tr>\n",
       "      <th>1</th>\n",
       "      <td>200001</td>\n",
       "      <td>0</td>\n",
       "      <td>49.0</td>\n",
       "      <td>Company Invited</td>\n",
       "      <td>1</td>\n",
       "      <td>14.0</td>\n",
       "      <td>Salaried</td>\n",
       "      <td>Male</td>\n",
       "      <td>3</td>\n",
       "      <td>4.0</td>\n",
       "      <td>Deluxe</td>\n",
       "      <td>4.0</td>\n",
       "      <td>Divorced</td>\n",
       "      <td>2.0</td>\n",
       "      <td>0</td>\n",
       "      <td>3</td>\n",
       "      <td>1</td>\n",
       "      <td>2.0</td>\n",
       "      <td>Manager</td>\n",
       "      <td>20130.0</td>\n",
       "    </tr>\n",
       "    <tr>\n",
       "      <th>2</th>\n",
       "      <td>200002</td>\n",
       "      <td>1</td>\n",
       "      <td>37.0</td>\n",
       "      <td>Self Enquiry</td>\n",
       "      <td>1</td>\n",
       "      <td>8.0</td>\n",
       "      <td>Free Lancer</td>\n",
       "      <td>Male</td>\n",
       "      <td>3</td>\n",
       "      <td>4.0</td>\n",
       "      <td>Basic</td>\n",
       "      <td>3.0</td>\n",
       "      <td>Single</td>\n",
       "      <td>7.0</td>\n",
       "      <td>1</td>\n",
       "      <td>3</td>\n",
       "      <td>0</td>\n",
       "      <td>0.0</td>\n",
       "      <td>Executive</td>\n",
       "      <td>17090.0</td>\n",
       "    </tr>\n",
       "    <tr>\n",
       "      <th>3</th>\n",
       "      <td>200003</td>\n",
       "      <td>0</td>\n",
       "      <td>33.0</td>\n",
       "      <td>Company Invited</td>\n",
       "      <td>1</td>\n",
       "      <td>9.0</td>\n",
       "      <td>Salaried</td>\n",
       "      <td>Female</td>\n",
       "      <td>2</td>\n",
       "      <td>3.0</td>\n",
       "      <td>Basic</td>\n",
       "      <td>3.0</td>\n",
       "      <td>Divorced</td>\n",
       "      <td>2.0</td>\n",
       "      <td>1</td>\n",
       "      <td>5</td>\n",
       "      <td>1</td>\n",
       "      <td>1.0</td>\n",
       "      <td>Executive</td>\n",
       "      <td>17909.0</td>\n",
       "    </tr>\n",
       "    <tr>\n",
       "      <th>4</th>\n",
       "      <td>200004</td>\n",
       "      <td>0</td>\n",
       "      <td>NaN</td>\n",
       "      <td>Self Enquiry</td>\n",
       "      <td>1</td>\n",
       "      <td>8.0</td>\n",
       "      <td>Small Business</td>\n",
       "      <td>Male</td>\n",
       "      <td>2</td>\n",
       "      <td>3.0</td>\n",
       "      <td>Basic</td>\n",
       "      <td>4.0</td>\n",
       "      <td>Divorced</td>\n",
       "      <td>1.0</td>\n",
       "      <td>0</td>\n",
       "      <td>5</td>\n",
       "      <td>1</td>\n",
       "      <td>0.0</td>\n",
       "      <td>Executive</td>\n",
       "      <td>18468.0</td>\n",
       "    </tr>\n",
       "  </tbody>\n",
       "</table>\n",
       "</div>"
      ],
      "text/plain": [
       "   CustomerID  ProdTaken   Age    TypeofContact  CityTier  DurationOfPitch  \\\n",
       "0      200000          1  41.0     Self Enquiry         3              6.0   \n",
       "1      200001          0  49.0  Company Invited         1             14.0   \n",
       "2      200002          1  37.0     Self Enquiry         1              8.0   \n",
       "3      200003          0  33.0  Company Invited         1              9.0   \n",
       "4      200004          0   NaN     Self Enquiry         1              8.0   \n",
       "\n",
       "       Occupation  Gender  NumberOfPersonVisiting  NumberOfFollowups  \\\n",
       "0        Salaried  Female                       3                3.0   \n",
       "1        Salaried    Male                       3                4.0   \n",
       "2     Free Lancer    Male                       3                4.0   \n",
       "3        Salaried  Female                       2                3.0   \n",
       "4  Small Business    Male                       2                3.0   \n",
       "\n",
       "  ProductPitched  PreferredPropertyStar MaritalStatus  NumberOfTrips  \\\n",
       "0         Deluxe                    3.0        Single            1.0   \n",
       "1         Deluxe                    4.0      Divorced            2.0   \n",
       "2          Basic                    3.0        Single            7.0   \n",
       "3          Basic                    3.0      Divorced            2.0   \n",
       "4          Basic                    4.0      Divorced            1.0   \n",
       "\n",
       "   Passport  PitchSatisfactionScore  OwnCar  NumberOfChildrenVisiting  \\\n",
       "0         1                       2       1                       0.0   \n",
       "1         0                       3       1                       2.0   \n",
       "2         1                       3       0                       0.0   \n",
       "3         1                       5       1                       1.0   \n",
       "4         0                       5       1                       0.0   \n",
       "\n",
       "  Designation  MonthlyIncome  \n",
       "0     Manager        20993.0  \n",
       "1     Manager        20130.0  \n",
       "2   Executive        17090.0  \n",
       "3   Executive        17909.0  \n",
       "4   Executive        18468.0  "
      ]
     },
     "execution_count": 2,
     "metadata": {},
     "output_type": "execute_result"
    }
   ],
   "source": [
    "df=pd.read_csv(\"Travel.csv\")\n",
    "df.head()"
   ]
  },
  {
   "cell_type": "code",
   "execution_count": 3,
   "id": "88ca73d1-db16-4d2c-8085-7d80e534e809",
   "metadata": {},
   "outputs": [
    {
     "data": {
      "text/plain": [
       "CustomerID                    0\n",
       "ProdTaken                     0\n",
       "Age                         226\n",
       "TypeofContact                25\n",
       "CityTier                      0\n",
       "DurationOfPitch             251\n",
       "Occupation                    0\n",
       "Gender                        0\n",
       "NumberOfPersonVisiting        0\n",
       "NumberOfFollowups            45\n",
       "ProductPitched                0\n",
       "PreferredPropertyStar        26\n",
       "MaritalStatus                 0\n",
       "NumberOfTrips               140\n",
       "Passport                      0\n",
       "PitchSatisfactionScore        0\n",
       "OwnCar                        0\n",
       "NumberOfChildrenVisiting     66\n",
       "Designation                   0\n",
       "MonthlyIncome               233\n",
       "dtype: int64"
      ]
     },
     "execution_count": 3,
     "metadata": {},
     "output_type": "execute_result"
    }
   ],
   "source": [
    "df.isnull().sum()"
   ]
  },
  {
   "cell_type": "code",
   "execution_count": 4,
   "id": "e19f7eaf-8252-4373-aee4-f870bd9c38a7",
   "metadata": {},
   "outputs": [
    {
     "data": {
      "text/plain": [
       "Index(['CustomerID', 'ProdTaken', 'Age', 'TypeofContact', 'CityTier',\n",
       "       'DurationOfPitch', 'Occupation', 'Gender', 'NumberOfPersonVisiting',\n",
       "       'NumberOfFollowups', 'ProductPitched', 'PreferredPropertyStar',\n",
       "       'MaritalStatus', 'NumberOfTrips', 'Passport', 'PitchSatisfactionScore',\n",
       "       'OwnCar', 'NumberOfChildrenVisiting', 'Designation', 'MonthlyIncome'],\n",
       "      dtype='object')"
      ]
     },
     "execution_count": 4,
     "metadata": {},
     "output_type": "execute_result"
    }
   ],
   "source": [
    "df.columns"
   ]
  },
  {
   "cell_type": "code",
   "execution_count": 5,
   "id": "f61c26b8-3602-49df-9b15-6699e4187c9f",
   "metadata": {},
   "outputs": [
    {
     "name": "stdout",
     "output_type": "stream",
     "text": [
      "Male       2916\n",
      "Female     1817\n",
      "Fe Male     155\n",
      "Name: Gender, dtype: int64\n",
      "Married      2340\n",
      "Divorced      950\n",
      "Single        916\n",
      "Unmarried     682\n",
      "Name: MaritalStatus, dtype: int64\n",
      "Self Enquiry       3444\n",
      "Company Invited    1419\n",
      "Name: TypeofContact, dtype: int64\n"
     ]
    }
   ],
   "source": [
    "print(df['Gender'].value_counts())\n",
    "print(df['MaritalStatus'].value_counts())\n",
    "print(df['TypeofContact'].value_counts())"
   ]
  },
  {
   "cell_type": "markdown",
   "id": "37e5e715-1cc8-49a2-b326-725bca5c5c53",
   "metadata": {},
   "source": [
    "### Replacing duplicated comuns "
   ]
  },
  {
   "cell_type": "code",
   "execution_count": 6,
   "id": "0fb748a8-0442-45d8-adf4-3618b24d9970",
   "metadata": {},
   "outputs": [],
   "source": [
    "df['Gender']=df['Gender'].replace('Fe Male', 'Female')\n",
    "df['MaritalStatus']=df['MaritalStatus'].replace('Single','Unmarried')"
   ]
  },
  {
   "cell_type": "code",
   "execution_count": 7,
   "id": "5fc6cb11-493f-4f74-87ee-79eed0cda136",
   "metadata": {},
   "outputs": [
    {
     "data": {
      "text/plain": [
       "Male      2916\n",
       "Female    1972\n",
       "Name: Gender, dtype: int64"
      ]
     },
     "execution_count": 7,
     "metadata": {},
     "output_type": "execute_result"
    }
   ],
   "source": [
    "df['Gender'].value_counts()"
   ]
  },
  {
   "cell_type": "code",
   "execution_count": 8,
   "id": "f17697c8-eb53-4b81-abc6-e951084b0d68",
   "metadata": {},
   "outputs": [
    {
     "name": "stdout",
     "output_type": "stream",
     "text": [
      "CustomerID                  0.000000\n",
      "ProdTaken                   0.000000\n",
      "Age                         4.623568\n",
      "TypeofContact               0.511457\n",
      "CityTier                    0.000000\n",
      "DurationOfPitch             5.135025\n",
      "Occupation                  0.000000\n",
      "Gender                      0.000000\n",
      "NumberOfPersonVisiting      0.000000\n",
      "NumberOfFollowups           0.920622\n",
      "ProductPitched              0.000000\n",
      "PreferredPropertyStar       0.531915\n",
      "MaritalStatus               0.000000\n",
      "NumberOfTrips               2.864157\n",
      "Passport                    0.000000\n",
      "PitchSatisfactionScore      0.000000\n",
      "OwnCar                      0.000000\n",
      "NumberOfChildrenVisiting    1.350245\n",
      "Designation                 0.000000\n",
      "MonthlyIncome               4.766776\n",
      "dtype: float64\n",
      "Index(['CustomerID', 'ProdTaken', 'Age', 'TypeofContact', 'CityTier',\n",
      "       'DurationOfPitch', 'Occupation', 'Gender', 'NumberOfPersonVisiting',\n",
      "       'NumberOfFollowups', 'ProductPitched', 'PreferredPropertyStar',\n",
      "       'MaritalStatus', 'NumberOfTrips', 'Passport', 'PitchSatisfactionScore',\n",
      "       'OwnCar', 'NumberOfChildrenVisiting', 'Designation', 'MonthlyIncome'],\n",
      "      dtype='object')\n"
     ]
    }
   ],
   "source": [
    "percent=(df.isnull().sum() / len(df['CustomerID']))*100\n",
    "print(percent)\n",
    "print(percent.index)"
   ]
  },
  {
   "cell_type": "markdown",
   "id": "12f89846-1119-4488-9a36-b5b5b336b8b2",
   "metadata": {},
   "source": [
    "### Storing nan columns"
   ]
  },
  {
   "cell_type": "code",
   "execution_count": 9,
   "id": "5fc02bf3-e351-4cc7-a2ce-28c8d7016155",
   "metadata": {},
   "outputs": [
    {
     "name": "stdout",
     "output_type": "stream",
     "text": [
      "['Age', 'TypeofContact', 'DurationOfPitch', 'NumberOfFollowups', 'PreferredPropertyStar', 'NumberOfTrips', 'NumberOfChildrenVisiting', 'MonthlyIncome']\n"
     ]
    }
   ],
   "source": [
    "nan_values=[]\n",
    "for i in percent.index:\n",
    "    if percent[i]!=0:\n",
    "        nan_values.append(i)\n",
    "print(nan_values)"
   ]
  },
  {
   "cell_type": "markdown",
   "id": "47fbf425-62a2-49a1-b197-96ae1dcf8b35",
   "metadata": {},
   "source": [
    "### Visualizing data distribution"
   ]
  },
  {
   "cell_type": "code",
   "execution_count": 10,
   "id": "61cae719-d734-410b-b6f9-6d7617733b8c",
   "metadata": {},
   "outputs": [
    {
     "data": {
      "image/png": "[encoded data removed]",
      "text/plain": [
       "<Figure size 2000x1800 with 9 Axes>"
      ]
     },
     "metadata": {},
     "output_type": "display_data"
    }
   ],
   "source": [
    "plt.style.use(\"seaborn-v0_8\")\n",
    "df[nan_values].hist(bins=50, figsize=(20,18))\n",
    "plt.show()"
   ]
  },
  {
   "cell_type": "code",
   "execution_count": 11,
   "id": "d8b3ecd9-9af9-4cd9-861d-0aa5278fa309",
   "metadata": {},
   "outputs": [
    {
     "name": "stdout",
     "output_type": "stream",
     "text": [
      "<class 'pandas.core.frame.DataFrame'>\n",
      "RangeIndex: 4888 entries, 0 to 4887\n",
      "Data columns (total 8 columns):\n",
      " #   Column                    Non-Null Count  Dtype  \n",
      "---  ------                    --------------  -----  \n",
      " 0   Age                       4662 non-null   float64\n",
      " 1   TypeofContact             4863 non-null   object \n",
      " 2   DurationOfPitch           4637 non-null   float64\n",
      " 3   NumberOfFollowups         4843 non-null   float64\n",
      " 4   PreferredPropertyStar     4862 non-null   float64\n",
      " 5   NumberOfTrips             4748 non-null   float64\n",
      " 6   NumberOfChildrenVisiting  4822 non-null   float64\n",
      " 7   MonthlyIncome             4655 non-null   float64\n",
      "dtypes: float64(7), object(1)\n",
      "memory usage: 305.6+ KB\n"
     ]
    }
   ],
   "source": [
    "df[nan_values].info()"
   ]
  },
  {
   "cell_type": "markdown",
   "id": "010ef7b8-f5a3-4d10-b094-f0ee59d0f408",
   "metadata": {},
   "source": [
    "### Completing nan values"
   ]
  },
  {
   "cell_type": "code",
   "execution_count": 12,
   "id": "8716d67f-c0a4-49cb-8e5b-7b536ad148b6",
   "metadata": {},
   "outputs": [],
   "source": [
    "df.Age.fillna(df.Age.mean(),inplace=True)\n",
    "df.TypeofContact.fillna(df.TypeofContact.mode()[0],inplace=True) #fulfill the nan values with the mode\n",
    "df.DurationOfPitch.fillna(df.DurationOfPitch.mode()[0],inplace=True)\n",
    "df.NumberOfFollowups.fillna(df.NumberOfFollowups.mode()[0],inplace=True)\n",
    "df.PreferredPropertyStar.fillna(df.PreferredPropertyStar.mode()[0],inplace=True)\n",
    "df.NumberOfTrips.fillna(df.NumberOfTrips.mean(),inplace=True)\n",
    "df.NumberOfChildrenVisiting.fillna(df.NumberOfChildrenVisiting.mode()[0],inplace=True)\n",
    "df.MonthlyIncome.fillna(df.MonthlyIncome.median(),inplace=True)"
   ]
  },
  {
   "cell_type": "code",
   "execution_count": 13,
   "id": "586f2184-788a-45a3-8857-b3f229577367",
   "metadata": {},
   "outputs": [
    {
     "name": "stdout",
     "output_type": "stream",
     "text": [
      "CustomerID                  0.0\n",
      "ProdTaken                   0.0\n",
      "Age                         0.0\n",
      "TypeofContact               0.0\n",
      "CityTier                    0.0\n",
      "DurationOfPitch             0.0\n",
      "Occupation                  0.0\n",
      "Gender                      0.0\n",
      "NumberOfPersonVisiting      0.0\n",
      "NumberOfFollowups           0.0\n",
      "ProductPitched              0.0\n",
      "PreferredPropertyStar       0.0\n",
      "MaritalStatus               0.0\n",
      "NumberOfTrips               0.0\n",
      "Passport                    0.0\n",
      "PitchSatisfactionScore      0.0\n",
      "OwnCar                      0.0\n",
      "NumberOfChildrenVisiting    0.0\n",
      "Designation                 0.0\n",
      "MonthlyIncome               0.0\n",
      "dtype: float64\n"
     ]
    }
   ],
   "source": [
    "print((df.isnull().sum() / len(df['CustomerID']))*100)"
   ]
  },
  {
   "cell_type": "code",
   "execution_count": 14,
   "id": "9d0430f1-065e-4d5e-9a99-f526b432ca11",
   "metadata": {},
   "outputs": [
    {
     "name": "stdout",
     "output_type": "stream",
     "text": [
      "<class 'pandas.core.frame.DataFrame'>\n",
      "RangeIndex: 4888 entries, 0 to 4887\n",
      "Data columns (total 20 columns):\n",
      " #   Column                    Non-Null Count  Dtype  \n",
      "---  ------                    --------------  -----  \n",
      " 0   CustomerID                4888 non-null   int64  \n",
      " 1   ProdTaken                 4888 non-null   int64  \n",
      " 2   Age                       4888 non-null   float64\n",
      " 3   TypeofContact             4888 non-null   object \n",
      " 4   CityTier                  4888 non-null   int64  \n",
      " 5   DurationOfPitch           4888 non-null   float64\n",
      " 6   Occupation                4888 non-null   object \n",
      " 7   Gender                    4888 non-null   object \n",
      " 8   NumberOfPersonVisiting    4888 non-null   int64  \n",
      " 9   NumberOfFollowups         4888 non-null   float64\n",
      " 10  ProductPitched            4888 non-null   object \n",
      " 11  PreferredPropertyStar     4888 non-null   float64\n",
      " 12  MaritalStatus             4888 non-null   object \n",
      " 13  NumberOfTrips             4888 non-null   float64\n",
      " 14  Passport                  4888 non-null   int64  \n",
      " 15  PitchSatisfactionScore    4888 non-null   int64  \n",
      " 16  OwnCar                    4888 non-null   int64  \n",
      " 17  NumberOfChildrenVisiting  4888 non-null   float64\n",
      " 18  Designation               4888 non-null   object \n",
      " 19  MonthlyIncome             4888 non-null   float64\n",
      "dtypes: float64(7), int64(7), object(6)\n",
      "memory usage: 763.9+ KB\n",
      "None\n"
     ]
    }
   ],
   "source": [
    "print(df.info())"
   ]
  },
  {
   "cell_type": "markdown",
   "id": "80b3d2fc-8926-47c4-9850-a573c258145f",
   "metadata": {},
   "source": [
    "### Dropping CustomerID, which does not aggregate important information"
   ]
  },
  {
   "cell_type": "code",
   "execution_count": 15,
   "id": "c4f6ed6d-f6e2-40dd-8c39-17fc58b206cb",
   "metadata": {},
   "outputs": [],
   "source": [
    "df.drop('CustomerID',axis=1,inplace=True)"
   ]
  },
  {
   "cell_type": "markdown",
   "id": "23c99b2a-cb62-44ac-a3a5-0935fb24d49e",
   "metadata": {},
   "source": [
    "### Creating new column for feature"
   ]
  },
  {
   "cell_type": "code",
   "execution_count": 16,
   "id": "df5d831c-966e-4224-9d88-b3cff73e1af6",
   "metadata": {},
   "outputs": [],
   "source": [
    "df['TotalVisting'] = df['NumberOfPersonVisiting']+df['NumberOfChildrenVisiting']\n",
    "df.drop(columns=['NumberOfPersonVisiting','NumberOfChildrenVisiting'],axis=1,inplace=True)"
   ]
  },
  {
   "cell_type": "markdown",
   "id": "6a01ad83-cb4a-45f8-9242-9877c4a4bd59",
   "metadata": {},
   "source": [
    "### Number of features by type"
   ]
  },
  {
   "cell_type": "code",
   "execution_count": 17,
   "id": "c502589c-29eb-4646-bc20-6fba4cb283ef",
   "metadata": {},
   "outputs": [
    {
     "name": "stdout",
     "output_type": "stream",
     "text": [
      "Num of Numeric Features:  12\n",
      "Num of Numeric Features:  6\n"
     ]
    }
   ],
   "source": [
    "num_features = [feature for feature in df.columns if df[feature].dtype != 'O']\n",
    "print('Num of Numeric Features: ',len(num_features))\n",
    "\n",
    "cat_features = [feature for feature in df.columns if df[feature].dtype == 'O']\n",
    "print('Num of Numeric Features: ',len(cat_features))"
   ]
  },
  {
   "cell_type": "markdown",
   "id": "e5d76fe5-996f-4519-a2ec-e894fbb88e1c",
   "metadata": {},
   "source": [
    "### Separating the data into independent and dependent features"
   ]
  },
  {
   "cell_type": "code",
   "execution_count": 18,
   "id": "12bd0b15-e950-4fac-9294-7618e339fac1",
   "metadata": {},
   "outputs": [],
   "source": [
    "X=df.drop(['ProdTaken'],axis=1)\n",
    "y=df['ProdTaken']"
   ]
  },
  {
   "cell_type": "code",
   "execution_count": 19,
   "id": "f493c1ef-52a9-46f8-a32d-5da394997fef",
   "metadata": {},
   "outputs": [],
   "source": [
    "from sklearn.model_selection import train_test_split\n",
    "X_train,X_test,y_train,y_test=train_test_split(X,y,test_size=0.2,random_state=10)"
   ]
  },
  {
   "cell_type": "markdown",
   "id": "b37b297f-b476-4179-99fa-050d8d5df611",
   "metadata": {},
   "source": [
    "### Starting OneHotEncoding for categorical features and StandardScaler for numeric features"
   ]
  },
  {
   "cell_type": "code",
   "execution_count": 20,
   "id": "4ae645be-03c4-4093-a5a5-7be2810d2d32",
   "metadata": {},
   "outputs": [],
   "source": [
    "from sklearn.preprocessing import OneHotEncoder,StandardScaler\n",
    "from sklearn.compose import ColumnTransformer"
   ]
  },
  {
   "cell_type": "code",
   "execution_count": 21,
   "id": "66ee5194-fb1a-4b6d-af23-47ed7d81d939",
   "metadata": {},
   "outputs": [],
   "source": [
    "cat_features=X.select_dtypes(include='object').columns\n",
    "num_features=X.select_dtypes(exclude='object').columns\n",
    "num_transformer=StandardScaler()\n",
    "oh_transformer=OneHotEncoder(drop='first')\n",
    "preprocessor=ColumnTransformer(\n",
    "    [\n",
    "        ('OneHotEncoder',oh_transformer,cat_features),\n",
    "        ('StandardScaler',num_transformer,num_features)\n",
    "    ]\n",
    ")"
   ]
  },
  {
   "cell_type": "markdown",
   "id": "4755da66-3622-4250-8178-5fce9accbbfb",
   "metadata": {},
   "source": [
    "### Applying Transformation in training (fit_transform)"
   ]
  },
  {
   "cell_type": "code",
   "execution_count": 22,
   "id": "a4de5b37-33e3-4876-b86c-efee9bc2af3b",
   "metadata": {},
   "outputs": [
    {
     "name": "stdout",
     "output_type": "stream",
     "text": [
      "    0    1    2    3    4    5    6    7    8    9   ...        16        17  \\\n",
      "0  1.0  0.0  1.0  0.0  0.0  1.0  0.0  0.0  0.0  0.0  ... -0.711953 -0.747741   \n",
      "1  1.0  0.0  1.0  0.0  0.0  0.0  0.0  1.0  0.0  1.0  ... -0.711953  0.680586   \n",
      "2  1.0  0.0  0.0  1.0  1.0  0.0  0.0  0.0  0.0  1.0  ... -0.711953 -0.747741   \n",
      "3  1.0  0.0  1.0  0.0  1.0  1.0  0.0  0.0  0.0  0.0  ... -0.711953 -0.985796   \n",
      "4  0.0  0.0  0.0  1.0  1.0  0.0  0.0  1.0  0.0  1.0  ... -0.711953  0.323505   \n",
      "\n",
      "         18        19        20        21        22        23        24  \\\n",
      "0 -0.713603  0.530883  0.430533 -0.644305  0.678514  0.784667 -0.226963   \n",
      "1  0.293685 -0.727912 -0.685581 -0.644305 -1.518275  0.784667  0.369702   \n",
      "2  0.293685  0.530883 -0.685581 -0.644305  1.410777  0.784667 -0.265800   \n",
      "3 -1.720892 -0.727912 -0.685581 -0.644305 -0.053749  0.784667  0.010892   \n",
      "4  1.300974  1.789679  0.430533  1.552061  1.410777  0.784667  0.973903   \n",
      "\n",
      "         25  \n",
      "0 -1.496955  \n",
      "1 -0.080598  \n",
      "2  0.627580  \n",
      "3  2.043937  \n",
      "4  2.043937  \n",
      "\n",
      "[5 rows x 26 columns]\n"
     ]
    }
   ],
   "source": [
    "X_train=preprocessor.fit_transform(X_train)\n",
    "X_train=pd.DataFrame(X_train)\n",
    "print(X_train.head())"
   ]
  },
  {
   "cell_type": "markdown",
   "id": "d88c61c0-0eff-48ac-bead-d79413ccceb2",
   "metadata": {},
   "source": [
    "### Applying Transformation in testing (transform)"
   ]
  },
  {
   "cell_type": "code",
   "execution_count": 23,
   "id": "fc67bd02-dbb3-4321-b7fc-f480b6e3befc",
   "metadata": {},
   "outputs": [],
   "source": [
    "X_test=preprocessor.transform(X_test)\n",
    "X_test=pd.DataFrame(X_test)"
   ]
  },
  {
   "cell_type": "markdown",
   "id": "7afbceeb-1e38-492d-be74-912ddfdbef50",
   "metadata": {},
   "source": [
    "## Training The Models"
   ]
  },
  {
   "cell_type": "code",
   "execution_count": 24,
   "id": "66e33e83-9399-41ae-9f51-399369bc57ec",
   "metadata": {},
   "outputs": [],
   "source": [
    "from sklearn.ensemble import RandomForestClassifier\n",
    "from sklearn.metrics import accuracy_score,classification_report,ConfusionMatrixDisplay, precision_score, \\\n",
    "                            recall_score,f1_score,roc_auc_score,roc_curve\n",
    "from sklearn.tree import DecisionTreeClassifier\n",
    "from sklearn.linear_model import LogisticRegression"
   ]
  },
  {
   "cell_type": "code",
   "execution_count": 25,
   "id": "a3594649-f4e1-4f22-9ab8-bed5051b3504",
   "metadata": {},
   "outputs": [],
   "source": [
    "models={\n",
    "    \"Logistic Regression\":LogisticRegression(),\n",
    "    \"Decision Tree\":DecisionTreeClassifier(),\n",
    "    \"Random Forest\":RandomForestClassifier()\n",
    "}"
   ]
  },
  {
   "cell_type": "code",
   "execution_count": 26,
   "id": "75a3d0e0-710c-478d-b911-5fc17e037696",
   "metadata": {},
   "outputs": [
    {
     "name": "stdout",
     "output_type": "stream",
     "text": [
      "Logistic Regression\n",
      "Model performance for Training Set\n",
      "- Accuracy: 0.8460\n",
      "- F1 score: 0.8242\n",
      "- Precision: 0.7105\n",
      "- Recall: 0.3491\n",
      "- Roc Auc score: 0.6574\n",
      "----------------------------------\n",
      "Model Performance for Test Set\n",
      "- Accuracy: 0.8487\n",
      "- F1 score: 0.8287\n",
      "- Precision: 0.5765\n",
      "- Recall: 0.3043\n",
      "- Roc Auc score: 0.6301\n",
      "===================================\n",
      "\n",
      "\n",
      "Decision Tree\n",
      "Model performance for Training Set\n",
      "- Accuracy: 1.0000\n",
      "- F1 score: 1.0000\n",
      "- Precision: 1.0000\n",
      "- Recall: 1.0000\n",
      "- Roc Auc score: 1.0000\n",
      "----------------------------------\n",
      "Model Performance for Test Set\n",
      "- Accuracy: 0.9121\n",
      "- F1 score: 0.9139\n",
      "- Precision: 0.7095\n",
      "- Recall: 0.7888\n",
      "- Roc Auc score: 0.8626\n",
      "===================================\n",
      "\n",
      "\n",
      "Random Forest\n",
      "Model performance for Training Set\n",
      "- Accuracy: 1.0000\n",
      "- F1 score: 1.0000\n",
      "- Precision: 1.0000\n",
      "- Recall: 1.0000\n",
      "- Roc Auc score: 1.0000\n",
      "----------------------------------\n",
      "Model Performance for Test Set\n",
      "- Accuracy: 0.9274\n",
      "- F1 score: 0.9208\n",
      "- Precision: 0.9327\n",
      "- Recall: 0.6025\n",
      "- Roc Auc score: 0.7970\n",
      "===================================\n",
      "\n",
      "\n"
     ]
    }
   ],
   "source": [
    "for i in range(len(list(models))):\n",
    "    model=list(models.values())[i]\n",
    "    model.fit(X_train,y_train)\n",
    "    \n",
    "    y_train_pred=model.predict(X_train)\n",
    "    y_test_pred=model.predict(X_test)\n",
    "    \n",
    "    model_train_accuracy=accuracy_score(y_train,y_train_pred)\n",
    "    model_train_f1=f1_score(y_train,y_train_pred,average='weighted')\n",
    "    model_train_precision=precision_score(y_train,y_train_pred)\n",
    "    model_train_recall=recall_score(y_train,y_train_pred)\n",
    "    model_train_rocauc_score=roc_auc_score(y_train,y_train_pred)\n",
    "    \n",
    "    model_test_accuracy=accuracy_score(y_test,y_test_pred)\n",
    "    model_test_f1=f1_score(y_test,y_test_pred,average='weighted')\n",
    "    model_test_precision=precision_score(y_test,y_test_pred)\n",
    "    model_test_recall=recall_score(y_test,y_test_pred)\n",
    "    model_test_rocauc_score=roc_auc_score(y_test,y_test_pred)\n",
    "    \n",
    "    print(list(models.keys())[i])\n",
    "    \n",
    "    print('Model performance for Training Set')\n",
    "    print(f\"- Accuracy: {model_train_accuracy:.4f}\")\n",
    "    print(f\"- F1 score: {model_train_f1:.4f}\")\n",
    "    \n",
    "    print(f\"- Precision: {model_train_precision:.4f}\")\n",
    "    print(f\"- Recall: {model_train_recall:.4f}\")\n",
    "    print(f\"- Roc Auc score: {model_train_rocauc_score:.4f}\")\n",
    "    \n",
    "    \n",
    "    print('----------------------------------')\n",
    "    \n",
    "    print('Model Performance for Test Set')\n",
    "    print(f\"- Accuracy: {model_test_accuracy:.4f}\")\n",
    "    print(f\"- F1 score: {model_test_f1:.4f}\")\n",
    "    \n",
    "    print(f\"- Precision: {model_test_precision:.4f}\")\n",
    "    print(f\"- Recall: {model_test_recall:.4f}\")\n",
    "    print(f\"- Roc Auc score: {model_test_rocauc_score:.4f}\")\n",
    "    \n",
    "    print('='*35)\n",
    "    print('\\n')"
   ]
  },
  {
   "cell_type": "markdown",
   "id": "02ca33b2-aa09-48fa-8301-4bc549184df1",
   "metadata": {},
   "source": [
    "1. Random Forest got the best accuracy"
   ]
  },
  {
   "cell_type": "markdown",
   "id": "3ee5a6a0-1e7c-482a-92ce-3c9124c15a97",
   "metadata": {},
   "source": [
    "## Hyperparameter Tuning"
   ]
  },
  {
   "cell_type": "code",
   "execution_count": null,
   "id": "e2bc213f-0dfa-4af9-9351-ecbf6c0bdb84",
   "metadata": {},
   "outputs": [],
   "source": [
    "rf_params = {\"max_depth\": [5, 8, 15, None, 10],\n",
    "            \"max_features\": [5, 7, \"sqrt\", 8],\n",
    "            \"min_samples_split\": [2, 8, 15, 20],\n",
    "            \"n_estimators\": [100, 200, 500, 1000]}"
   ]
  },
  {
   "cell_type": "code",
   "execution_count": null,
   "id": "0f8c8e11-5a28-48ee-a4f0-18535341f6b2",
   "metadata": {},
   "outputs": [],
   "source": [
    "randomcv_models = [\n",
    "                    (\"RF\", RandomForestClassifier(), rf_params)\n",
    "]"
   ]
  },
  {
   "cell_type": "code",
   "execution_count": null,
   "id": "b7811f53-ba28-4b9d-9f74-1b0847ec1c42",
   "metadata": {},
   "outputs": [],
   "source": [
    "from sklearn.model_selection import RandomizedSearchCV"
   ]
  },
  {
   "cell_type": "code",
   "execution_count": null,
   "id": "948a7145-6b5c-41e5-ab11-34e7778454af",
   "metadata": {},
   "outputs": [],
   "source": [
    "model_parm={}\n",
    "for name,model,params in randomcv_models:\n",
    "    random=RandomizedSearchCV(estimator=model,\n",
    "                              param_distributions=params,\n",
    "                              n_iter=100,\n",
    "                              cv=3,\n",
    "                              verbose=2,\n",
    "                              )\n",
    "    random.fit(X_train,y_train)\n",
    "    model_parm[name]=random.best_params_"
   ]
  },
  {
   "cell_type": "code",
   "execution_count": 27,
   "id": "f4192c33-899c-45ff-9ecd-036921ac9130",
   "metadata": {},
   "outputs": [
    {
     "name": "stdout",
     "output_type": "stream",
     "text": [
      "Fitting 3 folds for each of 100 candidates, totalling 300 fits\n",
      "[CV] END max_depth=15, max_features=8, min_samples_split=20, n_estimators=500; total time=   2.6s\n",
      "[CV] END max_depth=15, max_features=8, min_samples_split=20, n_estimators=500; total time=   2.5s\n",
      "[CV] END max_depth=15, max_features=8, min_samples_split=20, n_estimators=500; total time=   2.6s\n"
     ]
    },
    {
     "name": "stderr",
     "output_type": "stream",
     "text": [
      "/opt/conda/lib/python3.10/site-packages/sklearn/ensemble/_forest.py:425: FutureWarning: `max_features='auto'` has been deprecated in 1.1 and will be removed in 1.3. To keep the past behaviour, explicitly set `max_features='sqrt'` or remove this parameter as it is also the default value for RandomForestClassifiers and ExtraTreesClassifiers.\n",
      "  warn(\n"
     ]
    },
    {
     "name": "stdout",
     "output_type": "stream",
     "text": [
      "[CV] END max_depth=8, max_features=auto, min_samples_split=8, n_estimators=200; total time=   0.8s\n"
     ]
    },
    {
     "name": "stderr",
     "output_type": "stream",
     "text": [
      "/opt/conda/lib/python3.10/site-packages/sklearn/ensemble/_forest.py:425: FutureWarning: `max_features='auto'` has been deprecated in 1.1 and will be removed in 1.3. To keep the past behaviour, explicitly set `max_features='sqrt'` or remove this parameter as it is also the default value for RandomForestClassifiers and ExtraTreesClassifiers.\n",
      "  warn(\n"
     ]
    },
    {
     "name": "stdout",
     "output_type": "stream",
     "text": [
      "[CV] END max_depth=8, max_features=auto, min_samples_split=8, n_estimators=200; total time=   0.8s\n"
     ]
    },
    {
     "name": "stderr",
     "output_type": "stream",
     "text": [
      "/opt/conda/lib/python3.10/site-packages/sklearn/ensemble/_forest.py:425: FutureWarning: `max_features='auto'` has been deprecated in 1.1 and will be removed in 1.3. To keep the past behaviour, explicitly set `max_features='sqrt'` or remove this parameter as it is also the default value for RandomForestClassifiers and ExtraTreesClassifiers.\n",
      "  warn(\n"
     ]
    },
    {
     "name": "stdout",
     "output_type": "stream",
     "text": [
      "[CV] END max_depth=8, max_features=auto, min_samples_split=8, n_estimators=200; total time=   0.8s\n",
      "[CV] END max_depth=10, max_features=5, min_samples_split=20, n_estimators=500; total time=   2.0s\n",
      "[CV] END max_depth=10, max_features=5, min_samples_split=20, n_estimators=500; total time=   2.0s\n",
      "[CV] END max_depth=10, max_features=5, min_samples_split=20, n_estimators=500; total time=   2.0s\n",
      "[CV] END max_depth=None, max_features=8, min_samples_split=8, n_estimators=200; total time=   1.1s\n",
      "[CV] END max_depth=None, max_features=8, min_samples_split=8, n_estimators=200; total time=   1.1s\n",
      "[CV] END max_depth=None, max_features=8, min_samples_split=8, n_estimators=200; total time=   1.1s\n",
      "[CV] END max_depth=8, max_features=8, min_samples_split=15, n_estimators=100; total time=   0.5s\n",
      "[CV] END max_depth=8, max_features=8, min_samples_split=15, n_estimators=100; total time=   0.5s\n",
      "[CV] END max_depth=8, max_features=8, min_samples_split=15, n_estimators=100; total time=   0.5s\n",
      "[CV] END max_depth=5, max_features=8, min_samples_split=20, n_estimators=500; total time=   1.9s\n",
      "[CV] END max_depth=5, max_features=8, min_samples_split=20, n_estimators=500; total time=   1.9s\n",
      "[CV] END max_depth=5, max_features=8, min_samples_split=20, n_estimators=500; total time=   1.9s\n",
      "[CV] END max_depth=8, max_features=8, min_samples_split=20, n_estimators=200; total time=   1.0s\n",
      "[CV] END max_depth=8, max_features=8, min_samples_split=20, n_estimators=200; total time=   0.9s\n",
      "[CV] END max_depth=8, max_features=8, min_samples_split=20, n_estimators=200; total time=   0.9s\n",
      "[CV] END max_depth=10, max_features=5, min_samples_split=20, n_estimators=200; total time=   0.8s\n",
      "[CV] END max_depth=10, max_features=5, min_samples_split=20, n_estimators=200; total time=   0.8s\n",
      "[CV] END max_depth=10, max_features=5, min_samples_split=20, n_estimators=200; total time=   0.8s\n",
      "[CV] END max_depth=5, max_features=5, min_samples_split=2, n_estimators=100; total time=   0.3s\n",
      "[CV] END max_depth=5, max_features=5, min_samples_split=2, n_estimators=100; total time=   0.3s\n",
      "[CV] END max_depth=5, max_features=5, min_samples_split=2, n_estimators=100; total time=   0.3s\n",
      "[CV] END max_depth=None, max_features=7, min_samples_split=15, n_estimators=1000; total time=   4.9s\n",
      "[CV] END max_depth=None, max_features=7, min_samples_split=15, n_estimators=1000; total time=   4.8s\n",
      "[CV] END max_depth=None, max_features=7, min_samples_split=15, n_estimators=1000; total time=   4.9s\n"
     ]
    },
    {
     "name": "stderr",
     "output_type": "stream",
     "text": [
      "/opt/conda/lib/python3.10/site-packages/sklearn/ensemble/_forest.py:425: FutureWarning: `max_features='auto'` has been deprecated in 1.1 and will be removed in 1.3. To keep the past behaviour, explicitly set `max_features='sqrt'` or remove this parameter as it is also the default value for RandomForestClassifiers and ExtraTreesClassifiers.\n",
      "  warn(\n"
     ]
    },
    {
     "name": "stdout",
     "output_type": "stream",
     "text": [
      "[CV] END max_depth=8, max_features=auto, min_samples_split=15, n_estimators=100; total time=   0.4s\n"
     ]
    },
    {
     "name": "stderr",
     "output_type": "stream",
     "text": [
      "/opt/conda/lib/python3.10/site-packages/sklearn/ensemble/_forest.py:425: FutureWarning: `max_features='auto'` has been deprecated in 1.1 and will be removed in 1.3. To keep the past behaviour, explicitly set `max_features='sqrt'` or remove this parameter as it is also the default value for RandomForestClassifiers and ExtraTreesClassifiers.\n",
      "  warn(\n"
     ]
    },
    {
     "name": "stdout",
     "output_type": "stream",
     "text": [
      "[CV] END max_depth=8, max_features=auto, min_samples_split=15, n_estimators=100; total time=   0.4s\n"
     ]
    },
    {
     "name": "stderr",
     "output_type": "stream",
     "text": [
      "/opt/conda/lib/python3.10/site-packages/sklearn/ensemble/_forest.py:425: FutureWarning: `max_features='auto'` has been deprecated in 1.1 and will be removed in 1.3. To keep the past behaviour, explicitly set `max_features='sqrt'` or remove this parameter as it is also the default value for RandomForestClassifiers and ExtraTreesClassifiers.\n",
      "  warn(\n"
     ]
    },
    {
     "name": "stdout",
     "output_type": "stream",
     "text": [
      "[CV] END max_depth=8, max_features=auto, min_samples_split=15, n_estimators=100; total time=   0.4s\n",
      "[CV] END max_depth=10, max_features=5, min_samples_split=8, n_estimators=500; total time=   2.1s\n",
      "[CV] END max_depth=10, max_features=5, min_samples_split=8, n_estimators=500; total time=   2.1s\n",
      "[CV] END max_depth=10, max_features=5, min_samples_split=8, n_estimators=500; total time=   2.1s\n",
      "[CV] END max_depth=15, max_features=7, min_samples_split=8, n_estimators=1000; total time=   5.2s\n",
      "[CV] END max_depth=15, max_features=7, min_samples_split=8, n_estimators=1000; total time=   5.0s\n",
      "[CV] END max_depth=15, max_features=7, min_samples_split=8, n_estimators=1000; total time=   5.4s\n",
      "[CV] END max_depth=None, max_features=5, min_samples_split=15, n_estimators=200; total time=   0.9s\n",
      "[CV] END max_depth=None, max_features=5, min_samples_split=15, n_estimators=200; total time=   0.9s\n",
      "[CV] END max_depth=None, max_features=5, min_samples_split=15, n_estimators=200; total time=   0.9s\n"
     ]
    },
    {
     "name": "stderr",
     "output_type": "stream",
     "text": [
      "/opt/conda/lib/python3.10/site-packages/sklearn/ensemble/_forest.py:425: FutureWarning: `max_features='auto'` has been deprecated in 1.1 and will be removed in 1.3. To keep the past behaviour, explicitly set `max_features='sqrt'` or remove this parameter as it is also the default value for RandomForestClassifiers and ExtraTreesClassifiers.\n",
      "  warn(\n"
     ]
    },
    {
     "name": "stdout",
     "output_type": "stream",
     "text": [
      "[CV] END max_depth=8, max_features=auto, min_samples_split=8, n_estimators=500; total time=   2.0s\n"
     ]
    },
    {
     "name": "stderr",
     "output_type": "stream",
     "text": [
      "/opt/conda/lib/python3.10/site-packages/sklearn/ensemble/_forest.py:425: FutureWarning: `max_features='auto'` has been deprecated in 1.1 and will be removed in 1.3. To keep the past behaviour, explicitly set `max_features='sqrt'` or remove this parameter as it is also the default value for RandomForestClassifiers and ExtraTreesClassifiers.\n",
      "  warn(\n"
     ]
    },
    {
     "name": "stdout",
     "output_type": "stream",
     "text": [
      "[CV] END max_depth=8, max_features=auto, min_samples_split=8, n_estimators=500; total time=   2.0s\n"
     ]
    },
    {
     "name": "stderr",
     "output_type": "stream",
     "text": [
      "/opt/conda/lib/python3.10/site-packages/sklearn/ensemble/_forest.py:425: FutureWarning: `max_features='auto'` has been deprecated in 1.1 and will be removed in 1.3. To keep the past behaviour, explicitly set `max_features='sqrt'` or remove this parameter as it is also the default value for RandomForestClassifiers and ExtraTreesClassifiers.\n",
      "  warn(\n"
     ]
    },
    {
     "name": "stdout",
     "output_type": "stream",
     "text": [
      "[CV] END max_depth=8, max_features=auto, min_samples_split=8, n_estimators=500; total time=   2.0s\n",
      "[CV] END max_depth=5, max_features=7, min_samples_split=8, n_estimators=1000; total time=   3.6s\n",
      "[CV] END max_depth=5, max_features=7, min_samples_split=8, n_estimators=1000; total time=   3.6s\n",
      "[CV] END max_depth=5, max_features=7, min_samples_split=8, n_estimators=1000; total time=   3.6s\n",
      "[CV] END max_depth=5, max_features=8, min_samples_split=8, n_estimators=1000; total time=   3.8s\n",
      "[CV] END max_depth=5, max_features=8, min_samples_split=8, n_estimators=1000; total time=   3.9s\n",
      "[CV] END max_depth=5, max_features=8, min_samples_split=8, n_estimators=1000; total time=   3.8s\n",
      "[CV] END max_depth=5, max_features=8, min_samples_split=20, n_estimators=1000; total time=   3.7s\n",
      "[CV] END max_depth=5, max_features=8, min_samples_split=20, n_estimators=1000; total time=   3.8s\n",
      "[CV] END max_depth=5, max_features=8, min_samples_split=20, n_estimators=1000; total time=   3.7s\n",
      "[CV] END max_depth=15, max_features=7, min_samples_split=8, n_estimators=100; total time=   0.5s\n",
      "[CV] END max_depth=15, max_features=7, min_samples_split=8, n_estimators=100; total time=   0.5s\n",
      "[CV] END max_depth=15, max_features=7, min_samples_split=8, n_estimators=100; total time=   0.5s\n",
      "[CV] END max_depth=15, max_features=5, min_samples_split=15, n_estimators=100; total time=   0.4s\n",
      "[CV] END max_depth=15, max_features=5, min_samples_split=15, n_estimators=100; total time=   0.4s\n",
      "[CV] END max_depth=15, max_features=5, min_samples_split=15, n_estimators=100; total time=   0.4s\n",
      "[CV] END max_depth=5, max_features=5, min_samples_split=20, n_estimators=200; total time=   0.7s\n",
      "[CV] END max_depth=5, max_features=5, min_samples_split=20, n_estimators=200; total time=   0.6s\n",
      "[CV] END max_depth=5, max_features=5, min_samples_split=20, n_estimators=200; total time=   0.6s\n",
      "[CV] END max_depth=8, max_features=5, min_samples_split=20, n_estimators=200; total time=   0.8s\n",
      "[CV] END max_depth=8, max_features=5, min_samples_split=20, n_estimators=200; total time=   0.8s\n",
      "[CV] END max_depth=8, max_features=5, min_samples_split=20, n_estimators=200; total time=   0.8s\n",
      "[CV] END max_depth=8, max_features=8, min_samples_split=8, n_estimators=100; total time=   0.5s\n",
      "[CV] END max_depth=8, max_features=8, min_samples_split=8, n_estimators=100; total time=   0.5s\n",
      "[CV] END max_depth=8, max_features=8, min_samples_split=8, n_estimators=100; total time=   0.5s\n",
      "[CV] END max_depth=15, max_features=8, min_samples_split=15, n_estimators=500; total time=   2.6s\n",
      "[CV] END max_depth=15, max_features=8, min_samples_split=15, n_estimators=500; total time=   2.6s\n",
      "[CV] END max_depth=15, max_features=8, min_samples_split=15, n_estimators=500; total time=   2.6s\n",
      "[CV] END max_depth=5, max_features=5, min_samples_split=8, n_estimators=200; total time=   0.6s\n",
      "[CV] END max_depth=5, max_features=5, min_samples_split=8, n_estimators=200; total time=   0.6s\n",
      "[CV] END max_depth=5, max_features=5, min_samples_split=8, n_estimators=200; total time=   0.7s\n",
      "[CV] END max_depth=None, max_features=8, min_samples_split=8, n_estimators=1000; total time=   5.5s\n",
      "[CV] END max_depth=None, max_features=8, min_samples_split=8, n_estimators=1000; total time=   5.3s\n",
      "[CV] END max_depth=None, max_features=8, min_samples_split=8, n_estimators=1000; total time=   5.4s\n",
      "[CV] END max_depth=5, max_features=8, min_samples_split=2, n_estimators=500; total time=   1.9s\n",
      "[CV] END max_depth=5, max_features=8, min_samples_split=2, n_estimators=500; total time=   1.9s\n",
      "[CV] END max_depth=5, max_features=8, min_samples_split=2, n_estimators=500; total time=   1.9s\n",
      "[CV] END max_depth=8, max_features=5, min_samples_split=15, n_estimators=1000; total time=   3.9s\n",
      "[CV] END max_depth=8, max_features=5, min_samples_split=15, n_estimators=1000; total time=   3.8s\n",
      "[CV] END max_depth=8, max_features=5, min_samples_split=15, n_estimators=1000; total time=   3.8s\n",
      "[CV] END max_depth=None, max_features=8, min_samples_split=15, n_estimators=100; total time=   0.5s\n",
      "[CV] END max_depth=None, max_features=8, min_samples_split=15, n_estimators=100; total time=   0.5s\n",
      "[CV] END max_depth=None, max_features=8, min_samples_split=15, n_estimators=100; total time=   0.5s\n",
      "[CV] END max_depth=10, max_features=5, min_samples_split=2, n_estimators=1000; total time=   4.3s\n",
      "[CV] END max_depth=10, max_features=5, min_samples_split=2, n_estimators=1000; total time=   4.3s\n",
      "[CV] END max_depth=10, max_features=5, min_samples_split=2, n_estimators=1000; total time=   4.3s\n",
      "[CV] END max_depth=10, max_features=5, min_samples_split=15, n_estimators=1000; total time=   4.1s\n",
      "[CV] END max_depth=10, max_features=5, min_samples_split=15, n_estimators=1000; total time=   4.1s\n",
      "[CV] END max_depth=10, max_features=5, min_samples_split=15, n_estimators=1000; total time=   4.2s\n",
      "[CV] END max_depth=15, max_features=7, min_samples_split=2, n_estimators=100; total time=   0.5s\n",
      "[CV] END max_depth=15, max_features=7, min_samples_split=2, n_estimators=100; total time=   0.5s\n",
      "[CV] END max_depth=15, max_features=7, min_samples_split=2, n_estimators=100; total time=   0.5s\n",
      "[CV] END max_depth=5, max_features=7, min_samples_split=15, n_estimators=1000; total time=   3.6s\n",
      "[CV] END max_depth=5, max_features=7, min_samples_split=15, n_estimators=1000; total time=   3.6s\n",
      "[CV] END max_depth=5, max_features=7, min_samples_split=15, n_estimators=1000; total time=   3.5s\n",
      "[CV] END max_depth=5, max_features=8, min_samples_split=2, n_estimators=100; total time=   0.4s\n",
      "[CV] END max_depth=5, max_features=8, min_samples_split=2, n_estimators=100; total time=   0.4s\n",
      "[CV] END max_depth=5, max_features=8, min_samples_split=2, n_estimators=100; total time=   0.4s\n",
      "[CV] END max_depth=15, max_features=5, min_samples_split=15, n_estimators=500; total time=   2.1s\n",
      "[CV] END max_depth=15, max_features=5, min_samples_split=15, n_estimators=500; total time=   2.1s\n",
      "[CV] END max_depth=15, max_features=5, min_samples_split=15, n_estimators=500; total time=   2.1s\n",
      "[CV] END max_depth=5, max_features=7, min_samples_split=2, n_estimators=100; total time=   0.4s\n",
      "[CV] END max_depth=5, max_features=7, min_samples_split=2, n_estimators=100; total time=   0.4s\n",
      "[CV] END max_depth=5, max_features=7, min_samples_split=2, n_estimators=100; total time=   0.4s\n",
      "[CV] END max_depth=15, max_features=7, min_samples_split=20, n_estimators=1000; total time=   4.8s\n",
      "[CV] END max_depth=15, max_features=7, min_samples_split=20, n_estimators=1000; total time=   4.7s\n",
      "[CV] END max_depth=15, max_features=7, min_samples_split=20, n_estimators=1000; total time=   4.8s\n"
     ]
    },
    {
     "name": "stderr",
     "output_type": "stream",
     "text": [
      "/opt/conda/lib/python3.10/site-packages/sklearn/ensemble/_forest.py:425: FutureWarning: `max_features='auto'` has been deprecated in 1.1 and will be removed in 1.3. To keep the past behaviour, explicitly set `max_features='sqrt'` or remove this parameter as it is also the default value for RandomForestClassifiers and ExtraTreesClassifiers.\n",
      "  warn(\n"
     ]
    },
    {
     "name": "stdout",
     "output_type": "stream",
     "text": [
      "[CV] END max_depth=None, max_features=auto, min_samples_split=8, n_estimators=200; total time=   0.9s\n"
     ]
    },
    {
     "name": "stderr",
     "output_type": "stream",
     "text": [
      "/opt/conda/lib/python3.10/site-packages/sklearn/ensemble/_forest.py:425: FutureWarning: `max_features='auto'` has been deprecated in 1.1 and will be removed in 1.3. To keep the past behaviour, explicitly set `max_features='sqrt'` or remove this parameter as it is also the default value for RandomForestClassifiers and ExtraTreesClassifiers.\n",
      "  warn(\n"
     ]
    },
    {
     "name": "stdout",
     "output_type": "stream",
     "text": [
      "[CV] END max_depth=None, max_features=auto, min_samples_split=8, n_estimators=200; total time=   0.9s\n"
     ]
    },
    {
     "name": "stderr",
     "output_type": "stream",
     "text": [
      "/opt/conda/lib/python3.10/site-packages/sklearn/ensemble/_forest.py:425: FutureWarning: `max_features='auto'` has been deprecated in 1.1 and will be removed in 1.3. To keep the past behaviour, explicitly set `max_features='sqrt'` or remove this parameter as it is also the default value for RandomForestClassifiers and ExtraTreesClassifiers.\n",
      "  warn(\n"
     ]
    },
    {
     "name": "stdout",
     "output_type": "stream",
     "text": [
      "[CV] END max_depth=None, max_features=auto, min_samples_split=8, n_estimators=200; total time=   0.9s\n"
     ]
    },
    {
     "name": "stderr",
     "output_type": "stream",
     "text": [
      "/opt/conda/lib/python3.10/site-packages/sklearn/ensemble/_forest.py:425: FutureWarning: `max_features='auto'` has been deprecated in 1.1 and will be removed in 1.3. To keep the past behaviour, explicitly set `max_features='sqrt'` or remove this parameter as it is also the default value for RandomForestClassifiers and ExtraTreesClassifiers.\n",
      "  warn(\n"
     ]
    },
    {
     "name": "stdout",
     "output_type": "stream",
     "text": [
      "[CV] END max_depth=8, max_features=auto, min_samples_split=20, n_estimators=100; total time=   0.4s\n"
     ]
    },
    {
     "name": "stderr",
     "output_type": "stream",
     "text": [
      "/opt/conda/lib/python3.10/site-packages/sklearn/ensemble/_forest.py:425: FutureWarning: `max_features='auto'` has been deprecated in 1.1 and will be removed in 1.3. To keep the past behaviour, explicitly set `max_features='sqrt'` or remove this parameter as it is also the default value for RandomForestClassifiers and ExtraTreesClassifiers.\n",
      "  warn(\n"
     ]
    },
    {
     "name": "stdout",
     "output_type": "stream",
     "text": [
      "[CV] END max_depth=8, max_features=auto, min_samples_split=20, n_estimators=100; total time=   0.4s\n"
     ]
    },
    {
     "name": "stderr",
     "output_type": "stream",
     "text": [
      "/opt/conda/lib/python3.10/site-packages/sklearn/ensemble/_forest.py:425: FutureWarning: `max_features='auto'` has been deprecated in 1.1 and will be removed in 1.3. To keep the past behaviour, explicitly set `max_features='sqrt'` or remove this parameter as it is also the default value for RandomForestClassifiers and ExtraTreesClassifiers.\n",
      "  warn(\n"
     ]
    },
    {
     "name": "stdout",
     "output_type": "stream",
     "text": [
      "[CV] END max_depth=8, max_features=auto, min_samples_split=20, n_estimators=100; total time=   0.4s\n",
      "[CV] END max_depth=5, max_features=7, min_samples_split=2, n_estimators=1000; total time=   3.6s\n",
      "[CV] END max_depth=5, max_features=7, min_samples_split=2, n_estimators=1000; total time=   3.6s\n",
      "[CV] END max_depth=5, max_features=7, min_samples_split=2, n_estimators=1000; total time=   3.6s\n"
     ]
    },
    {
     "name": "stderr",
     "output_type": "stream",
     "text": [
      "/opt/conda/lib/python3.10/site-packages/sklearn/ensemble/_forest.py:425: FutureWarning: `max_features='auto'` has been deprecated in 1.1 and will be removed in 1.3. To keep the past behaviour, explicitly set `max_features='sqrt'` or remove this parameter as it is also the default value for RandomForestClassifiers and ExtraTreesClassifiers.\n",
      "  warn(\n"
     ]
    },
    {
     "name": "stdout",
     "output_type": "stream",
     "text": [
      "[CV] END max_depth=8, max_features=auto, min_samples_split=8, n_estimators=100; total time=   0.4s\n"
     ]
    },
    {
     "name": "stderr",
     "output_type": "stream",
     "text": [
      "/opt/conda/lib/python3.10/site-packages/sklearn/ensemble/_forest.py:425: FutureWarning: `max_features='auto'` has been deprecated in 1.1 and will be removed in 1.3. To keep the past behaviour, explicitly set `max_features='sqrt'` or remove this parameter as it is also the default value for RandomForestClassifiers and ExtraTreesClassifiers.\n",
      "  warn(\n"
     ]
    },
    {
     "name": "stdout",
     "output_type": "stream",
     "text": [
      "[CV] END max_depth=8, max_features=auto, min_samples_split=8, n_estimators=100; total time=   0.4s\n"
     ]
    },
    {
     "name": "stderr",
     "output_type": "stream",
     "text": [
      "/opt/conda/lib/python3.10/site-packages/sklearn/ensemble/_forest.py:425: FutureWarning: `max_features='auto'` has been deprecated in 1.1 and will be removed in 1.3. To keep the past behaviour, explicitly set `max_features='sqrt'` or remove this parameter as it is also the default value for RandomForestClassifiers and ExtraTreesClassifiers.\n",
      "  warn(\n"
     ]
    },
    {
     "name": "stdout",
     "output_type": "stream",
     "text": [
      "[CV] END max_depth=8, max_features=auto, min_samples_split=8, n_estimators=100; total time=   0.4s\n",
      "[CV] END max_depth=5, max_features=8, min_samples_split=2, n_estimators=200; total time=   0.8s\n",
      "[CV] END max_depth=5, max_features=8, min_samples_split=2, n_estimators=200; total time=   0.7s\n",
      "[CV] END max_depth=5, max_features=8, min_samples_split=2, n_estimators=200; total time=   0.7s\n"
     ]
    },
    {
     "name": "stderr",
     "output_type": "stream",
     "text": [
      "/opt/conda/lib/python3.10/site-packages/sklearn/ensemble/_forest.py:425: FutureWarning: `max_features='auto'` has been deprecated in 1.1 and will be removed in 1.3. To keep the past behaviour, explicitly set `max_features='sqrt'` or remove this parameter as it is also the default value for RandomForestClassifiers and ExtraTreesClassifiers.\n",
      "  warn(\n"
     ]
    },
    {
     "name": "stdout",
     "output_type": "stream",
     "text": [
      "[CV] END max_depth=5, max_features=auto, min_samples_split=15, n_estimators=200; total time=   0.7s\n"
     ]
    },
    {
     "name": "stderr",
     "output_type": "stream",
     "text": [
      "/opt/conda/lib/python3.10/site-packages/sklearn/ensemble/_forest.py:425: FutureWarning: `max_features='auto'` has been deprecated in 1.1 and will be removed in 1.3. To keep the past behaviour, explicitly set `max_features='sqrt'` or remove this parameter as it is also the default value for RandomForestClassifiers and ExtraTreesClassifiers.\n",
      "  warn(\n"
     ]
    },
    {
     "name": "stdout",
     "output_type": "stream",
     "text": [
      "[CV] END max_depth=5, max_features=auto, min_samples_split=15, n_estimators=200; total time=   0.7s\n"
     ]
    },
    {
     "name": "stderr",
     "output_type": "stream",
     "text": [
      "/opt/conda/lib/python3.10/site-packages/sklearn/ensemble/_forest.py:425: FutureWarning: `max_features='auto'` has been deprecated in 1.1 and will be removed in 1.3. To keep the past behaviour, explicitly set `max_features='sqrt'` or remove this parameter as it is also the default value for RandomForestClassifiers and ExtraTreesClassifiers.\n",
      "  warn(\n"
     ]
    },
    {
     "name": "stdout",
     "output_type": "stream",
     "text": [
      "[CV] END max_depth=5, max_features=auto, min_samples_split=15, n_estimators=200; total time=   0.7s\n",
      "[CV] END max_depth=15, max_features=5, min_samples_split=8, n_estimators=100; total time=   0.5s\n",
      "[CV] END max_depth=15, max_features=5, min_samples_split=8, n_estimators=100; total time=   0.4s\n",
      "[CV] END max_depth=15, max_features=5, min_samples_split=8, n_estimators=100; total time=   0.4s\n",
      "[CV] END max_depth=5, max_features=7, min_samples_split=2, n_estimators=500; total time=   1.8s\n",
      "[CV] END max_depth=5, max_features=7, min_samples_split=2, n_estimators=500; total time=   1.8s\n",
      "[CV] END max_depth=5, max_features=7, min_samples_split=2, n_estimators=500; total time=   1.8s\n"
     ]
    },
    {
     "name": "stderr",
     "output_type": "stream",
     "text": [
      "/opt/conda/lib/python3.10/site-packages/sklearn/ensemble/_forest.py:425: FutureWarning: `max_features='auto'` has been deprecated in 1.1 and will be removed in 1.3. To keep the past behaviour, explicitly set `max_features='sqrt'` or remove this parameter as it is also the default value for RandomForestClassifiers and ExtraTreesClassifiers.\n",
      "  warn(\n"
     ]
    },
    {
     "name": "stdout",
     "output_type": "stream",
     "text": [
      "[CV] END max_depth=5, max_features=auto, min_samples_split=8, n_estimators=100; total time=   0.3s\n"
     ]
    },
    {
     "name": "stderr",
     "output_type": "stream",
     "text": [
      "/opt/conda/lib/python3.10/site-packages/sklearn/ensemble/_forest.py:425: FutureWarning: `max_features='auto'` has been deprecated in 1.1 and will be removed in 1.3. To keep the past behaviour, explicitly set `max_features='sqrt'` or remove this parameter as it is also the default value for RandomForestClassifiers and ExtraTreesClassifiers.\n",
      "  warn(\n"
     ]
    },
    {
     "name": "stdout",
     "output_type": "stream",
     "text": [
      "[CV] END max_depth=5, max_features=auto, min_samples_split=8, n_estimators=100; total time=   0.3s\n"
     ]
    },
    {
     "name": "stderr",
     "output_type": "stream",
     "text": [
      "/opt/conda/lib/python3.10/site-packages/sklearn/ensemble/_forest.py:425: FutureWarning: `max_features='auto'` has been deprecated in 1.1 and will be removed in 1.3. To keep the past behaviour, explicitly set `max_features='sqrt'` or remove this parameter as it is also the default value for RandomForestClassifiers and ExtraTreesClassifiers.\n",
      "  warn(\n"
     ]
    },
    {
     "name": "stdout",
     "output_type": "stream",
     "text": [
      "[CV] END max_depth=5, max_features=auto, min_samples_split=8, n_estimators=100; total time=   0.4s\n",
      "[CV] END max_depth=15, max_features=7, min_samples_split=15, n_estimators=200; total time=   1.0s\n",
      "[CV] END max_depth=15, max_features=7, min_samples_split=15, n_estimators=200; total time=   1.0s\n",
      "[CV] END max_depth=15, max_features=7, min_samples_split=15, n_estimators=200; total time=   1.0s\n",
      "[CV] END max_depth=10, max_features=8, min_samples_split=20, n_estimators=100; total time=   0.5s\n",
      "[CV] END max_depth=10, max_features=8, min_samples_split=20, n_estimators=100; total time=   0.5s\n",
      "[CV] END max_depth=10, max_features=8, min_samples_split=20, n_estimators=100; total time=   0.5s\n",
      "[CV] END max_depth=None, max_features=8, min_samples_split=8, n_estimators=100; total time=   0.5s\n",
      "[CV] END max_depth=None, max_features=8, min_samples_split=8, n_estimators=100; total time=   0.5s\n",
      "[CV] END max_depth=None, max_features=8, min_samples_split=8, n_estimators=100; total time=   0.6s\n"
     ]
    },
    {
     "name": "stderr",
     "output_type": "stream",
     "text": [
      "/opt/conda/lib/python3.10/site-packages/sklearn/ensemble/_forest.py:425: FutureWarning: `max_features='auto'` has been deprecated in 1.1 and will be removed in 1.3. To keep the past behaviour, explicitly set `max_features='sqrt'` or remove this parameter as it is also the default value for RandomForestClassifiers and ExtraTreesClassifiers.\n",
      "  warn(\n"
     ]
    },
    {
     "name": "stdout",
     "output_type": "stream",
     "text": [
      "[CV] END max_depth=None, max_features=auto, min_samples_split=2, n_estimators=1000; total time=   4.8s\n"
     ]
    },
    {
     "name": "stderr",
     "output_type": "stream",
     "text": [
      "/opt/conda/lib/python3.10/site-packages/sklearn/ensemble/_forest.py:425: FutureWarning: `max_features='auto'` has been deprecated in 1.1 and will be removed in 1.3. To keep the past behaviour, explicitly set `max_features='sqrt'` or remove this parameter as it is also the default value for RandomForestClassifiers and ExtraTreesClassifiers.\n",
      "  warn(\n"
     ]
    },
    {
     "name": "stdout",
     "output_type": "stream",
     "text": [
      "[CV] END max_depth=None, max_features=auto, min_samples_split=2, n_estimators=1000; total time=   4.8s\n"
     ]
    },
    {
     "name": "stderr",
     "output_type": "stream",
     "text": [
      "/opt/conda/lib/python3.10/site-packages/sklearn/ensemble/_forest.py:425: FutureWarning: `max_features='auto'` has been deprecated in 1.1 and will be removed in 1.3. To keep the past behaviour, explicitly set `max_features='sqrt'` or remove this parameter as it is also the default value for RandomForestClassifiers and ExtraTreesClassifiers.\n",
      "  warn(\n"
     ]
    },
    {
     "name": "stdout",
     "output_type": "stream",
     "text": [
      "[CV] END max_depth=None, max_features=auto, min_samples_split=2, n_estimators=1000; total time=   4.7s\n",
      "[CV] END max_depth=8, max_features=7, min_samples_split=15, n_estimators=200; total time=   0.9s\n",
      "[CV] END max_depth=8, max_features=7, min_samples_split=15, n_estimators=200; total time=   0.9s\n",
      "[CV] END max_depth=8, max_features=7, min_samples_split=15, n_estimators=200; total time=   0.9s\n",
      "[CV] END max_depth=None, max_features=5, min_samples_split=20, n_estimators=200; total time=   0.8s\n",
      "[CV] END max_depth=None, max_features=5, min_samples_split=20, n_estimators=200; total time=   0.8s\n",
      "[CV] END max_depth=None, max_features=5, min_samples_split=20, n_estimators=200; total time=   0.8s\n",
      "[CV] END max_depth=None, max_features=8, min_samples_split=20, n_estimators=200; total time=   1.0s\n",
      "[CV] END max_depth=None, max_features=8, min_samples_split=20, n_estimators=200; total time=   1.0s\n",
      "[CV] END max_depth=None, max_features=8, min_samples_split=20, n_estimators=200; total time=   1.0s\n",
      "[CV] END max_depth=8, max_features=8, min_samples_split=2, n_estimators=500; total time=   2.4s\n",
      "[CV] END max_depth=8, max_features=8, min_samples_split=2, n_estimators=500; total time=   2.4s\n",
      "[CV] END max_depth=8, max_features=8, min_samples_split=2, n_estimators=500; total time=   2.4s\n",
      "[CV] END max_depth=5, max_features=8, min_samples_split=8, n_estimators=100; total time=   0.4s\n",
      "[CV] END max_depth=5, max_features=8, min_samples_split=8, n_estimators=100; total time=   0.4s\n",
      "[CV] END max_depth=5, max_features=8, min_samples_split=8, n_estimators=100; total time=   0.4s\n"
     ]
    },
    {
     "name": "stderr",
     "output_type": "stream",
     "text": [
      "/opt/conda/lib/python3.10/site-packages/sklearn/ensemble/_forest.py:425: FutureWarning: `max_features='auto'` has been deprecated in 1.1 and will be removed in 1.3. To keep the past behaviour, explicitly set `max_features='sqrt'` or remove this parameter as it is also the default value for RandomForestClassifiers and ExtraTreesClassifiers.\n",
      "  warn(\n"
     ]
    },
    {
     "name": "stdout",
     "output_type": "stream",
     "text": [
      "[CV] END max_depth=5, max_features=auto, min_samples_split=8, n_estimators=500; total time=   1.6s\n"
     ]
    },
    {
     "name": "stderr",
     "output_type": "stream",
     "text": [
      "/opt/conda/lib/python3.10/site-packages/sklearn/ensemble/_forest.py:425: FutureWarning: `max_features='auto'` has been deprecated in 1.1 and will be removed in 1.3. To keep the past behaviour, explicitly set `max_features='sqrt'` or remove this parameter as it is also the default value for RandomForestClassifiers and ExtraTreesClassifiers.\n",
      "  warn(\n"
     ]
    },
    {
     "name": "stdout",
     "output_type": "stream",
     "text": [
      "[CV] END max_depth=5, max_features=auto, min_samples_split=8, n_estimators=500; total time=   1.6s\n"
     ]
    },
    {
     "name": "stderr",
     "output_type": "stream",
     "text": [
      "/opt/conda/lib/python3.10/site-packages/sklearn/ensemble/_forest.py:425: FutureWarning: `max_features='auto'` has been deprecated in 1.1 and will be removed in 1.3. To keep the past behaviour, explicitly set `max_features='sqrt'` or remove this parameter as it is also the default value for RandomForestClassifiers and ExtraTreesClassifiers.\n",
      "  warn(\n"
     ]
    },
    {
     "name": "stdout",
     "output_type": "stream",
     "text": [
      "[CV] END max_depth=5, max_features=auto, min_samples_split=8, n_estimators=500; total time=   1.6s\n",
      "[CV] END max_depth=5, max_features=8, min_samples_split=15, n_estimators=200; total time=   0.7s\n",
      "[CV] END max_depth=5, max_features=8, min_samples_split=15, n_estimators=200; total time=   0.8s\n",
      "[CV] END max_depth=5, max_features=8, min_samples_split=15, n_estimators=200; total time=   0.8s\n",
      "[CV] END max_depth=10, max_features=7, min_samples_split=15, n_estimators=200; total time=   0.9s\n",
      "[CV] END max_depth=10, max_features=7, min_samples_split=15, n_estimators=200; total time=   0.9s\n",
      "[CV] END max_depth=10, max_features=7, min_samples_split=15, n_estimators=200; total time=   0.9s\n",
      "[CV] END max_depth=15, max_features=5, min_samples_split=8, n_estimators=1000; total time=   4.4s\n",
      "[CV] END max_depth=15, max_features=5, min_samples_split=8, n_estimators=1000; total time=   4.5s\n",
      "[CV] END max_depth=15, max_features=5, min_samples_split=8, n_estimators=1000; total time=   4.5s\n",
      "[CV] END max_depth=5, max_features=7, min_samples_split=2, n_estimators=200; total time=   0.7s\n",
      "[CV] END max_depth=5, max_features=7, min_samples_split=2, n_estimators=200; total time=   0.7s\n",
      "[CV] END max_depth=5, max_features=7, min_samples_split=2, n_estimators=200; total time=   0.7s\n",
      "[CV] END max_depth=15, max_features=8, min_samples_split=15, n_estimators=1000; total time=   5.3s\n",
      "[CV] END max_depth=15, max_features=8, min_samples_split=15, n_estimators=1000; total time=   5.1s\n",
      "[CV] END max_depth=15, max_features=8, min_samples_split=15, n_estimators=1000; total time=   5.2s\n"
     ]
    },
    {
     "name": "stderr",
     "output_type": "stream",
     "text": [
      "/opt/conda/lib/python3.10/site-packages/sklearn/ensemble/_forest.py:425: FutureWarning: `max_features='auto'` has been deprecated in 1.1 and will be removed in 1.3. To keep the past behaviour, explicitly set `max_features='sqrt'` or remove this parameter as it is also the default value for RandomForestClassifiers and ExtraTreesClassifiers.\n",
      "  warn(\n"
     ]
    },
    {
     "name": "stdout",
     "output_type": "stream",
     "text": [
      "[CV] END max_depth=15, max_features=auto, min_samples_split=20, n_estimators=200; total time=   0.9s\n"
     ]
    },
    {
     "name": "stderr",
     "output_type": "stream",
     "text": [
      "/opt/conda/lib/python3.10/site-packages/sklearn/ensemble/_forest.py:425: FutureWarning: `max_features='auto'` has been deprecated in 1.1 and will be removed in 1.3. To keep the past behaviour, explicitly set `max_features='sqrt'` or remove this parameter as it is also the default value for RandomForestClassifiers and ExtraTreesClassifiers.\n",
      "  warn(\n"
     ]
    },
    {
     "name": "stdout",
     "output_type": "stream",
     "text": [
      "[CV] END max_depth=15, max_features=auto, min_samples_split=20, n_estimators=200; total time=   0.9s\n"
     ]
    },
    {
     "name": "stderr",
     "output_type": "stream",
     "text": [
      "/opt/conda/lib/python3.10/site-packages/sklearn/ensemble/_forest.py:425: FutureWarning: `max_features='auto'` has been deprecated in 1.1 and will be removed in 1.3. To keep the past behaviour, explicitly set `max_features='sqrt'` or remove this parameter as it is also the default value for RandomForestClassifiers and ExtraTreesClassifiers.\n",
      "  warn(\n"
     ]
    },
    {
     "name": "stdout",
     "output_type": "stream",
     "text": [
      "[CV] END max_depth=15, max_features=auto, min_samples_split=20, n_estimators=200; total time=   0.9s\n",
      "[CV] END max_depth=None, max_features=8, min_samples_split=15, n_estimators=500; total time=   2.6s\n",
      "[CV] END max_depth=None, max_features=8, min_samples_split=15, n_estimators=500; total time=   2.6s\n",
      "[CV] END max_depth=None, max_features=8, min_samples_split=15, n_estimators=500; total time=   2.6s\n",
      "[CV] END max_depth=None, max_features=8, min_samples_split=8, n_estimators=500; total time=   2.7s\n",
      "[CV] END max_depth=None, max_features=8, min_samples_split=8, n_estimators=500; total time=   2.7s\n",
      "[CV] END max_depth=None, max_features=8, min_samples_split=8, n_estimators=500; total time=   2.7s\n",
      "[CV] END max_depth=10, max_features=8, min_samples_split=15, n_estimators=500; total time=   2.5s\n",
      "[CV] END max_depth=10, max_features=8, min_samples_split=15, n_estimators=500; total time=   2.5s\n",
      "[CV] END max_depth=10, max_features=8, min_samples_split=15, n_estimators=500; total time=   2.5s\n"
     ]
    },
    {
     "name": "stderr",
     "output_type": "stream",
     "text": [
      "/opt/conda/lib/python3.10/site-packages/sklearn/ensemble/_forest.py:425: FutureWarning: `max_features='auto'` has been deprecated in 1.1 and will be removed in 1.3. To keep the past behaviour, explicitly set `max_features='sqrt'` or remove this parameter as it is also the default value for RandomForestClassifiers and ExtraTreesClassifiers.\n",
      "  warn(\n"
     ]
    },
    {
     "name": "stdout",
     "output_type": "stream",
     "text": [
      "[CV] END max_depth=None, max_features=auto, min_samples_split=20, n_estimators=100; total time=   0.4s\n"
     ]
    },
    {
     "name": "stderr",
     "output_type": "stream",
     "text": [
      "/opt/conda/lib/python3.10/site-packages/sklearn/ensemble/_forest.py:425: FutureWarning: `max_features='auto'` has been deprecated in 1.1 and will be removed in 1.3. To keep the past behaviour, explicitly set `max_features='sqrt'` or remove this parameter as it is also the default value for RandomForestClassifiers and ExtraTreesClassifiers.\n",
      "  warn(\n"
     ]
    },
    {
     "name": "stdout",
     "output_type": "stream",
     "text": [
      "[CV] END max_depth=None, max_features=auto, min_samples_split=20, n_estimators=100; total time=   0.4s\n"
     ]
    },
    {
     "name": "stderr",
     "output_type": "stream",
     "text": [
      "/opt/conda/lib/python3.10/site-packages/sklearn/ensemble/_forest.py:425: FutureWarning: `max_features='auto'` has been deprecated in 1.1 and will be removed in 1.3. To keep the past behaviour, explicitly set `max_features='sqrt'` or remove this parameter as it is also the default value for RandomForestClassifiers and ExtraTreesClassifiers.\n",
      "  warn(\n"
     ]
    },
    {
     "name": "stdout",
     "output_type": "stream",
     "text": [
      "[CV] END max_depth=None, max_features=auto, min_samples_split=20, n_estimators=100; total time=   0.4s\n"
     ]
    },
    {
     "name": "stderr",
     "output_type": "stream",
     "text": [
      "/opt/conda/lib/python3.10/site-packages/sklearn/ensemble/_forest.py:425: FutureWarning: `max_features='auto'` has been deprecated in 1.1 and will be removed in 1.3. To keep the past behaviour, explicitly set `max_features='sqrt'` or remove this parameter as it is also the default value for RandomForestClassifiers and ExtraTreesClassifiers.\n",
      "  warn(\n"
     ]
    },
    {
     "name": "stdout",
     "output_type": "stream",
     "text": [
      "[CV] END max_depth=15, max_features=auto, min_samples_split=8, n_estimators=100; total time=   0.5s\n"
     ]
    },
    {
     "name": "stderr",
     "output_type": "stream",
     "text": [
      "/opt/conda/lib/python3.10/site-packages/sklearn/ensemble/_forest.py:425: FutureWarning: `max_features='auto'` has been deprecated in 1.1 and will be removed in 1.3. To keep the past behaviour, explicitly set `max_features='sqrt'` or remove this parameter as it is also the default value for RandomForestClassifiers and ExtraTreesClassifiers.\n",
      "  warn(\n"
     ]
    },
    {
     "name": "stdout",
     "output_type": "stream",
     "text": [
      "[CV] END max_depth=15, max_features=auto, min_samples_split=8, n_estimators=100; total time=   0.4s\n"
     ]
    },
    {
     "name": "stderr",
     "output_type": "stream",
     "text": [
      "/opt/conda/lib/python3.10/site-packages/sklearn/ensemble/_forest.py:425: FutureWarning: `max_features='auto'` has been deprecated in 1.1 and will be removed in 1.3. To keep the past behaviour, explicitly set `max_features='sqrt'` or remove this parameter as it is also the default value for RandomForestClassifiers and ExtraTreesClassifiers.\n",
      "  warn(\n"
     ]
    },
    {
     "name": "stdout",
     "output_type": "stream",
     "text": [
      "[CV] END max_depth=15, max_features=auto, min_samples_split=8, n_estimators=100; total time=   0.5s\n"
     ]
    },
    {
     "name": "stderr",
     "output_type": "stream",
     "text": [
      "/opt/conda/lib/python3.10/site-packages/sklearn/ensemble/_forest.py:425: FutureWarning: `max_features='auto'` has been deprecated in 1.1 and will be removed in 1.3. To keep the past behaviour, explicitly set `max_features='sqrt'` or remove this parameter as it is also the default value for RandomForestClassifiers and ExtraTreesClassifiers.\n",
      "  warn(\n"
     ]
    },
    {
     "name": "stdout",
     "output_type": "stream",
     "text": [
      "[CV] END max_depth=8, max_features=auto, min_samples_split=2, n_estimators=500; total time=   2.0s\n"
     ]
    },
    {
     "name": "stderr",
     "output_type": "stream",
     "text": [
      "/opt/conda/lib/python3.10/site-packages/sklearn/ensemble/_forest.py:425: FutureWarning: `max_features='auto'` has been deprecated in 1.1 and will be removed in 1.3. To keep the past behaviour, explicitly set `max_features='sqrt'` or remove this parameter as it is also the default value for RandomForestClassifiers and ExtraTreesClassifiers.\n",
      "  warn(\n"
     ]
    },
    {
     "name": "stdout",
     "output_type": "stream",
     "text": [
      "[CV] END max_depth=8, max_features=auto, min_samples_split=2, n_estimators=500; total time=   2.0s\n"
     ]
    },
    {
     "name": "stderr",
     "output_type": "stream",
     "text": [
      "/opt/conda/lib/python3.10/site-packages/sklearn/ensemble/_forest.py:425: FutureWarning: `max_features='auto'` has been deprecated in 1.1 and will be removed in 1.3. To keep the past behaviour, explicitly set `max_features='sqrt'` or remove this parameter as it is also the default value for RandomForestClassifiers and ExtraTreesClassifiers.\n",
      "  warn(\n"
     ]
    },
    {
     "name": "stdout",
     "output_type": "stream",
     "text": [
      "[CV] END max_depth=8, max_features=auto, min_samples_split=2, n_estimators=500; total time=   2.1s\n",
      "[CV] END max_depth=5, max_features=5, min_samples_split=2, n_estimators=1000; total time=   3.2s\n",
      "[CV] END max_depth=5, max_features=5, min_samples_split=2, n_estimators=1000; total time=   3.3s\n",
      "[CV] END max_depth=5, max_features=5, min_samples_split=2, n_estimators=1000; total time=   3.2s\n",
      "[CV] END max_depth=None, max_features=5, min_samples_split=20, n_estimators=1000; total time=   4.2s\n",
      "[CV] END max_depth=None, max_features=5, min_samples_split=20, n_estimators=1000; total time=   4.1s\n",
      "[CV] END max_depth=None, max_features=5, min_samples_split=20, n_estimators=1000; total time=   4.2s\n"
     ]
    },
    {
     "name": "stderr",
     "output_type": "stream",
     "text": [
      "/opt/conda/lib/python3.10/site-packages/sklearn/ensemble/_forest.py:425: FutureWarning: `max_features='auto'` has been deprecated in 1.1 and will be removed in 1.3. To keep the past behaviour, explicitly set `max_features='sqrt'` or remove this parameter as it is also the default value for RandomForestClassifiers and ExtraTreesClassifiers.\n",
      "  warn(\n"
     ]
    },
    {
     "name": "stdout",
     "output_type": "stream",
     "text": [
      "[CV] END max_depth=5, max_features=auto, min_samples_split=15, n_estimators=500; total time=   1.7s\n"
     ]
    },
    {
     "name": "stderr",
     "output_type": "stream",
     "text": [
      "/opt/conda/lib/python3.10/site-packages/sklearn/ensemble/_forest.py:425: FutureWarning: `max_features='auto'` has been deprecated in 1.1 and will be removed in 1.3. To keep the past behaviour, explicitly set `max_features='sqrt'` or remove this parameter as it is also the default value for RandomForestClassifiers and ExtraTreesClassifiers.\n",
      "  warn(\n"
     ]
    },
    {
     "name": "stdout",
     "output_type": "stream",
     "text": [
      "[CV] END max_depth=5, max_features=auto, min_samples_split=15, n_estimators=500; total time=   1.6s\n"
     ]
    },
    {
     "name": "stderr",
     "output_type": "stream",
     "text": [
      "/opt/conda/lib/python3.10/site-packages/sklearn/ensemble/_forest.py:425: FutureWarning: `max_features='auto'` has been deprecated in 1.1 and will be removed in 1.3. To keep the past behaviour, explicitly set `max_features='sqrt'` or remove this parameter as it is also the default value for RandomForestClassifiers and ExtraTreesClassifiers.\n",
      "  warn(\n"
     ]
    },
    {
     "name": "stdout",
     "output_type": "stream",
     "text": [
      "[CV] END max_depth=5, max_features=auto, min_samples_split=15, n_estimators=500; total time=   1.6s\n"
     ]
    },
    {
     "name": "stderr",
     "output_type": "stream",
     "text": [
      "/opt/conda/lib/python3.10/site-packages/sklearn/ensemble/_forest.py:425: FutureWarning: `max_features='auto'` has been deprecated in 1.1 and will be removed in 1.3. To keep the past behaviour, explicitly set `max_features='sqrt'` or remove this parameter as it is also the default value for RandomForestClassifiers and ExtraTreesClassifiers.\n",
      "  warn(\n"
     ]
    },
    {
     "name": "stdout",
     "output_type": "stream",
     "text": [
      "[CV] END max_depth=None, max_features=auto, min_samples_split=15, n_estimators=500; total time=   2.2s\n"
     ]
    },
    {
     "name": "stderr",
     "output_type": "stream",
     "text": [
      "/opt/conda/lib/python3.10/site-packages/sklearn/ensemble/_forest.py:425: FutureWarning: `max_features='auto'` has been deprecated in 1.1 and will be removed in 1.3. To keep the past behaviour, explicitly set `max_features='sqrt'` or remove this parameter as it is also the default value for RandomForestClassifiers and ExtraTreesClassifiers.\n",
      "  warn(\n"
     ]
    },
    {
     "name": "stdout",
     "output_type": "stream",
     "text": [
      "[CV] END max_depth=None, max_features=auto, min_samples_split=15, n_estimators=500; total time=   2.1s\n"
     ]
    },
    {
     "name": "stderr",
     "output_type": "stream",
     "text": [
      "/opt/conda/lib/python3.10/site-packages/sklearn/ensemble/_forest.py:425: FutureWarning: `max_features='auto'` has been deprecated in 1.1 and will be removed in 1.3. To keep the past behaviour, explicitly set `max_features='sqrt'` or remove this parameter as it is also the default value for RandomForestClassifiers and ExtraTreesClassifiers.\n",
      "  warn(\n"
     ]
    },
    {
     "name": "stdout",
     "output_type": "stream",
     "text": [
      "[CV] END max_depth=None, max_features=auto, min_samples_split=15, n_estimators=500; total time=   2.2s\n",
      "[CV] END max_depth=15, max_features=8, min_samples_split=15, n_estimators=100; total time=   0.5s\n",
      "[CV] END max_depth=15, max_features=8, min_samples_split=15, n_estimators=100; total time=   0.5s\n",
      "[CV] END max_depth=15, max_features=8, min_samples_split=15, n_estimators=100; total time=   0.5s\n",
      "[CV] END max_depth=10, max_features=7, min_samples_split=8, n_estimators=100; total time=   0.5s\n",
      "[CV] END max_depth=10, max_features=7, min_samples_split=8, n_estimators=100; total time=   0.5s\n",
      "[CV] END max_depth=10, max_features=7, min_samples_split=8, n_estimators=100; total time=   0.5s\n",
      "[CV] END max_depth=15, max_features=7, min_samples_split=20, n_estimators=500; total time=   2.4s\n",
      "[CV] END max_depth=15, max_features=7, min_samples_split=20, n_estimators=500; total time=   2.3s\n",
      "[CV] END max_depth=15, max_features=7, min_samples_split=20, n_estimators=500; total time=   2.4s\n",
      "[CV] END max_depth=15, max_features=8, min_samples_split=2, n_estimators=1000; total time=   5.7s\n",
      "[CV] END max_depth=15, max_features=8, min_samples_split=2, n_estimators=1000; total time=   5.5s\n",
      "[CV] END max_depth=15, max_features=8, min_samples_split=2, n_estimators=1000; total time=   5.7s\n"
     ]
    },
    {
     "name": "stderr",
     "output_type": "stream",
     "text": [
      "/opt/conda/lib/python3.10/site-packages/sklearn/ensemble/_forest.py:425: FutureWarning: `max_features='auto'` has been deprecated in 1.1 and will be removed in 1.3. To keep the past behaviour, explicitly set `max_features='sqrt'` or remove this parameter as it is also the default value for RandomForestClassifiers and ExtraTreesClassifiers.\n",
      "  warn(\n"
     ]
    },
    {
     "name": "stdout",
     "output_type": "stream",
     "text": [
      "[CV] END max_depth=5, max_features=auto, min_samples_split=8, n_estimators=200; total time=   0.7s\n"
     ]
    },
    {
     "name": "stderr",
     "output_type": "stream",
     "text": [
      "/opt/conda/lib/python3.10/site-packages/sklearn/ensemble/_forest.py:425: FutureWarning: `max_features='auto'` has been deprecated in 1.1 and will be removed in 1.3. To keep the past behaviour, explicitly set `max_features='sqrt'` or remove this parameter as it is also the default value for RandomForestClassifiers and ExtraTreesClassifiers.\n",
      "  warn(\n"
     ]
    },
    {
     "name": "stdout",
     "output_type": "stream",
     "text": [
      "[CV] END max_depth=5, max_features=auto, min_samples_split=8, n_estimators=200; total time=   0.7s\n"
     ]
    },
    {
     "name": "stderr",
     "output_type": "stream",
     "text": [
      "/opt/conda/lib/python3.10/site-packages/sklearn/ensemble/_forest.py:425: FutureWarning: `max_features='auto'` has been deprecated in 1.1 and will be removed in 1.3. To keep the past behaviour, explicitly set `max_features='sqrt'` or remove this parameter as it is also the default value for RandomForestClassifiers and ExtraTreesClassifiers.\n",
      "  warn(\n"
     ]
    },
    {
     "name": "stdout",
     "output_type": "stream",
     "text": [
      "[CV] END max_depth=5, max_features=auto, min_samples_split=8, n_estimators=200; total time=   0.7s\n",
      "[CV] END max_depth=8, max_features=5, min_samples_split=2, n_estimators=100; total time=   0.4s\n",
      "[CV] END max_depth=8, max_features=5, min_samples_split=2, n_estimators=100; total time=   0.4s\n",
      "[CV] END max_depth=8, max_features=5, min_samples_split=2, n_estimators=100; total time=   0.4s\n",
      "[CV] END max_depth=15, max_features=8, min_samples_split=8, n_estimators=200; total time=   1.1s\n",
      "[CV] END max_depth=15, max_features=8, min_samples_split=8, n_estimators=200; total time=   1.1s\n",
      "[CV] END max_depth=15, max_features=8, min_samples_split=8, n_estimators=200; total time=   1.1s\n",
      "[CV] END max_depth=15, max_features=8, min_samples_split=8, n_estimators=100; total time=   0.5s\n",
      "[CV] END max_depth=15, max_features=8, min_samples_split=8, n_estimators=100; total time=   0.5s\n",
      "[CV] END max_depth=15, max_features=8, min_samples_split=8, n_estimators=100; total time=   0.6s\n"
     ]
    },
    {
     "name": "stderr",
     "output_type": "stream",
     "text": [
      "/opt/conda/lib/python3.10/site-packages/sklearn/ensemble/_forest.py:425: FutureWarning: `max_features='auto'` has been deprecated in 1.1 and will be removed in 1.3. To keep the past behaviour, explicitly set `max_features='sqrt'` or remove this parameter as it is also the default value for RandomForestClassifiers and ExtraTreesClassifiers.\n",
      "  warn(\n"
     ]
    },
    {
     "name": "stdout",
     "output_type": "stream",
     "text": [
      "[CV] END max_depth=None, max_features=auto, min_samples_split=8, n_estimators=500; total time=   2.3s\n"
     ]
    },
    {
     "name": "stderr",
     "output_type": "stream",
     "text": [
      "/opt/conda/lib/python3.10/site-packages/sklearn/ensemble/_forest.py:425: FutureWarning: `max_features='auto'` has been deprecated in 1.1 and will be removed in 1.3. To keep the past behaviour, explicitly set `max_features='sqrt'` or remove this parameter as it is also the default value for RandomForestClassifiers and ExtraTreesClassifiers.\n",
      "  warn(\n"
     ]
    },
    {
     "name": "stdout",
     "output_type": "stream",
     "text": [
      "[CV] END max_depth=None, max_features=auto, min_samples_split=8, n_estimators=500; total time=   2.2s\n"
     ]
    },
    {
     "name": "stderr",
     "output_type": "stream",
     "text": [
      "/opt/conda/lib/python3.10/site-packages/sklearn/ensemble/_forest.py:425: FutureWarning: `max_features='auto'` has been deprecated in 1.1 and will be removed in 1.3. To keep the past behaviour, explicitly set `max_features='sqrt'` or remove this parameter as it is also the default value for RandomForestClassifiers and ExtraTreesClassifiers.\n",
      "  warn(\n"
     ]
    },
    {
     "name": "stdout",
     "output_type": "stream",
     "text": [
      "[CV] END max_depth=None, max_features=auto, min_samples_split=8, n_estimators=500; total time=   2.3s\n",
      "[CV] END max_depth=5, max_features=7, min_samples_split=20, n_estimators=100; total time=   0.4s\n",
      "[CV] END max_depth=5, max_features=7, min_samples_split=20, n_estimators=100; total time=   0.4s\n",
      "[CV] END max_depth=5, max_features=7, min_samples_split=20, n_estimators=100; total time=   0.4s\n",
      "[CV] END max_depth=None, max_features=7, min_samples_split=2, n_estimators=1000; total time=   5.4s\n",
      "[CV] END max_depth=None, max_features=7, min_samples_split=2, n_estimators=1000; total time=   5.3s\n",
      "[CV] END max_depth=None, max_features=7, min_samples_split=2, n_estimators=1000; total time=   5.3s\n"
     ]
    },
    {
     "name": "stderr",
     "output_type": "stream",
     "text": [
      "/opt/conda/lib/python3.10/site-packages/sklearn/ensemble/_forest.py:425: FutureWarning: `max_features='auto'` has been deprecated in 1.1 and will be removed in 1.3. To keep the past behaviour, explicitly set `max_features='sqrt'` or remove this parameter as it is also the default value for RandomForestClassifiers and ExtraTreesClassifiers.\n",
      "  warn(\n"
     ]
    },
    {
     "name": "stdout",
     "output_type": "stream",
     "text": [
      "[CV] END max_depth=None, max_features=auto, min_samples_split=2, n_estimators=200; total time=   1.0s\n"
     ]
    },
    {
     "name": "stderr",
     "output_type": "stream",
     "text": [
      "/opt/conda/lib/python3.10/site-packages/sklearn/ensemble/_forest.py:425: FutureWarning: `max_features='auto'` has been deprecated in 1.1 and will be removed in 1.3. To keep the past behaviour, explicitly set `max_features='sqrt'` or remove this parameter as it is also the default value for RandomForestClassifiers and ExtraTreesClassifiers.\n",
      "  warn(\n"
     ]
    },
    {
     "name": "stdout",
     "output_type": "stream",
     "text": [
      "[CV] END max_depth=None, max_features=auto, min_samples_split=2, n_estimators=200; total time=   0.9s\n"
     ]
    },
    {
     "name": "stderr",
     "output_type": "stream",
     "text": [
      "/opt/conda/lib/python3.10/site-packages/sklearn/ensemble/_forest.py:425: FutureWarning: `max_features='auto'` has been deprecated in 1.1 and will be removed in 1.3. To keep the past behaviour, explicitly set `max_features='sqrt'` or remove this parameter as it is also the default value for RandomForestClassifiers and ExtraTreesClassifiers.\n",
      "  warn(\n"
     ]
    },
    {
     "name": "stdout",
     "output_type": "stream",
     "text": [
      "[CV] END max_depth=None, max_features=auto, min_samples_split=2, n_estimators=200; total time=   1.0s\n",
      "[CV] END max_depth=15, max_features=8, min_samples_split=20, n_estimators=1000; total time=   5.1s\n",
      "[CV] END max_depth=15, max_features=8, min_samples_split=20, n_estimators=1000; total time=   5.0s\n",
      "[CV] END max_depth=15, max_features=8, min_samples_split=20, n_estimators=1000; total time=   5.1s\n"
     ]
    },
    {
     "name": "stderr",
     "output_type": "stream",
     "text": [
      "/opt/conda/lib/python3.10/site-packages/sklearn/ensemble/_forest.py:425: FutureWarning: `max_features='auto'` has been deprecated in 1.1 and will be removed in 1.3. To keep the past behaviour, explicitly set `max_features='sqrt'` or remove this parameter as it is also the default value for RandomForestClassifiers and ExtraTreesClassifiers.\n",
      "  warn(\n"
     ]
    },
    {
     "name": "stdout",
     "output_type": "stream",
     "text": [
      "[CV] END max_depth=15, max_features=auto, min_samples_split=20, n_estimators=1000; total time=   4.3s\n"
     ]
    },
    {
     "name": "stderr",
     "output_type": "stream",
     "text": [
      "/opt/conda/lib/python3.10/site-packages/sklearn/ensemble/_forest.py:425: FutureWarning: `max_features='auto'` has been deprecated in 1.1 and will be removed in 1.3. To keep the past behaviour, explicitly set `max_features='sqrt'` or remove this parameter as it is also the default value for RandomForestClassifiers and ExtraTreesClassifiers.\n",
      "  warn(\n"
     ]
    },
    {
     "name": "stdout",
     "output_type": "stream",
     "text": [
      "[CV] END max_depth=15, max_features=auto, min_samples_split=20, n_estimators=1000; total time=   4.2s\n"
     ]
    },
    {
     "name": "stderr",
     "output_type": "stream",
     "text": [
      "/opt/conda/lib/python3.10/site-packages/sklearn/ensemble/_forest.py:425: FutureWarning: `max_features='auto'` has been deprecated in 1.1 and will be removed in 1.3. To keep the past behaviour, explicitly set `max_features='sqrt'` or remove this parameter as it is also the default value for RandomForestClassifiers and ExtraTreesClassifiers.\n",
      "  warn(\n"
     ]
    },
    {
     "name": "stdout",
     "output_type": "stream",
     "text": [
      "[CV] END max_depth=15, max_features=auto, min_samples_split=20, n_estimators=1000; total time=   4.2s\n",
      "[CV] END max_depth=15, max_features=7, min_samples_split=15, n_estimators=100; total time=   0.5s\n",
      "[CV] END max_depth=15, max_features=7, min_samples_split=15, n_estimators=100; total time=   0.5s\n",
      "[CV] END max_depth=15, max_features=7, min_samples_split=15, n_estimators=100; total time=   0.5s\n",
      "[CV] END max_depth=10, max_features=8, min_samples_split=8, n_estimators=100; total time=   0.5s\n",
      "[CV] END max_depth=10, max_features=8, min_samples_split=8, n_estimators=100; total time=   0.5s\n",
      "[CV] END max_depth=10, max_features=8, min_samples_split=8, n_estimators=100; total time=   0.5s\n",
      "[CV] END max_depth=8, max_features=5, min_samples_split=15, n_estimators=500; total time=   1.9s\n",
      "[CV] END max_depth=8, max_features=5, min_samples_split=15, n_estimators=500; total time=   1.9s\n",
      "[CV] END max_depth=8, max_features=5, min_samples_split=15, n_estimators=500; total time=   1.9s\n",
      "[CV] END max_depth=None, max_features=7, min_samples_split=20, n_estimators=100; total time=   0.5s\n",
      "[CV] END max_depth=None, max_features=7, min_samples_split=20, n_estimators=100; total time=   0.5s\n",
      "[CV] END max_depth=None, max_features=7, min_samples_split=20, n_estimators=100; total time=   0.5s\n",
      "[CV] END max_depth=8, max_features=5, min_samples_split=2, n_estimators=1000; total time=   4.0s\n",
      "[CV] END max_depth=8, max_features=5, min_samples_split=2, n_estimators=1000; total time=   3.9s\n",
      "[CV] END max_depth=8, max_features=5, min_samples_split=2, n_estimators=1000; total time=   3.9s\n"
     ]
    },
    {
     "name": "stderr",
     "output_type": "stream",
     "text": [
      "/opt/conda/lib/python3.10/site-packages/sklearn/ensemble/_forest.py:425: FutureWarning: `max_features='auto'` has been deprecated in 1.1 and will be removed in 1.3. To keep the past behaviour, explicitly set `max_features='sqrt'` or remove this parameter as it is also the default value for RandomForestClassifiers and ExtraTreesClassifiers.\n",
      "  warn(\n"
     ]
    },
    {
     "name": "stdout",
     "output_type": "stream",
     "text": [
      "[CV] END max_depth=5, max_features=auto, min_samples_split=20, n_estimators=200; total time=   0.7s\n"
     ]
    },
    {
     "name": "stderr",
     "output_type": "stream",
     "text": [
      "/opt/conda/lib/python3.10/site-packages/sklearn/ensemble/_forest.py:425: FutureWarning: `max_features='auto'` has been deprecated in 1.1 and will be removed in 1.3. To keep the past behaviour, explicitly set `max_features='sqrt'` or remove this parameter as it is also the default value for RandomForestClassifiers and ExtraTreesClassifiers.\n",
      "  warn(\n"
     ]
    },
    {
     "name": "stdout",
     "output_type": "stream",
     "text": [
      "[CV] END max_depth=5, max_features=auto, min_samples_split=20, n_estimators=200; total time=   0.6s\n"
     ]
    },
    {
     "name": "stderr",
     "output_type": "stream",
     "text": [
      "/opt/conda/lib/python3.10/site-packages/sklearn/ensemble/_forest.py:425: FutureWarning: `max_features='auto'` has been deprecated in 1.1 and will be removed in 1.3. To keep the past behaviour, explicitly set `max_features='sqrt'` or remove this parameter as it is also the default value for RandomForestClassifiers and ExtraTreesClassifiers.\n",
      "  warn(\n"
     ]
    },
    {
     "name": "stdout",
     "output_type": "stream",
     "text": [
      "[CV] END max_depth=5, max_features=auto, min_samples_split=20, n_estimators=200; total time=   0.7s\n"
     ]
    },
    {
     "name": "stderr",
     "output_type": "stream",
     "text": [
      "/opt/conda/lib/python3.10/site-packages/sklearn/ensemble/_forest.py:425: FutureWarning: `max_features='auto'` has been deprecated in 1.1 and will be removed in 1.3. To keep the past behaviour, explicitly set `max_features='sqrt'` or remove this parameter as it is also the default value for RandomForestClassifiers and ExtraTreesClassifiers.\n",
      "  warn(\n"
     ]
    },
    {
     "name": "stdout",
     "output_type": "stream",
     "text": [
      "[CV] END max_depth=10, max_features=auto, min_samples_split=8, n_estimators=100; total time=   0.4s\n"
     ]
    },
    {
     "name": "stderr",
     "output_type": "stream",
     "text": [
      "/opt/conda/lib/python3.10/site-packages/sklearn/ensemble/_forest.py:425: FutureWarning: `max_features='auto'` has been deprecated in 1.1 and will be removed in 1.3. To keep the past behaviour, explicitly set `max_features='sqrt'` or remove this parameter as it is also the default value for RandomForestClassifiers and ExtraTreesClassifiers.\n",
      "  warn(\n"
     ]
    },
    {
     "name": "stdout",
     "output_type": "stream",
     "text": [
      "[CV] END max_depth=10, max_features=auto, min_samples_split=8, n_estimators=100; total time=   0.4s\n"
     ]
    },
    {
     "name": "stderr",
     "output_type": "stream",
     "text": [
      "/opt/conda/lib/python3.10/site-packages/sklearn/ensemble/_forest.py:425: FutureWarning: `max_features='auto'` has been deprecated in 1.1 and will be removed in 1.3. To keep the past behaviour, explicitly set `max_features='sqrt'` or remove this parameter as it is also the default value for RandomForestClassifiers and ExtraTreesClassifiers.\n",
      "  warn(\n"
     ]
    },
    {
     "name": "stdout",
     "output_type": "stream",
     "text": [
      "[CV] END max_depth=10, max_features=auto, min_samples_split=8, n_estimators=100; total time=   0.4s\n",
      "[CV] END max_depth=15, max_features=7, min_samples_split=2, n_estimators=1000; total time=   5.4s\n",
      "[CV] END max_depth=15, max_features=7, min_samples_split=2, n_estimators=1000; total time=   5.2s\n",
      "[CV] END max_depth=15, max_features=7, min_samples_split=2, n_estimators=1000; total time=   5.3s\n",
      "[CV] END max_depth=None, max_features=5, min_samples_split=15, n_estimators=1000; total time=   4.3s\n",
      "[CV] END max_depth=None, max_features=5, min_samples_split=15, n_estimators=1000; total time=   4.2s\n",
      "[CV] END max_depth=None, max_features=5, min_samples_split=15, n_estimators=1000; total time=   4.3s\n"
     ]
    },
    {
     "name": "stderr",
     "output_type": "stream",
     "text": [
      "/opt/conda/lib/python3.10/site-packages/sklearn/ensemble/_forest.py:425: FutureWarning: `max_features='auto'` has been deprecated in 1.1 and will be removed in 1.3. To keep the past behaviour, explicitly set `max_features='sqrt'` or remove this parameter as it is also the default value for RandomForestClassifiers and ExtraTreesClassifiers.\n",
      "  warn(\n"
     ]
    },
    {
     "name": "stdout",
     "output_type": "stream",
     "text": [
      "[CV] END max_depth=10, max_features=auto, min_samples_split=2, n_estimators=100; total time=   0.5s\n"
     ]
    },
    {
     "name": "stderr",
     "output_type": "stream",
     "text": [
      "/opt/conda/lib/python3.10/site-packages/sklearn/ensemble/_forest.py:425: FutureWarning: `max_features='auto'` has been deprecated in 1.1 and will be removed in 1.3. To keep the past behaviour, explicitly set `max_features='sqrt'` or remove this parameter as it is also the default value for RandomForestClassifiers and ExtraTreesClassifiers.\n",
      "  warn(\n"
     ]
    },
    {
     "name": "stdout",
     "output_type": "stream",
     "text": [
      "[CV] END max_depth=10, max_features=auto, min_samples_split=2, n_estimators=100; total time=   0.5s\n"
     ]
    },
    {
     "name": "stderr",
     "output_type": "stream",
     "text": [
      "/opt/conda/lib/python3.10/site-packages/sklearn/ensemble/_forest.py:425: FutureWarning: `max_features='auto'` has been deprecated in 1.1 and will be removed in 1.3. To keep the past behaviour, explicitly set `max_features='sqrt'` or remove this parameter as it is also the default value for RandomForestClassifiers and ExtraTreesClassifiers.\n",
      "  warn(\n"
     ]
    },
    {
     "name": "stdout",
     "output_type": "stream",
     "text": [
      "[CV] END max_depth=10, max_features=auto, min_samples_split=2, n_estimators=100; total time=   0.4s\n",
      "[CV] END max_depth=15, max_features=8, min_samples_split=2, n_estimators=200; total time=   1.2s\n",
      "[CV] END max_depth=15, max_features=8, min_samples_split=2, n_estimators=200; total time=   1.1s\n",
      "[CV] END max_depth=15, max_features=8, min_samples_split=2, n_estimators=200; total time=   1.1s\n"
     ]
    },
    {
     "name": "stderr",
     "output_type": "stream",
     "text": [
      "/opt/conda/lib/python3.10/site-packages/sklearn/ensemble/_forest.py:425: FutureWarning: `max_features='auto'` has been deprecated in 1.1 and will be removed in 1.3. To keep the past behaviour, explicitly set `max_features='sqrt'` or remove this parameter as it is also the default value for RandomForestClassifiers and ExtraTreesClassifiers.\n",
      "  warn(\n"
     ]
    },
    {
     "name": "stdout",
     "output_type": "stream",
     "text": [
      "[CV] END max_depth=8, max_features=auto, min_samples_split=2, n_estimators=1000; total time=   4.0s\n"
     ]
    },
    {
     "name": "stderr",
     "output_type": "stream",
     "text": [
      "/opt/conda/lib/python3.10/site-packages/sklearn/ensemble/_forest.py:425: FutureWarning: `max_features='auto'` has been deprecated in 1.1 and will be removed in 1.3. To keep the past behaviour, explicitly set `max_features='sqrt'` or remove this parameter as it is also the default value for RandomForestClassifiers and ExtraTreesClassifiers.\n",
      "  warn(\n"
     ]
    },
    {
     "name": "stdout",
     "output_type": "stream",
     "text": [
      "[CV] END max_depth=8, max_features=auto, min_samples_split=2, n_estimators=1000; total time=   4.0s\n"
     ]
    },
    {
     "name": "stderr",
     "output_type": "stream",
     "text": [
      "/opt/conda/lib/python3.10/site-packages/sklearn/ensemble/_forest.py:425: FutureWarning: `max_features='auto'` has been deprecated in 1.1 and will be removed in 1.3. To keep the past behaviour, explicitly set `max_features='sqrt'` or remove this parameter as it is also the default value for RandomForestClassifiers and ExtraTreesClassifiers.\n",
      "  warn(\n"
     ]
    },
    {
     "name": "stdout",
     "output_type": "stream",
     "text": [
      "[CV] END max_depth=8, max_features=auto, min_samples_split=2, n_estimators=1000; total time=   3.9s\n",
      "[CV] END max_depth=10, max_features=8, min_samples_split=20, n_estimators=200; total time=   1.0s\n",
      "[CV] END max_depth=10, max_features=8, min_samples_split=20, n_estimators=200; total time=   1.0s\n",
      "[CV] END max_depth=10, max_features=8, min_samples_split=20, n_estimators=200; total time=   1.0s\n",
      "[CV] END max_depth=8, max_features=5, min_samples_split=20, n_estimators=500; total time=   1.9s\n",
      "[CV] END max_depth=8, max_features=5, min_samples_split=20, n_estimators=500; total time=   1.9s\n",
      "[CV] END max_depth=8, max_features=5, min_samples_split=20, n_estimators=500; total time=   1.9s\n",
      "----------------- Best Params for RF -----------------\n",
      "{'n_estimators': 1000, 'min_samples_split': 2, 'max_features': 8, 'max_depth': 15}\n"
     ]
    }
   ],
   "source": [
    "for model_name in model_parm:\n",
    "    print(f\"----------------- Best Params for {model_name} -----------------\")\n",
    "    print(model_parm[model_name])"
   ]
  },
  {
   "cell_type": "markdown",
   "id": "c9c3fdad-d13a-4ed7-9f58-3ce9bc70bfe4",
   "metadata": {},
   "source": [
    "## Training RandomForest with tuned hyperparameters"
   ]
  },
  {
   "cell_type": "code",
   "execution_count": null,
   "id": "71b7491d-6f8a-4a37-ba35-3fa596984420",
   "metadata": {},
   "outputs": [],
   "source": [
    "models={\n",
    "    \"Random Forest\":RandomForestClassifier(n_estimators= 1000, min_samples_split= 2, max_features= 8, max_depth= 15)\n",
    "}"
   ]
  },
  {
   "cell_type": "code",
   "execution_count": 28,
   "id": "948b65f6-587f-43f2-94c7-e02c4b15dee3",
   "metadata": {},
   "outputs": [
    {
     "name": "stdout",
     "output_type": "stream",
     "text": [
      "Random Forest\n",
      "Model performance for Training Set\n",
      "- Accuracy: 1.0000\n",
      "- F1 score: 1.0000\n",
      "- Precision: 1.0000\n",
      "- Recall: 1.0000\n",
      "- Roc Auc score: 1.0000\n",
      "----------------------------------\n",
      "Model Performance for Test Set\n",
      "- Accuracy: 0.9427\n",
      "- F1 score: 0.9394\n",
      "- Precision: 0.9339\n",
      "- Recall: 0.7019\n",
      "- Roc Auc score: 0.8460\n",
      "===================================\n",
      "\n",
      "\n"
     ]
    }
   ],
   "source": [
    "for i in range(len(list(models))):\n",
    "    model=list(models.values())[i]\n",
    "    model.fit(X_train,y_train)\n",
    "    \n",
    "    y_train_pred=model.predict(X_train)\n",
    "    y_test_pred=model.predict(X_test)\n",
    "    \n",
    "    model_train_accuracy=accuracy_score(y_train,y_train_pred)\n",
    "    model_train_f1=f1_score(y_train,y_train_pred,average='weighted')\n",
    "    model_train_precision=precision_score(y_train,y_train_pred)\n",
    "    model_train_recall=recall_score(y_train,y_train_pred)\n",
    "    model_train_rocauc_score=roc_auc_score(y_train,y_train_pred)\n",
    "    \n",
    "    model_test_accuracy=accuracy_score(y_test,y_test_pred)\n",
    "    model_test_f1=f1_score(y_test,y_test_pred,average='weighted')\n",
    "    model_test_precision=precision_score(y_test,y_test_pred)\n",
    "    model_test_recall=recall_score(y_test,y_test_pred)\n",
    "    model_test_rocauc_score=roc_auc_score(y_test,y_test_pred)\n",
    "    \n",
    "    print(list(models.keys())[i])\n",
    "    \n",
    "    print('Model performance for Training Set')\n",
    "    print(f\"- Accuracy: {model_train_accuracy:.4f}\")\n",
    "    print(f\"- F1 score: {model_train_f1:.4f}\")\n",
    "    \n",
    "    print(f\"- Precision: {model_train_precision:.4f}\")\n",
    "    print(f\"- Recall: {model_train_recall:.4f}\")\n",
    "    print(f\"- Roc Auc score: {model_train_rocauc_score:.4f}\")\n",
    "    \n",
    "    \n",
    "    print('----------------------------------')\n",
    "    \n",
    "    print('Model Performance for Test Set')\n",
    "    print(f\"- Accuracy: {model_test_accuracy:.4f}\")\n",
    "    print(f\"- F1 score: {model_test_f1:.4f}\")\n",
    "    \n",
    "    print(f\"- Precision: {model_test_precision:.4f}\")\n",
    "    print(f\"- Recall: {model_test_recall:.4f}\")\n",
    "    print(f\"- Roc Auc score: {model_test_rocauc_score:.4f}\")\n",
    "    \n",
    "    print('='*35)\n",
    "    print('\\n')\n"
   ]
  },
  {
   "cell_type": "markdown",
   "id": "3836cf24-93f1-44fc-a360-760f084abdee",
   "metadata": {
    "tags": []
   },
   "source": [
    "## Plot ROC AUC Curve"
   ]
  },
  {
   "cell_type": "code",
   "execution_count": null,
   "id": "3e8c3eca-36ac-470f-94be-24a9a14f6cd6",
   "metadata": {},
   "outputs": [],
   "source": [
    "plt.figure()\n",
    "auc_models = [\n",
    "    {\n",
    "        'label':'Random Forest Classifier',\n",
    "        'model':RandomForestClassifier(n_estimators= 200, min_samples_split= 2, max_features= 8, max_depth= None),\n",
    "        'auc':0.8485\n",
    "    }\n",
    "]"
   ]
  },
  {
   "cell_type": "code",
   "execution_count": null,
   "id": "46f8e84f-36f7-4e8c-a979-abf2aaf5637e",
   "metadata": {},
   "outputs": [],
   "source": [
    "# Create Loop Through all Models\n",
    "for algo in auc_models:\n",
    "    model=algo['model']\n",
    "    model.fit(X_train,y_train)\n",
    "#Compute False positive rate and True positive rate\n",
    "    fpr, tpr, thresholds = roc_curve(y_test, model.predict_proba(X_test)[:,1])\n",
    "# Calculate Area under the curve to display on the plot\n",
    "    plt.plot(fpr, tpr, label='%s ROC (area = %0.2f)' % (algo['label'], algo['auc']))"
   ]
  },
  {
   "cell_type": "code",
   "execution_count": 29,
   "id": "4a5fa528-b91c-4462-9c3f-543be2d3118c",
   "metadata": {},
   "outputs": [
    {
     "data": {
      "image/png": "[encoded data removed]",
      "text/plain": [
       "<Figure size 800x550 with 1 Axes>"
      ]
     },
     "metadata": {},
     "output_type": "display_data"
    }
   ],
   "source": [
    "# Custom settings for the plot \n",
    "plt.plot([0, 1], [0, 1],'r--')\n",
    "plt.xlim([0.0, 1.0])\n",
    "plt.ylim([0.0, 1.05])\n",
    "plt.xlabel('1-Specificity(False Positive Rate)')\n",
    "plt.ylabel('Sensitivity(True Positive Rate)')\n",
    "plt.title('Receiver Operating Characteristic')\n",
    "plt.legend(loc=\"lower right\")\n",
    "plt.savefig(\"auc.png\")\n",
    "plt.show() "
   ]
  },
  {
   "cell_type": "code",
   "execution_count": null,
   "id": "bcd4aafc-467d-4d74-9456-774b9f5433d9",
   "metadata": {},
   "outputs": [],
   "source": []
  }
 ],
 "metadata": {
  "kernelspec": {
   "display_name": "Python 3 (ipykernel)",
   "language": "python",
   "name": "python3"
  },
  "language_info": {
   "codemirror_mode": {
    "name": "ipython",
    "version": 3
   },
   "file_extension": ".py",
   "mimetype": "text/x-python",
   "name": "python",
   "nbconvert_exporter": "python",
   "pygments_lexer": "ipython3",
   "version": "3.10.8"
  }
 },
 "nbformat": 4,
 "nbformat_minor": 5
}
