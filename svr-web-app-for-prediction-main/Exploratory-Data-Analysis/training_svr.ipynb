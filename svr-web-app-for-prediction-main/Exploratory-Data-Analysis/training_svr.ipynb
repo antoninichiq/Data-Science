{
 "cells": [
  {
   "cell_type": "markdown",
   "id": "586dd75d-43c2-46db-bf68-ada066b50e5a",
   "metadata": {},
   "source": [
    "# Support Vector Regression Implementation"
   ]
  },
  {
   "cell_type": "code",
   "execution_count": 101,
   "id": "67771c7a-7413-4627-904b-d4f47ba2426b",
   "metadata": {},
   "outputs": [
    {
     "data": {
      "text/html": [
       "<div>\n",
       "<style scoped>\n",
       "    .dataframe tbody tr th:only-of-type {\n",
       "        vertical-align: middle;\n",
       "    }\n",
       "\n",
       "    .dataframe tbody tr th {\n",
       "        vertical-align: top;\n",
       "    }\n",
       "\n",
       "    .dataframe thead th {\n",
       "        text-align: right;\n",
       "    }\n",
       "</style>\n",
       "<table border=\"1\" class=\"dataframe\">\n",
       "  <thead>\n",
       "    <tr style=\"text-align: right;\">\n",
       "      <th></th>\n",
       "      <th>total_bill</th>\n",
       "      <th>tip</th>\n",
       "      <th>sex</th>\n",
       "      <th>smoker</th>\n",
       "      <th>day</th>\n",
       "      <th>time</th>\n",
       "      <th>size</th>\n",
       "    </tr>\n",
       "  </thead>\n",
       "  <tbody>\n",
       "    <tr>\n",
       "      <th>0</th>\n",
       "      <td>16.99</td>\n",
       "      <td>1.01</td>\n",
       "      <td>Female</td>\n",
       "      <td>No</td>\n",
       "      <td>Sun</td>\n",
       "      <td>Dinner</td>\n",
       "      <td>2</td>\n",
       "    </tr>\n",
       "    <tr>\n",
       "      <th>1</th>\n",
       "      <td>10.34</td>\n",
       "      <td>1.66</td>\n",
       "      <td>Male</td>\n",
       "      <td>No</td>\n",
       "      <td>Sun</td>\n",
       "      <td>Dinner</td>\n",
       "      <td>3</td>\n",
       "    </tr>\n",
       "    <tr>\n",
       "      <th>2</th>\n",
       "      <td>21.01</td>\n",
       "      <td>3.50</td>\n",
       "      <td>Male</td>\n",
       "      <td>No</td>\n",
       "      <td>Sun</td>\n",
       "      <td>Dinner</td>\n",
       "      <td>3</td>\n",
       "    </tr>\n",
       "    <tr>\n",
       "      <th>3</th>\n",
       "      <td>23.68</td>\n",
       "      <td>3.31</td>\n",
       "      <td>Male</td>\n",
       "      <td>No</td>\n",
       "      <td>Sun</td>\n",
       "      <td>Dinner</td>\n",
       "      <td>2</td>\n",
       "    </tr>\n",
       "    <tr>\n",
       "      <th>4</th>\n",
       "      <td>24.59</td>\n",
       "      <td>3.61</td>\n",
       "      <td>Female</td>\n",
       "      <td>No</td>\n",
       "      <td>Sun</td>\n",
       "      <td>Dinner</td>\n",
       "      <td>4</td>\n",
       "    </tr>\n",
       "  </tbody>\n",
       "</table>\n",
       "</div>"
      ],
      "text/plain": [
       "   total_bill   tip     sex smoker  day    time  size\n",
       "0       16.99  1.01  Female     No  Sun  Dinner     2\n",
       "1       10.34  1.66    Male     No  Sun  Dinner     3\n",
       "2       21.01  3.50    Male     No  Sun  Dinner     3\n",
       "3       23.68  3.31    Male     No  Sun  Dinner     2\n",
       "4       24.59  3.61  Female     No  Sun  Dinner     4"
      ]
     },
     "execution_count": 101,
     "metadata": {},
     "output_type": "execute_result"
    }
   ],
   "source": [
    "import seaborn as sns\n",
    "df=sns.load_dataset('tips')\n",
    "df.head()"
   ]
  },
  {
   "cell_type": "code",
   "execution_count": 102,
   "id": "7aba5883-0dfa-4417-93ee-6dcb70ce6dd8",
   "metadata": {},
   "outputs": [
    {
     "name": "stdout",
     "output_type": "stream",
     "text": [
      "<class 'pandas.core.frame.DataFrame'>\n",
      "RangeIndex: 244 entries, 0 to 243\n",
      "Data columns (total 7 columns):\n",
      " #   Column      Non-Null Count  Dtype   \n",
      "---  ------      --------------  -----   \n",
      " 0   total_bill  244 non-null    float64 \n",
      " 1   tip         244 non-null    float64 \n",
      " 2   sex         244 non-null    category\n",
      " 3   smoker      244 non-null    category\n",
      " 4   day         244 non-null    category\n",
      " 5   time        244 non-null    category\n",
      " 6   size        244 non-null    int64   \n",
      "dtypes: category(4), float64(2), int64(1)\n",
      "memory usage: 7.4 KB\n"
     ]
    }
   ],
   "source": [
    "df.info()"
   ]
  },
  {
   "cell_type": "code",
   "execution_count": 103,
   "id": "cafddc93-39c3-4d95-af15-8cc89630a6f8",
   "metadata": {},
   "outputs": [
    {
     "data": {
      "text/plain": [
       "total_bill    0.0\n",
       "tip           0.0\n",
       "sex           0.0\n",
       "smoker        0.0\n",
       "day           0.0\n",
       "time          0.0\n",
       "size          0.0\n",
       "dtype: float64"
      ]
     },
     "execution_count": 103,
     "metadata": {},
     "output_type": "execute_result"
    }
   ],
   "source": [
    "percent=(df.isnull().sum() / len(df['sex'])) * 100\n",
    "percent"
   ]
  },
  {
   "cell_type": "code",
   "execution_count": 104,
   "id": "e9bbdf58-89ba-4588-a3ed-d3ff2170cebf",
   "metadata": {},
   "outputs": [
    {
     "data": {
      "text/plain": [
       "Male      157\n",
       "Female     87\n",
       "Name: sex, dtype: int64"
      ]
     },
     "execution_count": 104,
     "metadata": {},
     "output_type": "execute_result"
    }
   ],
   "source": [
    "df['sex'].value_counts()"
   ]
  },
  {
   "cell_type": "code",
   "execution_count": 105,
   "id": "2f91d6c5-8033-47eb-a7a8-e132580d5c56",
   "metadata": {},
   "outputs": [
    {
     "data": {
      "text/plain": [
       "No     151\n",
       "Yes     93\n",
       "Name: smoker, dtype: int64"
      ]
     },
     "execution_count": 105,
     "metadata": {},
     "output_type": "execute_result"
    }
   ],
   "source": [
    "df['smoker'].value_counts()"
   ]
  },
  {
   "cell_type": "code",
   "execution_count": 106,
   "id": "441e3163-e0f4-428f-987c-3e6a169d81c0",
   "metadata": {},
   "outputs": [
    {
     "data": {
      "text/plain": [
       "Sat     87\n",
       "Sun     76\n",
       "Thur    62\n",
       "Fri     19\n",
       "Name: day, dtype: int64"
      ]
     },
     "execution_count": 106,
     "metadata": {},
     "output_type": "execute_result"
    }
   ],
   "source": [
    "df['day'].value_counts()"
   ]
  },
  {
   "cell_type": "code",
   "execution_count": 107,
   "id": "af295021-b33c-4f35-91bb-2ef6927322b1",
   "metadata": {},
   "outputs": [
    {
     "data": {
      "text/plain": [
       "Dinner    176\n",
       "Lunch      68\n",
       "Name: time, dtype: int64"
      ]
     },
     "execution_count": 107,
     "metadata": {},
     "output_type": "execute_result"
    }
   ],
   "source": [
    "df['time'].value_counts()"
   ]
  },
  {
   "cell_type": "code",
   "execution_count": 108,
   "id": "fccfe70d-5d15-4319-b200-87a1b036811b",
   "metadata": {},
   "outputs": [],
   "source": [
    "y=df['total_bill']\n",
    "X=df.drop('total_bill',axis=1)"
   ]
  },
  {
   "cell_type": "code",
   "execution_count": 109,
   "id": "ea4631f4-d515-4c3c-8787-69d7b45e0295",
   "metadata": {},
   "outputs": [],
   "source": [
    "from sklearn.model_selection import train_test_split\n",
    "X_train,X_test,y_train,y_test=train_test_split(X,y,test_size=0.25,random_state=42)"
   ]
  },
  {
   "cell_type": "markdown",
   "id": "3d2be0af-e02f-4628-aaa1-6de55987b14b",
   "metadata": {},
   "source": [
    "## Feature Encoding (Label Encoding and OneHot Encoding)"
   ]
  },
  {
   "cell_type": "markdown",
   "id": "9388e53a-4d85-42fa-a2a3-988a71c13516",
   "metadata": {},
   "source": [
    "1. Label Encoding"
   ]
  },
  {
   "cell_type": "code",
   "execution_count": 110,
   "id": "760f8c29-458a-4816-98ef-e1c289c888fc",
   "metadata": {},
   "outputs": [],
   "source": [
    "from sklearn.preprocessing import LabelEncoder\n",
    "le1=LabelEncoder()\n",
    "le2=LabelEncoder()\n",
    "le3=LabelEncoder()"
   ]
  },
  {
   "cell_type": "code",
   "execution_count": 111,
   "id": "3de4831d-0a4d-45e0-b94c-9da6d0aabc7e",
   "metadata": {},
   "outputs": [],
   "source": [
    "X_train['sex']=le1.fit_transform(X_train['sex'])\n",
    "X_train['smoker']=le2.fit_transform(X_train['smoker'])\n",
    "X_train['time']=le3.fit_transform(X_train['time'])"
   ]
  },
  {
   "cell_type": "code",
   "execution_count": 112,
   "id": "a16afc57-534e-484c-b9c9-746059dbc57c",
   "metadata": {},
   "outputs": [
    {
     "data": {
      "text/html": [
       "<div>\n",
       "<style scoped>\n",
       "    .dataframe tbody tr th:only-of-type {\n",
       "        vertical-align: middle;\n",
       "    }\n",
       "\n",
       "    .dataframe tbody tr th {\n",
       "        vertical-align: top;\n",
       "    }\n",
       "\n",
       "    .dataframe thead th {\n",
       "        text-align: right;\n",
       "    }\n",
       "</style>\n",
       "<table border=\"1\" class=\"dataframe\">\n",
       "  <thead>\n",
       "    <tr style=\"text-align: right;\">\n",
       "      <th></th>\n",
       "      <th>tip</th>\n",
       "      <th>sex</th>\n",
       "      <th>smoker</th>\n",
       "      <th>day</th>\n",
       "      <th>time</th>\n",
       "      <th>size</th>\n",
       "    </tr>\n",
       "  </thead>\n",
       "  <tbody>\n",
       "    <tr>\n",
       "      <th>115</th>\n",
       "      <td>3.50</td>\n",
       "      <td>0</td>\n",
       "      <td>0</td>\n",
       "      <td>Sun</td>\n",
       "      <td>0</td>\n",
       "      <td>2</td>\n",
       "    </tr>\n",
       "    <tr>\n",
       "      <th>181</th>\n",
       "      <td>5.65</td>\n",
       "      <td>1</td>\n",
       "      <td>1</td>\n",
       "      <td>Sun</td>\n",
       "      <td>0</td>\n",
       "      <td>2</td>\n",
       "    </tr>\n",
       "    <tr>\n",
       "      <th>225</th>\n",
       "      <td>2.50</td>\n",
       "      <td>0</td>\n",
       "      <td>1</td>\n",
       "      <td>Fri</td>\n",
       "      <td>1</td>\n",
       "      <td>2</td>\n",
       "    </tr>\n",
       "    <tr>\n",
       "      <th>68</th>\n",
       "      <td>2.01</td>\n",
       "      <td>1</td>\n",
       "      <td>0</td>\n",
       "      <td>Sat</td>\n",
       "      <td>0</td>\n",
       "      <td>2</td>\n",
       "    </tr>\n",
       "    <tr>\n",
       "      <th>104</th>\n",
       "      <td>4.08</td>\n",
       "      <td>0</td>\n",
       "      <td>0</td>\n",
       "      <td>Sat</td>\n",
       "      <td>0</td>\n",
       "      <td>2</td>\n",
       "    </tr>\n",
       "    <tr>\n",
       "      <th>69</th>\n",
       "      <td>2.09</td>\n",
       "      <td>1</td>\n",
       "      <td>1</td>\n",
       "      <td>Sat</td>\n",
       "      <td>0</td>\n",
       "      <td>2</td>\n",
       "    </tr>\n",
       "    <tr>\n",
       "      <th>111</th>\n",
       "      <td>1.00</td>\n",
       "      <td>0</td>\n",
       "      <td>0</td>\n",
       "      <td>Sat</td>\n",
       "      <td>0</td>\n",
       "      <td>1</td>\n",
       "    </tr>\n",
       "    <tr>\n",
       "      <th>206</th>\n",
       "      <td>3.41</td>\n",
       "      <td>1</td>\n",
       "      <td>1</td>\n",
       "      <td>Sat</td>\n",
       "      <td>0</td>\n",
       "      <td>3</td>\n",
       "    </tr>\n",
       "    <tr>\n",
       "      <th>165</th>\n",
       "      <td>3.48</td>\n",
       "      <td>1</td>\n",
       "      <td>0</td>\n",
       "      <td>Sun</td>\n",
       "      <td>0</td>\n",
       "      <td>3</td>\n",
       "    </tr>\n",
       "    <tr>\n",
       "      <th>154</th>\n",
       "      <td>2.00</td>\n",
       "      <td>1</td>\n",
       "      <td>0</td>\n",
       "      <td>Sun</td>\n",
       "      <td>0</td>\n",
       "      <td>4</td>\n",
       "    </tr>\n",
       "    <tr>\n",
       "      <th>216</th>\n",
       "      <td>3.00</td>\n",
       "      <td>1</td>\n",
       "      <td>1</td>\n",
       "      <td>Sat</td>\n",
       "      <td>0</td>\n",
       "      <td>5</td>\n",
       "    </tr>\n",
       "    <tr>\n",
       "      <th>79</th>\n",
       "      <td>2.71</td>\n",
       "      <td>1</td>\n",
       "      <td>0</td>\n",
       "      <td>Thur</td>\n",
       "      <td>1</td>\n",
       "      <td>2</td>\n",
       "    </tr>\n",
       "  </tbody>\n",
       "</table>\n",
       "</div>"
      ],
      "text/plain": [
       "      tip  sex  smoker   day  time  size\n",
       "115  3.50    0       0   Sun     0     2\n",
       "181  5.65    1       1   Sun     0     2\n",
       "225  2.50    0       1   Fri     1     2\n",
       "68   2.01    1       0   Sat     0     2\n",
       "104  4.08    0       0   Sat     0     2\n",
       "69   2.09    1       1   Sat     0     2\n",
       "111  1.00    0       0   Sat     0     1\n",
       "206  3.41    1       1   Sat     0     3\n",
       "165  3.48    1       0   Sun     0     3\n",
       "154  2.00    1       0   Sun     0     4\n",
       "216  3.00    1       1   Sat     0     5\n",
       "79   2.71    1       0  Thur     1     2"
      ]
     },
     "execution_count": 112,
     "metadata": {},
     "output_type": "execute_result"
    }
   ],
   "source": [
    "X_train.head(12)"
   ]
  },
  {
   "cell_type": "code",
   "execution_count": 113,
   "id": "81aa85d7-d2d8-40b4-b5ca-e69a581f0cc1",
   "metadata": {},
   "outputs": [],
   "source": [
    "X_test['sex']=le1.fit_transform(X_test['sex'])\n",
    "X_test['smoker']=le2.fit_transform(X_test['smoker'])\n",
    "X_test['time']=le3.fit_transform(X_test['time'])"
   ]
  },
  {
   "cell_type": "code",
   "execution_count": 114,
   "id": "13d801cb-8695-4ff5-99fc-b2f1e25408fa",
   "metadata": {},
   "outputs": [
    {
     "data": {
      "text/html": [
       "<div>\n",
       "<style scoped>\n",
       "    .dataframe tbody tr th:only-of-type {\n",
       "        vertical-align: middle;\n",
       "    }\n",
       "\n",
       "    .dataframe tbody tr th {\n",
       "        vertical-align: top;\n",
       "    }\n",
       "\n",
       "    .dataframe thead th {\n",
       "        text-align: right;\n",
       "    }\n",
       "</style>\n",
       "<table border=\"1\" class=\"dataframe\">\n",
       "  <thead>\n",
       "    <tr style=\"text-align: right;\">\n",
       "      <th></th>\n",
       "      <th>tip</th>\n",
       "      <th>sex</th>\n",
       "      <th>smoker</th>\n",
       "      <th>day</th>\n",
       "      <th>time</th>\n",
       "      <th>size</th>\n",
       "    </tr>\n",
       "  </thead>\n",
       "  <tbody>\n",
       "    <tr>\n",
       "      <th>24</th>\n",
       "      <td>3.18</td>\n",
       "      <td>1</td>\n",
       "      <td>0</td>\n",
       "      <td>Sat</td>\n",
       "      <td>0</td>\n",
       "      <td>2</td>\n",
       "    </tr>\n",
       "    <tr>\n",
       "      <th>6</th>\n",
       "      <td>2.00</td>\n",
       "      <td>1</td>\n",
       "      <td>0</td>\n",
       "      <td>Sun</td>\n",
       "      <td>0</td>\n",
       "      <td>2</td>\n",
       "    </tr>\n",
       "    <tr>\n",
       "      <th>153</th>\n",
       "      <td>2.00</td>\n",
       "      <td>1</td>\n",
       "      <td>0</td>\n",
       "      <td>Sun</td>\n",
       "      <td>0</td>\n",
       "      <td>4</td>\n",
       "    </tr>\n",
       "    <tr>\n",
       "      <th>211</th>\n",
       "      <td>5.16</td>\n",
       "      <td>1</td>\n",
       "      <td>1</td>\n",
       "      <td>Sat</td>\n",
       "      <td>0</td>\n",
       "      <td>4</td>\n",
       "    </tr>\n",
       "    <tr>\n",
       "      <th>198</th>\n",
       "      <td>2.00</td>\n",
       "      <td>0</td>\n",
       "      <td>1</td>\n",
       "      <td>Thur</td>\n",
       "      <td>1</td>\n",
       "      <td>2</td>\n",
       "    </tr>\n",
       "  </tbody>\n",
       "</table>\n",
       "</div>"
      ],
      "text/plain": [
       "      tip  sex  smoker   day  time  size\n",
       "24   3.18    1       0   Sat     0     2\n",
       "6    2.00    1       0   Sun     0     2\n",
       "153  2.00    1       0   Sun     0     4\n",
       "211  5.16    1       1   Sat     0     4\n",
       "198  2.00    0       1  Thur     1     2"
      ]
     },
     "execution_count": 114,
     "metadata": {},
     "output_type": "execute_result"
    }
   ],
   "source": [
    "X_test.head()"
   ]
  },
  {
   "cell_type": "markdown",
   "id": "0e103c00-cbdc-4ecf-9bdb-d3cc4a6dbd0b",
   "metadata": {},
   "source": [
    "2. OneHot Encoding"
   ]
  },
  {
   "cell_type": "code",
   "execution_count": 115,
   "id": "e09abd5d-b5cb-49ad-80aa-74264fa038e5",
   "metadata": {},
   "outputs": [],
   "source": [
    "from sklearn.compose import ColumnTransformer\n",
    "from sklearn.preprocessing import OneHotEncoder"
   ]
  },
  {
   "cell_type": "code",
   "execution_count": 116,
   "id": "d232805c-03ae-48fe-bb05-bf6703457fd7",
   "metadata": {},
   "outputs": [],
   "source": [
    "ct=ColumnTransformer(transformers=[('onehot',OneHotEncoder(),[3])],\n",
    "                                  remainder='passthrough') #third index (day)"
   ]
  },
  {
   "cell_type": "code",
   "execution_count": 117,
   "id": "02b1cba2-89aa-48b4-94c6-d1b1513631f0",
   "metadata": {},
   "outputs": [],
   "source": [
    "import sys\n",
    "import numpy\n",
    "numpy.set_printoptions(threshold=sys.maxsize)\n",
    "X_train=ct.fit_transform(X_train)\n",
    "X_test=ct.transform(X_test)"
   ]
  },
  {
   "cell_type": "code",
   "execution_count": 118,
   "id": "da252ce2-8d48-4ea9-a1af-6d8f6eca9ea3",
   "metadata": {},
   "outputs": [
    {
     "data": {
      "text/plain": [
       "array([[ 0.  ,  0.  ,  1.  ,  0.  ,  3.5 ,  0.  ,  0.  ,  0.  ,  2.  ],\n",
       "       [ 0.  ,  0.  ,  1.  ,  0.  ,  5.65,  1.  ,  1.  ,  0.  ,  2.  ],\n",
       "       [ 1.  ,  0.  ,  0.  ,  0.  ,  2.5 ,  0.  ,  1.  ,  1.  ,  2.  ],\n",
       "       [ 0.  ,  1.  ,  0.  ,  0.  ,  2.01,  1.  ,  0.  ,  0.  ,  2.  ],\n",
       "       [ 0.  ,  1.  ,  0.  ,  0.  ,  4.08,  0.  ,  0.  ,  0.  ,  2.  ],\n",
       "       [ 0.  ,  1.  ,  0.  ,  0.  ,  2.09,  1.  ,  1.  ,  0.  ,  2.  ],\n",
       "       [ 0.  ,  1.  ,  0.  ,  0.  ,  1.  ,  0.  ,  0.  ,  0.  ,  1.  ],\n",
       "       [ 0.  ,  1.  ,  0.  ,  0.  ,  3.41,  1.  ,  1.  ,  0.  ,  3.  ],\n",
       "       [ 0.  ,  0.  ,  1.  ,  0.  ,  3.48,  1.  ,  0.  ,  0.  ,  3.  ],\n",
       "       [ 0.  ,  0.  ,  1.  ,  0.  ,  2.  ,  1.  ,  0.  ,  0.  ,  4.  ],\n",
       "       [ 0.  ,  1.  ,  0.  ,  0.  ,  3.  ,  1.  ,  1.  ,  0.  ,  5.  ],\n",
       "       [ 0.  ,  0.  ,  0.  ,  1.  ,  2.71,  1.  ,  0.  ,  1.  ,  2.  ],\n",
       "       [ 0.  ,  1.  ,  0.  ,  0.  ,  3.  ,  0.  ,  0.  ,  0.  ,  2.  ],\n",
       "       [ 0.  ,  1.  ,  0.  ,  0.  ,  3.  ,  1.  ,  1.  ,  0.  ,  2.  ],\n",
       "       [ 0.  ,  1.  ,  0.  ,  0.  ,  3.  ,  1.  ,  0.  ,  0.  ,  4.  ],\n",
       "       [ 0.  ,  0.  ,  1.  ,  0.  ,  3.68,  1.  ,  1.  ,  0.  ,  4.  ],\n",
       "       [ 0.  ,  0.  ,  1.  ,  0.  ,  4.71,  1.  ,  0.  ,  0.  ,  4.  ],\n",
       "       [ 0.  ,  1.  ,  0.  ,  0.  ,  3.  ,  1.  ,  1.  ,  0.  ,  4.  ],\n",
       "       [ 0.  ,  0.  ,  0.  ,  1.  ,  4.2 ,  0.  ,  0.  ,  1.  ,  6.  ],\n",
       "       [ 0.  ,  0.  ,  0.  ,  1.  ,  1.73,  1.  ,  0.  ,  1.  ,  2.  ],\n",
       "       [ 0.  ,  0.  ,  1.  ,  0.  ,  4.  ,  0.  ,  0.  ,  0.  ,  3.  ],\n",
       "       [ 0.  ,  1.  ,  0.  ,  0.  ,  3.15,  1.  ,  0.  ,  0.  ,  3.  ],\n",
       "       [ 0.  ,  0.  ,  0.  ,  1.  ,  1.5 ,  0.  ,  0.  ,  1.  ,  2.  ],\n",
       "       [ 0.  ,  1.  ,  0.  ,  0.  ,  3.  ,  1.  ,  1.  ,  0.  ,  4.  ],\n",
       "       [ 0.  ,  0.  ,  1.  ,  0.  ,  2.  ,  0.  ,  0.  ,  0.  ,  3.  ],\n",
       "       [ 0.  ,  1.  ,  0.  ,  0.  ,  2.5 ,  1.  ,  0.  ,  0.  ,  4.  ],\n",
       "       [ 0.  ,  0.  ,  1.  ,  0.  ,  1.57,  1.  ,  0.  ,  0.  ,  2.  ],\n",
       "       [ 0.  ,  1.  ,  0.  ,  0.  ,  3.6 ,  1.  ,  0.  ,  0.  ,  3.  ],\n",
       "       [ 0.  ,  1.  ,  0.  ,  0.  ,  4.3 ,  1.  ,  0.  ,  0.  ,  2.  ],\n",
       "       [ 0.  ,  0.  ,  1.  ,  0.  ,  3.06,  1.  ,  0.  ,  0.  ,  2.  ],\n",
       "       [ 0.  ,  1.  ,  0.  ,  0.  ,  5.92,  1.  ,  0.  ,  0.  ,  3.  ],\n",
       "       [ 0.  ,  0.  ,  0.  ,  1.  ,  1.48,  1.  ,  0.  ,  1.  ,  2.  ],\n",
       "       [ 1.  ,  0.  ,  0.  ,  0.  ,  4.3 ,  0.  ,  1.  ,  0.  ,  2.  ],\n",
       "       [ 0.  ,  0.  ,  1.  ,  0.  ,  3.  ,  0.  ,  1.  ,  0.  ,  2.  ],\n",
       "       [ 0.  ,  0.  ,  1.  ,  0.  ,  2.6 ,  0.  ,  0.  ,  0.  ,  2.  ],\n",
       "       [ 1.  ,  0.  ,  0.  ,  0.  ,  4.73,  1.  ,  1.  ,  0.  ,  4.  ],\n",
       "       [ 0.  ,  0.  ,  0.  ,  1.  ,  3.5 ,  0.  ,  0.  ,  1.  ,  2.  ],\n",
       "       [ 0.  ,  0.  ,  0.  ,  1.  ,  4.  ,  1.  ,  1.  ,  1.  ,  2.  ],\n",
       "       [ 0.  ,  1.  ,  0.  ,  0.  ,  3.08,  1.  ,  1.  ,  0.  ,  2.  ],\n",
       "       [ 0.  ,  0.  ,  1.  ,  0.  ,  2.54,  1.  ,  0.  ,  0.  ,  2.  ],\n",
       "       [ 0.  ,  1.  ,  0.  ,  0.  ,  3.76,  1.  ,  0.  ,  0.  ,  2.  ],\n",
       "       [ 1.  ,  0.  ,  0.  ,  0.  ,  3.  ,  0.  ,  0.  ,  1.  ,  3.  ],\n",
       "       [ 0.  ,  0.  ,  0.  ,  1.  ,  3.  ,  1.  ,  0.  ,  1.  ,  2.  ],\n",
       "       [ 0.  ,  0.  ,  0.  ,  1.  ,  2.3 ,  0.  ,  0.  ,  1.  ,  2.  ],\n",
       "       [ 0.  ,  1.  ,  0.  ,  0.  ,  2.  ,  1.  ,  0.  ,  0.  ,  2.  ],\n",
       "       [ 0.  ,  1.  ,  0.  ,  0.  ,  1.25,  1.  ,  0.  ,  0.  ,  2.  ],\n",
       "       [ 0.  ,  1.  ,  0.  ,  0.  ,  2.5 ,  0.  ,  1.  ,  0.  ,  2.  ],\n",
       "       [ 0.  ,  0.  ,  1.  ,  0.  ,  6.5 ,  1.  ,  1.  ,  0.  ,  4.  ],\n",
       "       [ 0.  ,  0.  ,  0.  ,  1.  ,  2.02,  1.  ,  1.  ,  1.  ,  2.  ],\n",
       "       [ 0.  ,  0.  ,  1.  ,  0.  ,  1.01,  0.  ,  0.  ,  0.  ,  2.  ],\n",
       "       [ 0.  ,  0.  ,  1.  ,  0.  ,  3.5 ,  1.  ,  0.  ,  0.  ,  3.  ],\n",
       "       [ 0.  ,  0.  ,  0.  ,  1.  ,  4.  ,  1.  ,  0.  ,  1.  ,  4.  ],\n",
       "       [ 0.  ,  0.  ,  1.  ,  0.  ,  5.  ,  1.  ,  0.  ,  0.  ,  2.  ],\n",
       "       [ 1.  ,  0.  ,  0.  ,  0.  ,  2.5 ,  0.  ,  1.  ,  0.  ,  2.  ],\n",
       "       [ 0.  ,  0.  ,  0.  ,  1.  ,  2.  ,  0.  ,  0.  ,  1.  ,  2.  ],\n",
       "       [ 0.  ,  0.  ,  0.  ,  1.  ,  1.63,  0.  ,  0.  ,  1.  ,  2.  ],\n",
       "       [ 0.  ,  0.  ,  1.  ,  0.  ,  3.11,  1.  ,  1.  ,  0.  ,  2.  ],\n",
       "       [ 1.  ,  0.  ,  0.  ,  0.  ,  3.  ,  1.  ,  1.  ,  0.  ,  2.  ],\n",
       "       [ 0.  ,  0.  ,  0.  ,  1.  ,  5.17,  0.  ,  0.  ,  1.  ,  4.  ],\n",
       "       [ 0.  ,  1.  ,  0.  ,  0.  , 10.  ,  1.  ,  1.  ,  0.  ,  3.  ],\n",
       "       [ 0.  ,  0.  ,  1.  ,  0.  ,  2.5 ,  1.  ,  0.  ,  0.  ,  2.  ],\n",
       "       [ 1.  ,  0.  ,  0.  ,  0.  ,  3.  ,  1.  ,  1.  ,  0.  ,  2.  ],\n",
       "       [ 0.  ,  1.  ,  0.  ,  0.  ,  2.  ,  1.  ,  0.  ,  0.  ,  3.  ],\n",
       "       [ 0.  ,  0.  ,  0.  ,  1.  ,  5.  ,  0.  ,  0.  ,  1.  ,  6.  ],\n",
       "       [ 0.  ,  1.  ,  0.  ,  0.  ,  2.  ,  1.  ,  1.  ,  0.  ,  2.  ],\n",
       "       [ 0.  ,  1.  ,  0.  ,  0.  ,  2.23,  0.  ,  0.  ,  0.  ,  2.  ],\n",
       "       [ 0.  ,  0.  ,  0.  ,  1.  ,  1.8 ,  0.  ,  0.  ,  1.  ,  2.  ],\n",
       "       [ 0.  ,  0.  ,  1.  ,  0.  ,  2.61,  0.  ,  0.  ,  0.  ,  2.  ],\n",
       "       [ 0.  ,  0.  ,  0.  ,  1.  ,  2.  ,  0.  ,  0.  ,  1.  ,  2.  ],\n",
       "       [ 0.  ,  0.  ,  1.  ,  0.  ,  5.  ,  0.  ,  0.  ,  0.  ,  4.  ],\n",
       "       [ 0.  ,  1.  ,  0.  ,  0.  ,  4.67,  0.  ,  0.  ,  0.  ,  3.  ],\n",
       "       [ 0.  ,  1.  ,  0.  ,  0.  ,  2.  ,  1.  ,  0.  ,  0.  ,  2.  ],\n",
       "       [ 0.  ,  0.  ,  1.  ,  0.  ,  2.5 ,  1.  ,  0.  ,  0.  ,  2.  ],\n",
       "       [ 0.  ,  0.  ,  1.  ,  0.  ,  3.61,  0.  ,  0.  ,  0.  ,  4.  ],\n",
       "       [ 0.  ,  0.  ,  0.  ,  1.  ,  2.5 ,  1.  ,  0.  ,  1.  ,  2.  ],\n",
       "       [ 0.  ,  1.  ,  0.  ,  0.  ,  3.  ,  0.  ,  0.  ,  0.  ,  2.  ],\n",
       "       [ 0.  ,  0.  ,  0.  ,  1.  ,  6.7 ,  1.  ,  0.  ,  1.  ,  6.  ],\n",
       "       [ 0.  ,  0.  ,  1.  ,  0.  ,  3.18,  1.  ,  1.  ,  0.  ,  2.  ],\n",
       "       [ 0.  ,  0.  ,  0.  ,  1.  ,  2.  ,  1.  ,  1.  ,  1.  ,  2.  ],\n",
       "       [ 0.  ,  1.  ,  0.  ,  0.  ,  1.98,  1.  ,  1.  ,  0.  ,  2.  ],\n",
       "       [ 0.  ,  0.  ,  0.  ,  1.  ,  1.25,  0.  ,  0.  ,  1.  ,  2.  ],\n",
       "       [ 0.  ,  0.  ,  0.  ,  1.  ,  2.  ,  0.  ,  0.  ,  1.  ,  2.  ],\n",
       "       [ 1.  ,  0.  ,  0.  ,  0.  ,  2.2 ,  1.  ,  1.  ,  1.  ,  2.  ],\n",
       "       [ 0.  ,  0.  ,  1.  ,  0.  ,  3.  ,  1.  ,  1.  ,  0.  ,  2.  ],\n",
       "       [ 0.  ,  1.  ,  0.  ,  0.  ,  1.97,  1.  ,  0.  ,  0.  ,  2.  ],\n",
       "       [ 0.  ,  0.  ,  0.  ,  1.  ,  3.23,  0.  ,  1.  ,  1.  ,  3.  ],\n",
       "       [ 0.  ,  1.  ,  0.  ,  0.  ,  2.64,  1.  ,  0.  ,  0.  ,  3.  ],\n",
       "       [ 0.  ,  0.  ,  1.  ,  0.  ,  5.6 ,  1.  ,  0.  ,  0.  ,  4.  ],\n",
       "       [ 0.  ,  1.  ,  0.  ,  0.  ,  3.09,  0.  ,  1.  ,  0.  ,  4.  ],\n",
       "       [ 0.  ,  1.  ,  0.  ,  0.  ,  2.24,  1.  ,  0.  ,  0.  ,  3.  ],\n",
       "       [ 0.  ,  0.  ,  0.  ,  1.  ,  2.  ,  1.  ,  0.  ,  1.  ,  2.  ],\n",
       "       [ 0.  ,  1.  ,  0.  ,  0.  ,  7.58,  1.  ,  0.  ,  0.  ,  4.  ],\n",
       "       [ 0.  ,  0.  ,  1.  ,  0.  ,  3.5 ,  1.  ,  1.  ,  0.  ,  3.  ],\n",
       "       [ 0.  ,  0.  ,  1.  ,  0.  ,  4.  ,  0.  ,  1.  ,  0.  ,  2.  ],\n",
       "       [ 0.  ,  0.  ,  0.  ,  1.  ,  3.4 ,  1.  ,  0.  ,  1.  ,  2.  ],\n",
       "       [ 0.  ,  1.  ,  0.  ,  0.  ,  5.  ,  1.  ,  0.  ,  0.  ,  3.  ],\n",
       "       [ 0.  ,  0.  ,  0.  ,  1.  ,  4.  ,  1.  ,  1.  ,  1.  ,  4.  ],\n",
       "       [ 0.  ,  0.  ,  1.  ,  0.  ,  6.  ,  1.  ,  0.  ,  0.  ,  4.  ],\n",
       "       [ 1.  ,  0.  ,  0.  ,  0.  ,  3.25,  0.  ,  0.  ,  0.  ,  2.  ],\n",
       "       [ 0.  ,  0.  ,  1.  ,  0.  ,  5.  ,  1.  ,  0.  ,  0.  ,  5.  ],\n",
       "       [ 0.  ,  0.  ,  1.  ,  0.  ,  1.32,  1.  ,  0.  ,  0.  ,  2.  ],\n",
       "       [ 0.  ,  0.  ,  0.  ,  1.  ,  1.5 ,  0.  ,  0.  ,  1.  ,  2.  ],\n",
       "       [ 0.  ,  0.  ,  1.  ,  0.  ,  1.5 ,  1.  ,  1.  ,  0.  ,  2.  ],\n",
       "       [ 0.  ,  0.  ,  1.  ,  0.  ,  3.31,  1.  ,  0.  ,  0.  ,  2.  ],\n",
       "       [ 0.  ,  1.  ,  0.  ,  0.  ,  1.64,  1.  ,  1.  ,  0.  ,  2.  ],\n",
       "       [ 0.  ,  0.  ,  1.  ,  0.  ,  1.56,  1.  ,  0.  ,  0.  ,  2.  ],\n",
       "       [ 0.  ,  0.  ,  0.  ,  1.  ,  2.  ,  0.  ,  0.  ,  1.  ,  2.  ],\n",
       "       [ 1.  ,  0.  ,  0.  ,  0.  ,  3.48,  0.  ,  1.  ,  1.  ,  2.  ],\n",
       "       [ 0.  ,  1.  ,  0.  ,  0.  ,  1.17,  1.  ,  1.  ,  0.  ,  2.  ],\n",
       "       [ 1.  ,  0.  ,  0.  ,  0.  ,  2.  ,  0.  ,  1.  ,  1.  ,  2.  ],\n",
       "       [ 0.  ,  0.  ,  1.  ,  0.  ,  3.  ,  1.  ,  0.  ,  0.  ,  2.  ],\n",
       "       [ 0.  ,  0.  ,  1.  ,  0.  ,  2.  ,  1.  ,  0.  ,  0.  ,  2.  ],\n",
       "       [ 0.  ,  0.  ,  0.  ,  1.  ,  3.  ,  1.  ,  1.  ,  1.  ,  2.  ],\n",
       "       [ 0.  ,  1.  ,  0.  ,  0.  ,  3.27,  1.  ,  0.  ,  0.  ,  2.  ],\n",
       "       [ 0.  ,  0.  ,  0.  ,  1.  ,  2.01,  0.  ,  1.  ,  1.  ,  2.  ],\n",
       "       [ 0.  ,  0.  ,  1.  ,  0.  ,  3.12,  1.  ,  0.  ,  0.  ,  4.  ],\n",
       "       [ 0.  ,  1.  ,  0.  ,  0.  ,  3.16,  1.  ,  1.  ,  0.  ,  2.  ],\n",
       "       [ 0.  ,  1.  ,  0.  ,  0.  ,  3.  ,  1.  ,  0.  ,  0.  ,  2.  ],\n",
       "       [ 1.  ,  0.  ,  0.  ,  0.  ,  3.5 ,  1.  ,  0.  ,  0.  ,  2.  ],\n",
       "       [ 0.  ,  0.  ,  0.  ,  1.  ,  5.  ,  1.  ,  1.  ,  1.  ,  2.  ],\n",
       "       [ 0.  ,  1.  ,  0.  ,  0.  ,  1.5 ,  1.  ,  1.  ,  0.  ,  2.  ],\n",
       "       [ 1.  ,  0.  ,  0.  ,  0.  ,  1.92,  1.  ,  1.  ,  1.  ,  1.  ],\n",
       "       [ 0.  ,  0.  ,  0.  ,  1.  ,  3.  ,  1.  ,  0.  ,  1.  ,  2.  ],\n",
       "       [ 0.  ,  0.  ,  1.  ,  0.  ,  1.96,  1.  ,  0.  ,  0.  ,  2.  ],\n",
       "       [ 0.  ,  0.  ,  1.  ,  0.  ,  3.  ,  1.  ,  0.  ,  0.  ,  4.  ],\n",
       "       [ 0.  ,  1.  ,  0.  ,  0.  ,  6.73,  1.  ,  0.  ,  0.  ,  4.  ],\n",
       "       [ 0.  ,  1.  ,  0.  ,  0.  ,  2.23,  0.  ,  1.  ,  0.  ,  2.  ],\n",
       "       [ 0.  ,  0.  ,  0.  ,  1.  ,  2.83,  0.  ,  0.  ,  1.  ,  2.  ],\n",
       "       [ 0.  ,  0.  ,  1.  ,  0.  ,  3.71,  1.  ,  0.  ,  0.  ,  3.  ],\n",
       "       [ 0.  ,  0.  ,  1.  ,  0.  ,  2.24,  1.  ,  0.  ,  0.  ,  2.  ],\n",
       "       [ 0.  ,  1.  ,  0.  ,  0.  ,  3.14,  0.  ,  1.  ,  0.  ,  2.  ],\n",
       "       [ 0.  ,  1.  ,  0.  ,  0.  ,  3.39,  1.  ,  0.  ,  0.  ,  2.  ],\n",
       "       [ 0.  ,  0.  ,  0.  ,  1.  ,  3.25,  0.  ,  0.  ,  1.  ,  2.  ],\n",
       "       [ 0.  ,  0.  ,  0.  ,  1.  ,  2.  ,  1.  ,  1.  ,  1.  ,  2.  ],\n",
       "       [ 1.  ,  0.  ,  0.  ,  0.  ,  1.58,  1.  ,  1.  ,  1.  ,  2.  ],\n",
       "       [ 0.  ,  1.  ,  0.  ,  0.  ,  3.76,  1.  ,  1.  ,  0.  ,  4.  ],\n",
       "       [ 0.  ,  0.  ,  1.  ,  0.  ,  4.34,  1.  ,  0.  ,  0.  ,  4.  ],\n",
       "       [ 0.  ,  1.  ,  0.  ,  0.  ,  4.29,  1.  ,  1.  ,  0.  ,  2.  ],\n",
       "       [ 0.  ,  0.  ,  1.  ,  0.  ,  2.5 ,  1.  ,  0.  ,  0.  ,  2.  ],\n",
       "       [ 0.  ,  1.  ,  0.  ,  0.  ,  2.  ,  1.  ,  1.  ,  0.  ,  4.  ],\n",
       "       [ 0.  ,  0.  ,  1.  ,  0.  ,  4.  ,  1.  ,  1.  ,  0.  ,  2.  ],\n",
       "       [ 0.  ,  1.  ,  0.  ,  0.  ,  9.  ,  1.  ,  0.  ,  0.  ,  4.  ],\n",
       "       [ 0.  ,  0.  ,  1.  ,  0.  ,  4.  ,  1.  ,  1.  ,  0.  ,  3.  ],\n",
       "       [ 0.  ,  1.  ,  0.  ,  0.  ,  2.  ,  0.  ,  1.  ,  0.  ,  2.  ],\n",
       "       [ 0.  ,  1.  ,  0.  ,  0.  ,  1.1 ,  0.  ,  1.  ,  0.  ,  2.  ],\n",
       "       [ 0.  ,  1.  ,  0.  ,  0.  ,  2.  ,  0.  ,  1.  ,  0.  ,  2.  ],\n",
       "       [ 0.  ,  1.  ,  0.  ,  0.  ,  1.76,  1.  ,  1.  ,  0.  ,  2.  ],\n",
       "       [ 0.  ,  0.  ,  1.  ,  0.  ,  2.05,  1.  ,  0.  ,  0.  ,  3.  ],\n",
       "       [ 0.  ,  0.  ,  0.  ,  1.  ,  5.85,  1.  ,  0.  ,  1.  ,  2.  ],\n",
       "       [ 0.  ,  1.  ,  0.  ,  0.  ,  2.75,  0.  ,  0.  ,  0.  ,  2.  ],\n",
       "       [ 0.  ,  1.  ,  0.  ,  0.  ,  1.5 ,  0.  ,  0.  ,  0.  ,  2.  ],\n",
       "       [ 0.  ,  0.  ,  0.  ,  1.  ,  2.5 ,  0.  ,  1.  ,  1.  ,  2.  ],\n",
       "       [ 0.  ,  0.  ,  1.  ,  0.  ,  3.5 ,  1.  ,  0.  ,  0.  ,  4.  ],\n",
       "       [ 0.  ,  1.  ,  0.  ,  0.  ,  1.  ,  1.  ,  1.  ,  0.  ,  2.  ],\n",
       "       [ 0.  ,  0.  ,  1.  ,  0.  ,  2.  ,  1.  ,  1.  ,  0.  ,  5.  ],\n",
       "       [ 0.  ,  0.  ,  0.  ,  1.  ,  4.19,  0.  ,  1.  ,  1.  ,  2.  ],\n",
       "       [ 0.  ,  0.  ,  0.  ,  1.  ,  2.18,  1.  ,  0.  ,  1.  ,  3.  ],\n",
       "       [ 0.  ,  1.  ,  0.  ,  0.  ,  3.07,  0.  ,  0.  ,  0.  ,  3.  ],\n",
       "       [ 0.  ,  0.  ,  1.  ,  0.  ,  3.75,  0.  ,  0.  ,  0.  ,  4.  ],\n",
       "       [ 0.  ,  1.  ,  0.  ,  0.  ,  2.88,  0.  ,  1.  ,  0.  ,  2.  ],\n",
       "       [ 0.  ,  0.  ,  1.  ,  0.  ,  1.66,  1.  ,  0.  ,  0.  ,  3.  ],\n",
       "       [ 0.  ,  0.  ,  1.  ,  0.  ,  5.2 ,  0.  ,  0.  ,  0.  ,  4.  ],\n",
       "       [ 0.  ,  0.  ,  0.  ,  1.  ,  2.  ,  1.  ,  0.  ,  1.  ,  2.  ],\n",
       "       [ 0.  ,  0.  ,  0.  ,  1.  ,  1.5 ,  1.  ,  0.  ,  1.  ,  2.  ],\n",
       "       [ 0.  ,  0.  ,  1.  ,  0.  ,  2.  ,  1.  ,  0.  ,  0.  ,  2.  ],\n",
       "       [ 0.  ,  1.  ,  0.  ,  0.  ,  3.48,  0.  ,  1.  ,  0.  ,  2.  ],\n",
       "       [ 1.  ,  0.  ,  0.  ,  0.  ,  1.5 ,  1.  ,  0.  ,  0.  ,  2.  ],\n",
       "       [ 0.  ,  0.  ,  1.  ,  0.  ,  5.07,  1.  ,  0.  ,  0.  ,  4.  ],\n",
       "       [ 0.  ,  0.  ,  0.  ,  1.  ,  4.  ,  1.  ,  0.  ,  1.  ,  2.  ],\n",
       "       [ 0.  ,  0.  ,  0.  ,  1.  ,  2.  ,  0.  ,  1.  ,  1.  ,  2.  ],\n",
       "       [ 0.  ,  1.  ,  0.  ,  0.  ,  2.2 ,  0.  ,  0.  ,  0.  ,  2.  ],\n",
       "       [ 0.  ,  1.  ,  0.  ,  0.  ,  6.5 ,  0.  ,  1.  ,  0.  ,  3.  ],\n",
       "       [ 0.  ,  1.  ,  0.  ,  0.  ,  2.  ,  1.  ,  1.  ,  0.  ,  3.  ],\n",
       "       [ 0.  ,  0.  ,  0.  ,  1.  ,  1.68,  0.  ,  0.  ,  1.  ,  2.  ],\n",
       "       [ 0.  ,  0.  ,  0.  ,  1.  ,  3.  ,  0.  ,  0.  ,  0.  ,  2.  ],\n",
       "       [ 0.  ,  1.  ,  0.  ,  0.  ,  4.08,  1.  ,  0.  ,  0.  ,  2.  ],\n",
       "       [ 0.  ,  0.  ,  1.  ,  0.  ,  3.5 ,  0.  ,  1.  ,  0.  ,  3.  ],\n",
       "       [ 0.  ,  1.  ,  0.  ,  0.  ,  3.  ,  0.  ,  0.  ,  0.  ,  3.  ],\n",
       "       [ 0.  ,  1.  ,  0.  ,  0.  ,  4.06,  1.  ,  1.  ,  0.  ,  2.  ],\n",
       "       [ 0.  ,  0.  ,  1.  ,  0.  ,  3.02,  0.  ,  0.  ,  0.  ,  2.  ],\n",
       "       [ 1.  ,  0.  ,  0.  ,  0.  ,  1.  ,  0.  ,  1.  ,  0.  ,  2.  ],\n",
       "       [ 0.  ,  0.  ,  1.  ,  0.  ,  3.55,  1.  ,  1.  ,  0.  ,  2.  ],\n",
       "       [ 0.  ,  1.  ,  0.  ,  0.  ,  2.5 ,  0.  ,  1.  ,  0.  ,  3.  ]])"
      ]
     },
     "execution_count": 118,
     "metadata": {},
     "output_type": "execute_result"
    }
   ],
   "source": [
    "X_train"
   ]
  },
  {
   "cell_type": "code",
   "execution_count": 119,
   "id": "28cde9eb-b994-4495-bc4d-e2fac26c68ca",
   "metadata": {},
   "outputs": [],
   "source": [
    "## SVR--Supoort Vector Regression\n",
    "from sklearn.svm import SVR\n",
    "svr=SVR()"
   ]
  },
  {
   "cell_type": "code",
   "execution_count": 120,
   "id": "9d1f1825-2d48-46e0-8b42-dd91b43d62f1",
   "metadata": {},
   "outputs": [],
   "source": [
    "svr.fit(X_train,y_train)\n",
    "y_pred=svr.predict(X_test)"
   ]
  },
  {
   "cell_type": "code",
   "execution_count": 121,
   "id": "d9179305-6414-4843-abbe-bea124444f9e",
   "metadata": {},
   "outputs": [
    {
     "name": "stdout",
     "output_type": "stream",
     "text": [
      "0.4974038696417854\n",
      "4.457901629454618\n"
     ]
    }
   ],
   "source": [
    "from sklearn.metrics import r2_score,mean_absolute_error\n",
    "print(r2_score(y_test,y_pred))\n",
    "print(mean_absolute_error(y_test,y_pred))"
   ]
  },
  {
   "cell_type": "markdown",
   "id": "37a1ce1a-b963-43b6-9328-40153a5233ff",
   "metadata": {},
   "source": [
    "## Hyperparameter Tuning using GridSearchCV"
   ]
  },
  {
   "cell_type": "code",
   "execution_count": 122,
   "id": "f1d52d70-6995-4f78-a9b8-4535dd68d002",
   "metadata": {},
   "outputs": [
    {
     "name": "stdout",
     "output_type": "stream",
     "text": [
      "Fitting 5 folds for each of 50 candidates, totalling 250 fits\n",
      "[CV 1/5] END .....C=0.1, gamma=1.0, kernel=rbf;, score=-0.112 total time=   0.0s\n",
      "[CV 2/5] END .....C=0.1, gamma=1.0, kernel=rbf;, score=-0.009 total time=   0.0s\n",
      "[CV 3/5] END .....C=0.1, gamma=1.0, kernel=rbf;, score=-0.005 total time=   0.0s\n",
      "[CV 4/5] END .....C=0.1, gamma=1.0, kernel=rbf;, score=-0.016 total time=   0.0s\n",
      "[CV 5/5] END .....C=0.1, gamma=1.0, kernel=rbf;, score=-0.124 total time=   0.0s\n",
      "[CV 1/5] END .C=0.1, gamma=1.0, kernel=sigmoid;, score=-0.162 total time=   0.0s\n",
      "[CV 2/5] END .C=0.1, gamma=1.0, kernel=sigmoid;, score=-0.038 total time=   0.0s\n",
      "[CV 3/5] END .C=0.1, gamma=1.0, kernel=sigmoid;, score=-0.032 total time=   0.0s\n",
      "[CV 4/5] END .C=0.1, gamma=1.0, kernel=sigmoid;, score=-0.036 total time=   0.0s\n",
      "[CV 5/5] END .C=0.1, gamma=1.0, kernel=sigmoid;, score=-0.165 total time=   0.0s\n",
      "[CV 1/5] END ......C=0.1, gamma=0.1, kernel=rbf;, score=0.015 total time=   0.0s\n",
      "[CV 2/5] END ......C=0.1, gamma=0.1, kernel=rbf;, score=0.094 total time=   0.0s\n",
      "[CV 3/5] END ......C=0.1, gamma=0.1, kernel=rbf;, score=0.076 total time=   0.0s\n",
      "[CV 4/5] END ......C=0.1, gamma=0.1, kernel=rbf;, score=0.096 total time=   0.0s\n",
      "[CV 5/5] END .....C=0.1, gamma=0.1, kernel=rbf;, score=-0.023 total time=   0.0s\n",
      "[CV 1/5] END .C=0.1, gamma=0.1, kernel=sigmoid;, score=-0.225 total time=   0.0s\n",
      "[CV 2/5] END .C=0.1, gamma=0.1, kernel=sigmoid;, score=-0.085 total time=   0.0s\n",
      "[CV 3/5] END .C=0.1, gamma=0.1, kernel=sigmoid;, score=-0.066 total time=   0.0s\n",
      "[CV 4/5] END .C=0.1, gamma=0.1, kernel=sigmoid;, score=-0.089 total time=   0.0s\n",
      "[CV 5/5] END .C=0.1, gamma=0.1, kernel=sigmoid;, score=-0.215 total time=   0.0s\n",
      "[CV 1/5] END ....C=0.1, gamma=0.01, kernel=rbf;, score=-0.102 total time=   0.0s\n",
      "[CV 2/5] END .....C=0.1, gamma=0.01, kernel=rbf;, score=0.016 total time=   0.0s\n",
      "[CV 3/5] END .....C=0.1, gamma=0.01, kernel=rbf;, score=0.008 total time=   0.0s\n",
      "[CV 4/5] END .....C=0.1, gamma=0.01, kernel=rbf;, score=0.022 total time=   0.0s\n",
      "[CV 5/5] END ....C=0.1, gamma=0.01, kernel=rbf;, score=-0.114 total time=   0.0s\n",
      "[CV 1/5] END C=0.1, gamma=0.01, kernel=sigmoid;, score=-0.132 total time=   0.0s\n",
      "[CV 2/5] END C=0.1, gamma=0.01, kernel=sigmoid;, score=-0.009 total time=   0.0s\n",
      "[CV 3/5] END C=0.1, gamma=0.01, kernel=sigmoid;, score=-0.011 total time=   0.0s\n",
      "[CV 4/5] END C=0.1, gamma=0.01, kernel=sigmoid;, score=-0.005 total time=   0.0s\n",
      "[CV 5/5] END C=0.1, gamma=0.01, kernel=sigmoid;, score=-0.142 total time=   0.0s\n",
      "[CV 1/5] END ...C=0.1, gamma=0.001, kernel=rbf;, score=-0.155 total time=   0.0s\n",
      "[CV 2/5] END ...C=0.1, gamma=0.001, kernel=rbf;, score=-0.031 total time=   0.0s\n",
      "[CV 3/5] END ...C=0.1, gamma=0.001, kernel=rbf;, score=-0.027 total time=   0.0s\n",
      "[CV 4/5] END ...C=0.1, gamma=0.001, kernel=rbf;, score=-0.028 total time=   0.0s\n",
      "[CV 5/5] END ...C=0.1, gamma=0.001, kernel=rbf;, score=-0.160 total time=   0.0s\n",
      "[CV 1/5] END C=0.1, gamma=0.001, kernel=sigmoid;, score=-0.158 total time=   0.0s\n",
      "[CV 2/5] END C=0.1, gamma=0.001, kernel=sigmoid;, score=-0.035 total time=   0.0s\n",
      "[CV 3/5] END C=0.1, gamma=0.001, kernel=sigmoid;, score=-0.030 total time=   0.0s\n",
      "[CV 4/5] END C=0.1, gamma=0.001, kernel=sigmoid;, score=-0.032 total time=   0.0s\n",
      "[CV 5/5] END C=0.1, gamma=0.001, kernel=sigmoid;, score=-0.163 total time=   0.0s\n",
      "[CV 1/5] END ..C=0.1, gamma=0.0001, kernel=rbf;, score=-0.161 total time=   0.0s\n",
      "[CV 2/5] END ..C=0.1, gamma=0.0001, kernel=rbf;, score=-0.038 total time=   0.0s\n",
      "[CV 3/5] END ..C=0.1, gamma=0.0001, kernel=rbf;, score=-0.032 total time=   0.0s\n",
      "[CV 4/5] END ..C=0.1, gamma=0.0001, kernel=rbf;, score=-0.035 total time=   0.0s\n",
      "[CV 5/5] END ..C=0.1, gamma=0.0001, kernel=rbf;, score=-0.165 total time=   0.0s\n",
      "[CV 1/5] END C=0.1, gamma=0.0001, kernel=sigmoid;, score=-0.161 total time=   0.0s\n",
      "[CV 2/5] END C=0.1, gamma=0.0001, kernel=sigmoid;, score=-0.038 total time=   0.0s\n",
      "[CV 3/5] END C=0.1, gamma=0.0001, kernel=sigmoid;, score=-0.032 total time=   0.0s\n",
      "[CV 4/5] END C=0.1, gamma=0.0001, kernel=sigmoid;, score=-0.035 total time=   0.0s\n",
      "[CV 5/5] END C=0.1, gamma=0.0001, kernel=sigmoid;, score=-0.165 total time=   0.0s\n",
      "[CV 1/5] END ........C=1, gamma=1.0, kernel=rbf;, score=0.115 total time=   0.0s\n",
      "[CV 2/5] END ........C=1, gamma=1.0, kernel=rbf;, score=0.219 total time=   0.0s\n",
      "[CV 3/5] END ........C=1, gamma=1.0, kernel=rbf;, score=0.196 total time=   0.0s\n",
      "[CV 4/5] END ........C=1, gamma=1.0, kernel=rbf;, score=0.148 total time=   0.0s\n",
      "[CV 5/5] END ........C=1, gamma=1.0, kernel=rbf;, score=0.104 total time=   0.0s\n",
      "[CV 1/5] END ...C=1, gamma=1.0, kernel=sigmoid;, score=-0.162 total time=   0.0s\n",
      "[CV 2/5] END ...C=1, gamma=1.0, kernel=sigmoid;, score=-0.038 total time=   0.0s\n",
      "[CV 3/5] END ...C=1, gamma=1.0, kernel=sigmoid;, score=-0.032 total time=   0.0s\n",
      "[CV 4/5] END ...C=1, gamma=1.0, kernel=sigmoid;, score=-0.036 total time=   0.0s\n",
      "[CV 5/5] END ...C=1, gamma=1.0, kernel=sigmoid;, score=-0.166 total time=   0.0s\n",
      "[CV 1/5] END ........C=1, gamma=0.1, kernel=rbf;, score=0.487 total time=   0.0s\n",
      "[CV 2/5] END ........C=1, gamma=0.1, kernel=rbf;, score=0.463 total time=   0.0s\n",
      "[CV 3/5] END ........C=1, gamma=0.1, kernel=rbf;, score=0.329 total time=   0.0s\n",
      "[CV 4/5] END ........C=1, gamma=0.1, kernel=rbf;, score=0.422 total time=   0.0s\n",
      "[CV 5/5] END ........C=1, gamma=0.1, kernel=rbf;, score=0.201 total time=   0.0s\n",
      "[CV 1/5] END ...C=1, gamma=0.1, kernel=sigmoid;, score=-0.989 total time=   0.0s\n",
      "[CV 2/5] END ...C=1, gamma=0.1, kernel=sigmoid;, score=-0.791 total time=   0.0s\n",
      "[CV 3/5] END ...C=1, gamma=0.1, kernel=sigmoid;, score=-0.600 total time=   0.0s\n",
      "[CV 4/5] END ...C=1, gamma=0.1, kernel=sigmoid;, score=-0.734 total time=   0.0s\n",
      "[CV 5/5] END ...C=1, gamma=0.1, kernel=sigmoid;, score=-0.733 total time=   0.0s\n",
      "[CV 1/5] END .......C=1, gamma=0.01, kernel=rbf;, score=0.195 total time=   0.0s\n",
      "[CV 2/5] END .......C=1, gamma=0.01, kernel=rbf;, score=0.372 total time=   0.0s\n",
      "[CV 3/5] END .......C=1, gamma=0.01, kernel=rbf;, score=0.264 total time=   0.0s\n",
      "[CV 4/5] END .......C=1, gamma=0.01, kernel=rbf;, score=0.366 total time=   0.0s\n",
      "[CV 5/5] END .......C=1, gamma=0.01, kernel=rbf;, score=0.088 total time=   0.0s\n",
      "[CV 1/5] END ...C=1, gamma=0.01, kernel=sigmoid;, score=0.065 total time=   0.0s\n",
      "[CV 2/5] END ...C=1, gamma=0.01, kernel=sigmoid;, score=0.211 total time=   0.0s\n",
      "[CV 3/5] END ...C=1, gamma=0.01, kernel=sigmoid;, score=0.143 total time=   0.0s\n",
      "[CV 4/5] END ...C=1, gamma=0.01, kernel=sigmoid;, score=0.216 total time=   0.0s\n",
      "[CV 5/5] END ...C=1, gamma=0.01, kernel=sigmoid;, score=0.002 total time=   0.0s\n",
      "[CV 1/5] END .....C=1, gamma=0.001, kernel=rbf;, score=-0.094 total time=   0.0s\n",
      "[CV 2/5] END ......C=1, gamma=0.001, kernel=rbf;, score=0.031 total time=   0.0s\n",
      "[CV 3/5] END ......C=1, gamma=0.001, kernel=rbf;, score=0.015 total time=   0.0s\n",
      "[CV 4/5] END ......C=1, gamma=0.001, kernel=rbf;, score=0.036 total time=   0.0s\n",
      "[CV 5/5] END .....C=1, gamma=0.001, kernel=rbf;, score=-0.106 total time=   0.0s\n",
      "[CV 1/5] END .C=1, gamma=0.001, kernel=sigmoid;, score=-0.127 total time=   0.0s\n",
      "[CV 2/5] END .C=1, gamma=0.001, kernel=sigmoid;, score=-0.001 total time=   0.0s\n",
      "[CV 3/5] END .C=1, gamma=0.001, kernel=sigmoid;, score=-0.007 total time=   0.0s\n",
      "[CV 4/5] END ..C=1, gamma=0.001, kernel=sigmoid;, score=0.003 total time=   0.0s\n",
      "[CV 5/5] END .C=1, gamma=0.001, kernel=sigmoid;, score=-0.138 total time=   0.0s\n",
      "[CV 1/5] END ....C=1, gamma=0.0001, kernel=rbf;, score=-0.155 total time=   0.0s\n",
      "[CV 2/5] END ....C=1, gamma=0.0001, kernel=rbf;, score=-0.031 total time=   0.0s\n",
      "[CV 3/5] END ....C=1, gamma=0.0001, kernel=rbf;, score=-0.027 total time=   0.0s\n",
      "[CV 4/5] END ....C=1, gamma=0.0001, kernel=rbf;, score=-0.028 total time=   0.0s\n",
      "[CV 5/5] END ....C=1, gamma=0.0001, kernel=rbf;, score=-0.160 total time=   0.0s\n",
      "[CV 1/5] END C=1, gamma=0.0001, kernel=sigmoid;, score=-0.158 total time=   0.0s\n",
      "[CV 2/5] END C=1, gamma=0.0001, kernel=sigmoid;, score=-0.035 total time=   0.0s\n",
      "[CV 3/5] END C=1, gamma=0.0001, kernel=sigmoid;, score=-0.030 total time=   0.0s\n",
      "[CV 4/5] END C=1, gamma=0.0001, kernel=sigmoid;, score=-0.032 total time=   0.0s\n",
      "[CV 5/5] END C=1, gamma=0.0001, kernel=sigmoid;, score=-0.163 total time=   0.0s\n",
      "[CV 1/5] END .......C=10, gamma=1.0, kernel=rbf;, score=0.309 total time=   0.0s\n",
      "[CV 2/5] END .......C=10, gamma=1.0, kernel=rbf;, score=0.513 total time=   0.0s\n",
      "[CV 3/5] END .......C=10, gamma=1.0, kernel=rbf;, score=0.516 total time=   0.0s\n",
      "[CV 4/5] END .......C=10, gamma=1.0, kernel=rbf;, score=0.244 total time=   0.0s\n",
      "[CV 5/5] END .......C=10, gamma=1.0, kernel=rbf;, score=0.299 total time=   0.0s\n",
      "[CV 1/5] END ..C=10, gamma=1.0, kernel=sigmoid;, score=-0.166 total time=   0.0s\n",
      "[CV 2/5] END ..C=10, gamma=1.0, kernel=sigmoid;, score=-0.039 total time=   0.0s\n",
      "[CV 3/5] END ..C=10, gamma=1.0, kernel=sigmoid;, score=-0.033 total time=   0.0s\n",
      "[CV 4/5] END ..C=10, gamma=1.0, kernel=sigmoid;, score=-0.036 total time=   0.0s\n",
      "[CV 5/5] END ..C=10, gamma=1.0, kernel=sigmoid;, score=-0.166 total time=   0.0s\n",
      "[CV 1/5] END .......C=10, gamma=0.1, kernel=rbf;, score=0.598 total time=   0.0s\n",
      "[CV 2/5] END .......C=10, gamma=0.1, kernel=rbf;, score=0.632 total time=   0.0s\n",
      "[CV 3/5] END .......C=10, gamma=0.1, kernel=rbf;, score=0.428 total time=   0.0s\n",
      "[CV 4/5] END .......C=10, gamma=0.1, kernel=rbf;, score=0.597 total time=   0.0s\n",
      "[CV 5/5] END .......C=10, gamma=0.1, kernel=rbf;, score=0.244 total time=   0.0s\n",
      "[CV 1/5] END .C=10, gamma=0.1, kernel=sigmoid;, score=-29.814 total time=   0.0s\n",
      "[CV 2/5] END .C=10, gamma=0.1, kernel=sigmoid;, score=-25.402 total time=   0.0s\n",
      "[CV 3/5] END .C=10, gamma=0.1, kernel=sigmoid;, score=-20.077 total time=   0.0s\n",
      "[CV 4/5] END .C=10, gamma=0.1, kernel=sigmoid;, score=-22.511 total time=   0.0s\n",
      "[CV 5/5] END .C=10, gamma=0.1, kernel=sigmoid;, score=-23.195 total time=   0.0s\n",
      "[CV 1/5] END ......C=10, gamma=0.01, kernel=rbf;, score=0.529 total time=   0.0s\n",
      "[CV 2/5] END ......C=10, gamma=0.01, kernel=rbf;, score=0.628 total time=   0.0s\n",
      "[CV 3/5] END ......C=10, gamma=0.01, kernel=rbf;, score=0.382 total time=   0.0s\n",
      "[CV 4/5] END ......C=10, gamma=0.01, kernel=rbf;, score=0.628 total time=   0.0s\n",
      "[CV 5/5] END ......C=10, gamma=0.01, kernel=rbf;, score=0.216 total time=   0.0s\n",
      "[CV 1/5] END ..C=10, gamma=0.01, kernel=sigmoid;, score=0.513 total time=   0.0s\n",
      "[CV 2/5] END ..C=10, gamma=0.01, kernel=sigmoid;, score=0.618 total time=   0.0s\n",
      "[CV 3/5] END ..C=10, gamma=0.01, kernel=sigmoid;, score=0.375 total time=   0.0s\n",
      "[CV 4/5] END ..C=10, gamma=0.01, kernel=sigmoid;, score=0.579 total time=   0.0s\n",
      "[CV 5/5] END ..C=10, gamma=0.01, kernel=sigmoid;, score=0.203 total time=   0.0s\n",
      "[CV 1/5] END .....C=10, gamma=0.001, kernel=rbf;, score=0.229 total time=   0.0s\n",
      "[CV 2/5] END .....C=10, gamma=0.001, kernel=rbf;, score=0.460 total time=   0.0s\n",
      "[CV 3/5] END .....C=10, gamma=0.001, kernel=rbf;, score=0.304 total time=   0.0s\n",
      "[CV 4/5] END .....C=10, gamma=0.001, kernel=rbf;, score=0.440 total time=   0.0s\n",
      "[CV 5/5] END .....C=10, gamma=0.001, kernel=rbf;, score=0.107 total time=   0.0s\n",
      "[CV 1/5] END .C=10, gamma=0.001, kernel=sigmoid;, score=0.078 total time=   0.0s\n",
      "[CV 2/5] END .C=10, gamma=0.001, kernel=sigmoid;, score=0.261 total time=   0.0s\n",
      "[CV 3/5] END .C=10, gamma=0.001, kernel=sigmoid;, score=0.177 total time=   0.0s\n",
      "[CV 4/5] END .C=10, gamma=0.001, kernel=sigmoid;, score=0.276 total time=   0.0s\n",
      "[CV 5/5] END .C=10, gamma=0.001, kernel=sigmoid;, score=0.021 total time=   0.0s\n",
      "[CV 1/5] END ...C=10, gamma=0.0001, kernel=rbf;, score=-0.093 total time=   0.0s\n",
      "[CV 2/5] END ....C=10, gamma=0.0001, kernel=rbf;, score=0.032 total time=   0.0s\n",
      "[CV 3/5] END ....C=10, gamma=0.0001, kernel=rbf;, score=0.016 total time=   0.0s\n",
      "[CV 4/5] END ....C=10, gamma=0.0001, kernel=rbf;, score=0.038 total time=   0.0s\n",
      "[CV 5/5] END ...C=10, gamma=0.0001, kernel=rbf;, score=-0.106 total time=   0.0s\n",
      "[CV 1/5] END C=10, gamma=0.0001, kernel=sigmoid;, score=-0.127 total time=   0.0s\n",
      "[CV 2/5] END C=10, gamma=0.0001, kernel=sigmoid;, score=-0.001 total time=   0.0s\n",
      "[CV 3/5] END C=10, gamma=0.0001, kernel=sigmoid;, score=-0.007 total time=   0.0s\n",
      "[CV 4/5] END C=10, gamma=0.0001, kernel=sigmoid;, score=0.003 total time=   0.0s\n",
      "[CV 5/5] END C=10, gamma=0.0001, kernel=sigmoid;, score=-0.138 total time=   0.0s\n",
      "[CV 1/5] END ......C=100, gamma=1.0, kernel=rbf;, score=0.295 total time=   0.0s\n",
      "[CV 2/5] END ......C=100, gamma=1.0, kernel=rbf;, score=0.517 total time=   0.0s\n",
      "[CV 3/5] END ......C=100, gamma=1.0, kernel=rbf;, score=0.610 total time=   0.0s\n",
      "[CV 4/5] END ......C=100, gamma=1.0, kernel=rbf;, score=0.115 total time=   0.0s\n",
      "[CV 5/5] END .....C=100, gamma=1.0, kernel=rbf;, score=-0.053 total time=   0.0s\n",
      "[CV 1/5] END .C=100, gamma=1.0, kernel=sigmoid;, score=-0.210 total time=   0.0s\n",
      "[CV 2/5] END .C=100, gamma=1.0, kernel=sigmoid;, score=-0.042 total time=   0.0s\n",
      "[CV 3/5] END .C=100, gamma=1.0, kernel=sigmoid;, score=-0.038 total time=   0.0s\n",
      "[CV 4/5] END .C=100, gamma=1.0, kernel=sigmoid;, score=-0.042 total time=   0.0s\n",
      "[CV 5/5] END .C=100, gamma=1.0, kernel=sigmoid;, score=-0.173 total time=   0.0s\n",
      "[CV 1/5] END ......C=100, gamma=0.1, kernel=rbf;, score=0.334 total time=   0.0s\n",
      "[CV 2/5] END ......C=100, gamma=0.1, kernel=rbf;, score=0.693 total time=   0.0s\n",
      "[CV 3/5] END ......C=100, gamma=0.1, kernel=rbf;, score=0.397 total time=   0.0s\n",
      "[CV 4/5] END ......C=100, gamma=0.1, kernel=rbf;, score=0.456 total time=   0.0s\n",
      "[CV 5/5] END ......C=100, gamma=0.1, kernel=rbf;, score=0.300 total time=   0.0s\n",
      "[CV 1/5] END C=100, gamma=0.1, kernel=sigmoid;, score=-2291.733 total time=   0.0s\n",
      "[CV 2/5] END C=100, gamma=0.1, kernel=sigmoid;, score=-1971.278 total time=   0.0s\n",
      "[CV 3/5] END C=100, gamma=0.1, kernel=sigmoid;, score=-1586.479 total time=   0.0s\n",
      "[CV 4/5] END C=100, gamma=0.1, kernel=sigmoid;, score=-1733.882 total time=   0.0s\n",
      "[CV 5/5] END C=100, gamma=0.1, kernel=sigmoid;, score=-1882.532 total time=   0.0s\n",
      "[CV 1/5] END .....C=100, gamma=0.01, kernel=rbf;, score=0.602 total time=   0.0s\n",
      "[CV 2/5] END .....C=100, gamma=0.01, kernel=rbf;, score=0.687 total time=   0.0s\n",
      "[CV 3/5] END .....C=100, gamma=0.01, kernel=rbf;, score=0.388 total time=   0.0s\n",
      "[CV 4/5] END .....C=100, gamma=0.01, kernel=rbf;, score=0.683 total time=   0.0s\n",
      "[CV 5/5] END .....C=100, gamma=0.01, kernel=rbf;, score=0.239 total time=   0.0s\n",
      "[CV 1/5] END .C=100, gamma=0.01, kernel=sigmoid;, score=0.657 total time=   0.0s\n",
      "[CV 2/5] END .C=100, gamma=0.01, kernel=sigmoid;, score=0.185 total time=   0.0s\n",
      "[CV 3/5] END .C=100, gamma=0.01, kernel=sigmoid;, score=0.281 total time=   0.0s\n",
      "[CV 4/5] END .C=100, gamma=0.01, kernel=sigmoid;, score=0.153 total time=   0.0s\n",
      "[CV 5/5] END .C=100, gamma=0.01, kernel=sigmoid;, score=0.200 total time=   0.0s\n",
      "[CV 1/5] END ....C=100, gamma=0.001, kernel=rbf;, score=0.534 total time=   0.0s\n",
      "[CV 2/5] END ....C=100, gamma=0.001, kernel=rbf;, score=0.656 total time=   0.0s\n",
      "[CV 3/5] END ....C=100, gamma=0.001, kernel=rbf;, score=0.376 total time=   0.0s\n",
      "[CV 4/5] END ....C=100, gamma=0.001, kernel=rbf;, score=0.654 total time=   0.0s\n",
      "[CV 5/5] END ....C=100, gamma=0.001, kernel=rbf;, score=0.215 total time=   0.0s\n",
      "[CV 1/5] END C=100, gamma=0.001, kernel=sigmoid;, score=0.502 total time=   0.0s\n",
      "[CV 2/5] END C=100, gamma=0.001, kernel=sigmoid;, score=0.649 total time=   0.0s\n",
      "[CV 3/5] END C=100, gamma=0.001, kernel=sigmoid;, score=0.384 total time=   0.0s\n",
      "[CV 4/5] END C=100, gamma=0.001, kernel=sigmoid;, score=0.634 total time=   0.0s\n",
      "[CV 5/5] END C=100, gamma=0.001, kernel=sigmoid;, score=0.202 total time=   0.0s\n",
      "[CV 1/5] END ...C=100, gamma=0.0001, kernel=rbf;, score=0.233 total time=   0.0s\n",
      "[CV 2/5] END ...C=100, gamma=0.0001, kernel=rbf;, score=0.467 total time=   0.0s\n",
      "[CV 3/5] END ...C=100, gamma=0.0001, kernel=rbf;, score=0.308 total time=   0.0s\n",
      "[CV 4/5] END ...C=100, gamma=0.0001, kernel=rbf;, score=0.445 total time=   0.0s\n",
      "[CV 5/5] END ...C=100, gamma=0.0001, kernel=rbf;, score=0.111 total time=   0.0s\n",
      "[CV 1/5] END C=100, gamma=0.0001, kernel=sigmoid;, score=0.078 total time=   0.0s\n",
      "[CV 2/5] END C=100, gamma=0.0001, kernel=sigmoid;, score=0.261 total time=   0.0s\n",
      "[CV 3/5] END C=100, gamma=0.0001, kernel=sigmoid;, score=0.178 total time=   0.0s\n",
      "[CV 4/5] END C=100, gamma=0.0001, kernel=sigmoid;, score=0.277 total time=   0.0s\n",
      "[CV 5/5] END C=100, gamma=0.0001, kernel=sigmoid;, score=0.021 total time=   0.0s\n",
      "[CV 1/5] END ....C=1000, gamma=1.0, kernel=rbf;, score=-0.189 total time=   0.0s\n",
      "[CV 2/5] END .....C=1000, gamma=1.0, kernel=rbf;, score=0.531 total time=   0.0s\n",
      "[CV 3/5] END .....C=1000, gamma=1.0, kernel=rbf;, score=0.585 total time=   0.0s\n",
      "[CV 4/5] END ....C=1000, gamma=1.0, kernel=rbf;, score=-0.609 total time=   0.0s\n",
      "[CV 5/5] END ....C=1000, gamma=1.0, kernel=rbf;, score=-0.725 total time=   0.0s\n",
      "[CV 1/5] END C=1000, gamma=1.0, kernel=sigmoid;, score=-1.404 total time=   0.0s\n",
      "[CV 2/5] END C=1000, gamma=1.0, kernel=sigmoid;, score=-0.088 total time=   0.0s\n",
      "[CV 3/5] END C=1000, gamma=1.0, kernel=sigmoid;, score=-0.101 total time=   0.0s\n",
      "[CV 4/5] END C=1000, gamma=1.0, kernel=sigmoid;, score=-0.122 total time=   0.0s\n",
      "[CV 5/5] END C=1000, gamma=1.0, kernel=sigmoid;, score=-0.269 total time=   0.0s\n",
      "[CV 1/5] END ....C=1000, gamma=0.1, kernel=rbf;, score=-0.107 total time=   0.0s\n",
      "[CV 2/5] END .....C=1000, gamma=0.1, kernel=rbf;, score=0.665 total time=   0.0s\n",
      "[CV 3/5] END .....C=1000, gamma=0.1, kernel=rbf;, score=0.433 total time=   0.0s\n",
      "[CV 4/5] END .....C=1000, gamma=0.1, kernel=rbf;, score=0.193 total time=   0.0s\n",
      "[CV 5/5] END .....C=1000, gamma=0.1, kernel=rbf;, score=0.295 total time=   0.0s\n",
      "[CV 1/5] END C=1000, gamma=0.1, kernel=sigmoid;, score=-225254.580 total time=   0.0s\n",
      "[CV 2/5] END C=1000, gamma=0.1, kernel=sigmoid;, score=-191200.217 total time=   0.0s\n",
      "[CV 3/5] END C=1000, gamma=0.1, kernel=sigmoid;, score=-154263.942 total time=   0.0s\n",
      "[CV 4/5] END C=1000, gamma=0.1, kernel=sigmoid;, score=-168386.367 total time=   0.0s\n",
      "[CV 5/5] END C=1000, gamma=0.1, kernel=sigmoid;, score=-184619.964 total time=   0.0s\n",
      "[CV 1/5] END ....C=1000, gamma=0.01, kernel=rbf;, score=0.657 total time=   0.0s\n",
      "[CV 2/5] END ....C=1000, gamma=0.01, kernel=rbf;, score=0.712 total time=   0.0s\n",
      "[CV 3/5] END ....C=1000, gamma=0.01, kernel=rbf;, score=0.422 total time=   0.0s\n",
      "[CV 4/5] END ....C=1000, gamma=0.01, kernel=rbf;, score=0.644 total time=   0.0s\n",
      "[CV 5/5] END ....C=1000, gamma=0.01, kernel=rbf;, score=0.183 total time=   0.0s\n",
      "[CV 1/5] END C=1000, gamma=0.01, kernel=sigmoid;, score=-14.765 total time=   0.0s\n",
      "[CV 2/5] END C=1000, gamma=0.01, kernel=sigmoid;, score=-151.717 total time=   0.0s\n",
      "[CV 3/5] END C=1000, gamma=0.01, kernel=sigmoid;, score=-59.883 total time=   0.0s\n",
      "[CV 4/5] END C=1000, gamma=0.01, kernel=sigmoid;, score=-115.107 total time=   0.0s\n",
      "[CV 5/5] END C=1000, gamma=0.01, kernel=sigmoid;, score=-21.932 total time=   0.0s\n",
      "[CV 1/5] END ...C=1000, gamma=0.001, kernel=rbf;, score=0.624 total time=   0.0s\n",
      "[CV 2/5] END ...C=1000, gamma=0.001, kernel=rbf;, score=0.673 total time=   0.0s\n",
      "[CV 3/5] END ...C=1000, gamma=0.001, kernel=rbf;, score=0.359 total time=   0.0s\n",
      "[CV 4/5] END ...C=1000, gamma=0.001, kernel=rbf;, score=0.676 total time=   0.0s\n",
      "[CV 5/5] END ...C=1000, gamma=0.001, kernel=rbf;, score=0.230 total time=   0.0s\n",
      "[CV 1/5] END C=1000, gamma=0.001, kernel=sigmoid;, score=0.608 total time=   0.0s\n",
      "[CV 2/5] END C=1000, gamma=0.001, kernel=sigmoid;, score=0.663 total time=   0.0s\n",
      "[CV 3/5] END C=1000, gamma=0.001, kernel=sigmoid;, score=0.368 total time=   0.0s\n",
      "[CV 4/5] END C=1000, gamma=0.001, kernel=sigmoid;, score=0.666 total time=   0.0s\n",
      "[CV 5/5] END C=1000, gamma=0.001, kernel=sigmoid;, score=0.218 total time=   0.0s\n",
      "[CV 1/5] END ..C=1000, gamma=0.0001, kernel=rbf;, score=0.532 total time=   0.0s\n",
      "[CV 2/5] END ..C=1000, gamma=0.0001, kernel=rbf;, score=0.658 total time=   0.0s\n",
      "[CV 3/5] END ..C=1000, gamma=0.0001, kernel=rbf;, score=0.375 total time=   0.0s\n",
      "[CV 4/5] END ..C=1000, gamma=0.0001, kernel=rbf;, score=0.655 total time=   0.0s\n",
      "[CV 5/5] END ..C=1000, gamma=0.0001, kernel=rbf;, score=0.212 total time=   0.0s\n",
      "[CV 1/5] END C=1000, gamma=0.0001, kernel=sigmoid;, score=0.501 total time=   0.0s\n",
      "[CV 2/5] END C=1000, gamma=0.0001, kernel=sigmoid;, score=0.649 total time=   0.0s\n",
      "[CV 3/5] END C=1000, gamma=0.0001, kernel=sigmoid;, score=0.384 total time=   0.0s\n",
      "[CV 4/5] END C=1000, gamma=0.0001, kernel=sigmoid;, score=0.635 total time=   0.0s\n",
      "[CV 5/5] END C=1000, gamma=0.0001, kernel=sigmoid;, score=0.202 total time=   0.0s\n"
     ]
    },
    {
     "data": {
      "text/html": [
       "<style>#sk-container-id-7 {color: black;background-color: white;}#sk-container-id-7 pre{padding: 0;}#sk-container-id-7 div.sk-toggleable {background-color: white;}#sk-container-id-7 label.sk-toggleable__label {cursor: pointer;display: block;width: 100%;margin-bottom: 0;padding: 0.3em;box-sizing: border-box;text-align: center;}#sk-container-id-7 label.sk-toggleable__label-arrow:before {content: \"▸\";float: left;margin-right: 0.25em;color: #696969;}#sk-container-id-7 label.sk-toggleable__label-arrow:hover:before {color: black;}#sk-container-id-7 div.sk-estimator:hover label.sk-toggleable__label-arrow:before {color: black;}#sk-container-id-7 div.sk-toggleable__content {max-height: 0;max-width: 0;overflow: hidden;text-align: left;background-color: #f0f8ff;}#sk-container-id-7 div.sk-toggleable__content pre {margin: 0.2em;color: black;border-radius: 0.25em;background-color: #f0f8ff;}#sk-container-id-7 input.sk-toggleable__control:checked~div.sk-toggleable__content {max-height: 200px;max-width: 100%;overflow: auto;}#sk-container-id-7 input.sk-toggleable__control:checked~label.sk-toggleable__label-arrow:before {content: \"▾\";}#sk-container-id-7 div.sk-estimator input.sk-toggleable__control:checked~label.sk-toggleable__label {background-color: #d4ebff;}#sk-container-id-7 div.sk-label input.sk-toggleable__control:checked~label.sk-toggleable__label {background-color: #d4ebff;}#sk-container-id-7 input.sk-hidden--visually {border: 0;clip: rect(1px 1px 1px 1px);clip: rect(1px, 1px, 1px, 1px);height: 1px;margin: -1px;overflow: hidden;padding: 0;position: absolute;width: 1px;}#sk-container-id-7 div.sk-estimator {font-family: monospace;background-color: #f0f8ff;border: 1px dotted black;border-radius: 0.25em;box-sizing: border-box;margin-bottom: 0.5em;}#sk-container-id-7 div.sk-estimator:hover {background-color: #d4ebff;}#sk-container-id-7 div.sk-parallel-item::after {content: \"\";width: 100%;border-bottom: 1px solid gray;flex-grow: 1;}#sk-container-id-7 div.sk-label:hover label.sk-toggleable__label {background-color: #d4ebff;}#sk-container-id-7 div.sk-serial::before {content: \"\";position: absolute;border-left: 1px solid gray;box-sizing: border-box;top: 0;bottom: 0;left: 50%;z-index: 0;}#sk-container-id-7 div.sk-serial {display: flex;flex-direction: column;align-items: center;background-color: white;padding-right: 0.2em;padding-left: 0.2em;position: relative;}#sk-container-id-7 div.sk-item {position: relative;z-index: 1;}#sk-container-id-7 div.sk-parallel {display: flex;align-items: stretch;justify-content: center;background-color: white;position: relative;}#sk-container-id-7 div.sk-item::before, #sk-container-id-7 div.sk-parallel-item::before {content: \"\";position: absolute;border-left: 1px solid gray;box-sizing: border-box;top: 0;bottom: 0;left: 50%;z-index: -1;}#sk-container-id-7 div.sk-parallel-item {display: flex;flex-direction: column;z-index: 1;position: relative;background-color: white;}#sk-container-id-7 div.sk-parallel-item:first-child::after {align-self: flex-end;width: 50%;}#sk-container-id-7 div.sk-parallel-item:last-child::after {align-self: flex-start;width: 50%;}#sk-container-id-7 div.sk-parallel-item:only-child::after {width: 0;}#sk-container-id-7 div.sk-dashed-wrapped {border: 1px dashed gray;margin: 0 0.4em 0.5em 0.4em;box-sizing: border-box;padding-bottom: 0.4em;background-color: white;}#sk-container-id-7 div.sk-label label {font-family: monospace;font-weight: bold;display: inline-block;line-height: 1.2em;}#sk-container-id-7 div.sk-label-container {text-align: center;}#sk-container-id-7 div.sk-container {/* jupyter's `normalize.less` sets `[hidden] { display: none; }` but bootstrap.min.css set `[hidden] { display: none !important; }` so we also need the `!important` here to be able to override the default hidden behavior on the sphinx rendered scikit-learn.org. See: https://github.com/scikit-learn/scikit-learn/issues/21755 */display: inline-block !important;position: relative;}#sk-container-id-7 div.sk-text-repr-fallback {display: none;}</style><div id=\"sk-container-id-7\" class=\"sk-top-container\"><div class=\"sk-text-repr-fallback\"><pre>GridSearchCV(cv=5, estimator=SVR(),\n",
       "             param_grid={&#x27;C&#x27;: [0.1, 1, 10, 100, 1000],\n",
       "                         &#x27;gamma&#x27;: [1.0, 0.1, 0.01, 0.001, 0.0001],\n",
       "                         &#x27;kernel&#x27;: [&#x27;rbf&#x27;, &#x27;sigmoid&#x27;]},\n",
       "             verbose=3)</pre><b>In a Jupyter environment, please rerun this cell to show the HTML representation or trust the notebook. <br />On GitHub, the HTML representation is unable to render, please try loading this page with nbviewer.org.</b></div><div class=\"sk-container\" hidden><div class=\"sk-item sk-dashed-wrapped\"><div class=\"sk-label-container\"><div class=\"sk-label sk-toggleable\"><input class=\"sk-toggleable__control sk-hidden--visually\" id=\"sk-estimator-id-19\" type=\"checkbox\" ><label for=\"sk-estimator-id-19\" class=\"sk-toggleable__label sk-toggleable__label-arrow\">GridSearchCV</label><div class=\"sk-toggleable__content\"><pre>GridSearchCV(cv=5, estimator=SVR(),\n",
       "             param_grid={&#x27;C&#x27;: [0.1, 1, 10, 100, 1000],\n",
       "                         &#x27;gamma&#x27;: [1.0, 0.1, 0.01, 0.001, 0.0001],\n",
       "                         &#x27;kernel&#x27;: [&#x27;rbf&#x27;, &#x27;sigmoid&#x27;]},\n",
       "             verbose=3)</pre></div></div></div><div class=\"sk-parallel\"><div class=\"sk-parallel-item\"><div class=\"sk-item\"><div class=\"sk-label-container\"><div class=\"sk-label sk-toggleable\"><input class=\"sk-toggleable__control sk-hidden--visually\" id=\"sk-estimator-id-20\" type=\"checkbox\" ><label for=\"sk-estimator-id-20\" class=\"sk-toggleable__label sk-toggleable__label-arrow\">estimator: SVR</label><div class=\"sk-toggleable__content\"><pre>SVR()</pre></div></div></div><div class=\"sk-serial\"><div class=\"sk-item\"><div class=\"sk-estimator sk-toggleable\"><input class=\"sk-toggleable__control sk-hidden--visually\" id=\"sk-estimator-id-21\" type=\"checkbox\" ><label for=\"sk-estimator-id-21\" class=\"sk-toggleable__label sk-toggleable__label-arrow\">SVR</label><div class=\"sk-toggleable__content\"><pre>SVR()</pre></div></div></div></div></div></div></div></div></div></div>"
      ],
      "text/plain": [
       "GridSearchCV(cv=5, estimator=SVR(),\n",
       "             param_grid={'C': [0.1, 1, 10, 100, 1000],\n",
       "                         'gamma': [1.0, 0.1, 0.01, 0.001, 0.0001],\n",
       "                         'kernel': ['rbf', 'sigmoid']},\n",
       "             verbose=3)"
      ]
     },
     "execution_count": 122,
     "metadata": {},
     "output_type": "execute_result"
    }
   ],
   "source": [
    "from sklearn.model_selection import GridSearchCV\n",
    "param_grid={'C':[0.1,1,10,100,1000],\n",
    "            'gamma':[1.0,0.1,0.01,0.001,0.0001],\n",
    "            'kernel':['rbf','sigmoid']}\n",
    "grid=GridSearchCV(estimator=svr,param_grid=param_grid,refit=True,cv=5,verbose=3)\n",
    "grid.fit(X_train,y_train)"
   ]
  },
  {
   "cell_type": "code",
   "execution_count": 123,
   "id": "3f445dbc-e3c1-4615-bf07-bfcccd2ef11c",
   "metadata": {},
   "outputs": [
    {
     "data": {
      "text/plain": [
       "{'C': 1000, 'gamma': 0.01, 'kernel': 'rbf'}"
      ]
     },
     "execution_count": 123,
     "metadata": {},
     "output_type": "execute_result"
    }
   ],
   "source": [
    "grid.best_params_"
   ]
  },
  {
   "cell_type": "code",
   "execution_count": 124,
   "id": "2b850482-77a8-4247-9c84-6a804d29f2c9",
   "metadata": {},
   "outputs": [
    {
     "name": "stdout",
     "output_type": "stream",
     "text": [
      "0.5695404568810171\n",
      "4.221460483819818\n"
     ]
    }
   ],
   "source": [
    "grid_prediction=grid.predict(X_test)\n",
    "from sklearn.metrics import r2_score,mean_absolute_error\n",
    "print(r2_score(y_test,grid_prediction))\n",
    "print(mean_absolute_error(y_test,grid_prediction))"
   ]
  },
  {
   "cell_type": "markdown",
   "id": "f5d24c98-1063-4ebd-afef-fdc787a858a6",
   "metadata": {},
   "source": [
    "### Continue tuning"
   ]
  },
  {
   "cell_type": "code",
   "execution_count": 125,
   "id": "318901c1-8506-43da-af92-34c0637f56ae",
   "metadata": {},
   "outputs": [
    {
     "name": "stdout",
     "output_type": "stream",
     "text": [
      "Fitting 5 folds for each of 40 candidates, totalling 200 fits\n",
      "[CV 1/5] END ....C=900, gamma=0.009, kernel=rbf;, score=0.662 total time=   0.0s\n",
      "[CV 2/5] END ....C=900, gamma=0.009, kernel=rbf;, score=0.708 total time=   0.0s\n",
      "[CV 3/5] END ....C=900, gamma=0.009, kernel=rbf;, score=0.413 total time=   0.0s\n",
      "[CV 4/5] END ....C=900, gamma=0.009, kernel=rbf;, score=0.653 total time=   0.0s\n",
      "[CV 5/5] END ....C=900, gamma=0.009, kernel=rbf;, score=0.193 total time=   0.0s\n",
      "[CV 1/5] END .C=900, gamma=0.009, kernel=linear;, score=0.667 total time=   0.1s\n",
      "[CV 2/5] END .C=900, gamma=0.009, kernel=linear;, score=0.664 total time=   0.2s\n",
      "[CV 3/5] END .C=900, gamma=0.009, kernel=linear;, score=0.361 total time=   0.1s\n",
      "[CV 4/5] END .C=900, gamma=0.009, kernel=linear;, score=0.674 total time=   0.2s\n",
      "[CV 5/5] END .C=900, gamma=0.009, kernel=linear;, score=0.199 total time=   0.1s\n",
      "[CV 1/5] END .....C=900, gamma=0.01, kernel=rbf;, score=0.660 total time=   0.0s\n",
      "[CV 2/5] END .....C=900, gamma=0.01, kernel=rbf;, score=0.709 total time=   0.0s\n",
      "[CV 3/5] END .....C=900, gamma=0.01, kernel=rbf;, score=0.418 total time=   0.0s\n",
      "[CV 4/5] END .....C=900, gamma=0.01, kernel=rbf;, score=0.646 total time=   0.0s\n",
      "[CV 5/5] END .....C=900, gamma=0.01, kernel=rbf;, score=0.183 total time=   0.0s\n",
      "[CV 1/5] END ..C=900, gamma=0.01, kernel=linear;, score=0.667 total time=   0.1s\n",
      "[CV 2/5] END ..C=900, gamma=0.01, kernel=linear;, score=0.664 total time=   0.2s\n",
      "[CV 3/5] END ..C=900, gamma=0.01, kernel=linear;, score=0.361 total time=   0.1s\n",
      "[CV 4/5] END ..C=900, gamma=0.01, kernel=linear;, score=0.674 total time=   0.2s\n",
      "[CV 5/5] END ..C=900, gamma=0.01, kernel=linear;, score=0.199 total time=   0.1s\n",
      "[CV 1/5] END ....C=900, gamma=0.011, kernel=rbf;, score=0.653 total time=   0.0s\n",
      "[CV 2/5] END ....C=900, gamma=0.011, kernel=rbf;, score=0.712 total time=   0.0s\n",
      "[CV 3/5] END ....C=900, gamma=0.011, kernel=rbf;, score=0.426 total time=   0.0s\n",
      "[CV 4/5] END ....C=900, gamma=0.011, kernel=rbf;, score=0.642 total time=   0.0s\n",
      "[CV 5/5] END ....C=900, gamma=0.011, kernel=rbf;, score=0.180 total time=   0.0s\n",
      "[CV 1/5] END .C=900, gamma=0.011, kernel=linear;, score=0.667 total time=   0.1s\n",
      "[CV 2/5] END .C=900, gamma=0.011, kernel=linear;, score=0.664 total time=   0.2s\n",
      "[CV 3/5] END .C=900, gamma=0.011, kernel=linear;, score=0.361 total time=   0.1s\n",
      "[CV 4/5] END .C=900, gamma=0.011, kernel=linear;, score=0.674 total time=   0.2s\n",
      "[CV 5/5] END .C=900, gamma=0.011, kernel=linear;, score=0.199 total time=   0.1s\n",
      "[CV 1/5] END ....C=900, gamma=0.012, kernel=rbf;, score=0.641 total time=   0.0s\n",
      "[CV 2/5] END ....C=900, gamma=0.012, kernel=rbf;, score=0.713 total time=   0.0s\n",
      "[CV 3/5] END ....C=900, gamma=0.012, kernel=rbf;, score=0.434 total time=   0.0s\n",
      "[CV 4/5] END ....C=900, gamma=0.012, kernel=rbf;, score=0.634 total time=   0.0s\n",
      "[CV 5/5] END ....C=900, gamma=0.012, kernel=rbf;, score=0.175 total time=   0.0s\n",
      "[CV 1/5] END .C=900, gamma=0.012, kernel=linear;, score=0.667 total time=   0.1s\n",
      "[CV 2/5] END .C=900, gamma=0.012, kernel=linear;, score=0.664 total time=   0.2s\n",
      "[CV 3/5] END .C=900, gamma=0.012, kernel=linear;, score=0.361 total time=   0.1s\n",
      "[CV 4/5] END .C=900, gamma=0.012, kernel=linear;, score=0.674 total time=   0.2s\n",
      "[CV 5/5] END .C=900, gamma=0.012, kernel=linear;, score=0.199 total time=   0.1s\n",
      "[CV 1/5] END ....C=950, gamma=0.009, kernel=rbf;, score=0.662 total time=   0.0s\n",
      "[CV 2/5] END ....C=950, gamma=0.009, kernel=rbf;, score=0.708 total time=   0.0s\n",
      "[CV 3/5] END ....C=950, gamma=0.009, kernel=rbf;, score=0.414 total time=   0.0s\n",
      "[CV 4/5] END ....C=950, gamma=0.009, kernel=rbf;, score=0.651 total time=   0.0s\n",
      "[CV 5/5] END ....C=950, gamma=0.009, kernel=rbf;, score=0.191 total time=   0.0s\n",
      "[CV 1/5] END .C=950, gamma=0.009, kernel=linear;, score=0.667 total time=   0.3s\n",
      "[CV 2/5] END .C=950, gamma=0.009, kernel=linear;, score=0.663 total time=   0.2s\n",
      "[CV 3/5] END .C=950, gamma=0.009, kernel=linear;, score=0.361 total time=   0.1s\n",
      "[CV 4/5] END .C=950, gamma=0.009, kernel=linear;, score=0.674 total time=   0.3s\n",
      "[CV 5/5] END .C=950, gamma=0.009, kernel=linear;, score=0.199 total time=   0.1s\n",
      "[CV 1/5] END .....C=950, gamma=0.01, kernel=rbf;, score=0.660 total time=   0.0s\n",
      "[CV 2/5] END .....C=950, gamma=0.01, kernel=rbf;, score=0.711 total time=   0.0s\n",
      "[CV 3/5] END .....C=950, gamma=0.01, kernel=rbf;, score=0.420 total time=   0.0s\n",
      "[CV 4/5] END .....C=950, gamma=0.01, kernel=rbf;, score=0.644 total time=   0.0s\n",
      "[CV 5/5] END .....C=950, gamma=0.01, kernel=rbf;, score=0.183 total time=   0.0s\n",
      "[CV 1/5] END ..C=950, gamma=0.01, kernel=linear;, score=0.667 total time=   0.3s\n",
      "[CV 2/5] END ..C=950, gamma=0.01, kernel=linear;, score=0.663 total time=   0.2s\n",
      "[CV 3/5] END ..C=950, gamma=0.01, kernel=linear;, score=0.361 total time=   0.1s\n",
      "[CV 4/5] END ..C=950, gamma=0.01, kernel=linear;, score=0.674 total time=   0.3s\n",
      "[CV 5/5] END ..C=950, gamma=0.01, kernel=linear;, score=0.199 total time=   0.1s\n",
      "[CV 1/5] END ....C=950, gamma=0.011, kernel=rbf;, score=0.650 total time=   0.0s\n",
      "[CV 2/5] END ....C=950, gamma=0.011, kernel=rbf;, score=0.713 total time=   0.0s\n",
      "[CV 3/5] END ....C=950, gamma=0.011, kernel=rbf;, score=0.429 total time=   0.0s\n",
      "[CV 4/5] END ....C=950, gamma=0.011, kernel=rbf;, score=0.639 total time=   0.0s\n",
      "[CV 5/5] END ....C=950, gamma=0.011, kernel=rbf;, score=0.179 total time=   0.0s\n",
      "[CV 1/5] END .C=950, gamma=0.011, kernel=linear;, score=0.667 total time=   0.3s\n",
      "[CV 2/5] END .C=950, gamma=0.011, kernel=linear;, score=0.663 total time=   0.2s\n",
      "[CV 3/5] END .C=950, gamma=0.011, kernel=linear;, score=0.361 total time=   0.1s\n",
      "[CV 4/5] END .C=950, gamma=0.011, kernel=linear;, score=0.674 total time=   0.3s\n",
      "[CV 5/5] END .C=950, gamma=0.011, kernel=linear;, score=0.199 total time=   0.1s\n",
      "[CV 1/5] END ....C=950, gamma=0.012, kernel=rbf;, score=0.638 total time=   0.0s\n",
      "[CV 2/5] END ....C=950, gamma=0.012, kernel=rbf;, score=0.713 total time=   0.0s\n",
      "[CV 3/5] END ....C=950, gamma=0.012, kernel=rbf;, score=0.436 total time=   0.0s\n",
      "[CV 4/5] END ....C=950, gamma=0.012, kernel=rbf;, score=0.632 total time=   0.0s\n",
      "[CV 5/5] END ....C=950, gamma=0.012, kernel=rbf;, score=0.176 total time=   0.0s\n",
      "[CV 1/5] END .C=950, gamma=0.012, kernel=linear;, score=0.667 total time=   0.3s\n",
      "[CV 2/5] END .C=950, gamma=0.012, kernel=linear;, score=0.663 total time=   0.2s\n",
      "[CV 3/5] END .C=950, gamma=0.012, kernel=linear;, score=0.361 total time=   0.1s\n",
      "[CV 4/5] END .C=950, gamma=0.012, kernel=linear;, score=0.674 total time=   0.3s\n",
      "[CV 5/5] END .C=950, gamma=0.012, kernel=linear;, score=0.199 total time=   0.1s\n",
      "[CV 1/5] END ...C=1000, gamma=0.009, kernel=rbf;, score=0.662 total time=   0.0s\n",
      "[CV 2/5] END ...C=1000, gamma=0.009, kernel=rbf;, score=0.709 total time=   0.0s\n",
      "[CV 3/5] END ...C=1000, gamma=0.009, kernel=rbf;, score=0.415 total time=   0.0s\n",
      "[CV 4/5] END ...C=1000, gamma=0.009, kernel=rbf;, score=0.650 total time=   0.0s\n",
      "[CV 5/5] END ...C=1000, gamma=0.009, kernel=rbf;, score=0.188 total time=   0.0s\n",
      "[CV 1/5] END C=1000, gamma=0.009, kernel=linear;, score=0.667 total time=   0.1s\n",
      "[CV 2/5] END C=1000, gamma=0.009, kernel=linear;, score=0.663 total time=   0.2s\n",
      "[CV 3/5] END C=1000, gamma=0.009, kernel=linear;, score=0.361 total time=   0.1s\n",
      "[CV 4/5] END C=1000, gamma=0.009, kernel=linear;, score=0.674 total time=   0.3s\n",
      "[CV 5/5] END C=1000, gamma=0.009, kernel=linear;, score=0.199 total time=   0.1s\n",
      "[CV 1/5] END ....C=1000, gamma=0.01, kernel=rbf;, score=0.657 total time=   0.0s\n",
      "[CV 2/5] END ....C=1000, gamma=0.01, kernel=rbf;, score=0.712 total time=   0.0s\n",
      "[CV 3/5] END ....C=1000, gamma=0.01, kernel=rbf;, score=0.422 total time=   0.0s\n",
      "[CV 4/5] END ....C=1000, gamma=0.01, kernel=rbf;, score=0.644 total time=   0.0s\n",
      "[CV 5/5] END ....C=1000, gamma=0.01, kernel=rbf;, score=0.183 total time=   0.0s\n",
      "[CV 1/5] END .C=1000, gamma=0.01, kernel=linear;, score=0.667 total time=   0.1s\n",
      "[CV 2/5] END .C=1000, gamma=0.01, kernel=linear;, score=0.663 total time=   0.2s\n",
      "[CV 3/5] END .C=1000, gamma=0.01, kernel=linear;, score=0.361 total time=   0.1s\n",
      "[CV 4/5] END .C=1000, gamma=0.01, kernel=linear;, score=0.674 total time=   0.3s\n",
      "[CV 5/5] END .C=1000, gamma=0.01, kernel=linear;, score=0.199 total time=   0.1s\n",
      "[CV 1/5] END ...C=1000, gamma=0.011, kernel=rbf;, score=0.647 total time=   0.0s\n",
      "[CV 2/5] END ...C=1000, gamma=0.011, kernel=rbf;, score=0.713 total time=   0.0s\n",
      "[CV 3/5] END ...C=1000, gamma=0.011, kernel=rbf;, score=0.431 total time=   0.0s\n",
      "[CV 4/5] END ...C=1000, gamma=0.011, kernel=rbf;, score=0.637 total time=   0.0s\n",
      "[CV 5/5] END ...C=1000, gamma=0.011, kernel=rbf;, score=0.179 total time=   0.0s\n",
      "[CV 1/5] END C=1000, gamma=0.011, kernel=linear;, score=0.667 total time=   0.1s\n",
      "[CV 2/5] END C=1000, gamma=0.011, kernel=linear;, score=0.663 total time=   0.2s\n",
      "[CV 3/5] END C=1000, gamma=0.011, kernel=linear;, score=0.361 total time=   0.1s\n",
      "[CV 4/5] END C=1000, gamma=0.011, kernel=linear;, score=0.674 total time=   0.3s\n",
      "[CV 5/5] END C=1000, gamma=0.011, kernel=linear;, score=0.199 total time=   0.1s\n",
      "[CV 1/5] END ...C=1000, gamma=0.012, kernel=rbf;, score=0.634 total time=   0.0s\n",
      "[CV 2/5] END ...C=1000, gamma=0.012, kernel=rbf;, score=0.715 total time=   0.0s\n",
      "[CV 3/5] END ...C=1000, gamma=0.012, kernel=rbf;, score=0.438 total time=   0.0s\n",
      "[CV 4/5] END ...C=1000, gamma=0.012, kernel=rbf;, score=0.630 total time=   0.0s\n",
      "[CV 5/5] END ...C=1000, gamma=0.012, kernel=rbf;, score=0.178 total time=   0.0s\n",
      "[CV 1/5] END C=1000, gamma=0.012, kernel=linear;, score=0.667 total time=   0.1s\n",
      "[CV 2/5] END C=1000, gamma=0.012, kernel=linear;, score=0.663 total time=   0.2s\n",
      "[CV 3/5] END C=1000, gamma=0.012, kernel=linear;, score=0.361 total time=   0.1s\n",
      "[CV 4/5] END C=1000, gamma=0.012, kernel=linear;, score=0.674 total time=   0.3s\n",
      "[CV 5/5] END C=1000, gamma=0.012, kernel=linear;, score=0.199 total time=   0.1s\n",
      "[CV 1/5] END ...C=1010, gamma=0.009, kernel=rbf;, score=0.662 total time=   0.0s\n",
      "[CV 2/5] END ...C=1010, gamma=0.009, kernel=rbf;, score=0.709 total time=   0.0s\n",
      "[CV 3/5] END ...C=1010, gamma=0.009, kernel=rbf;, score=0.415 total time=   0.0s\n",
      "[CV 4/5] END ...C=1010, gamma=0.009, kernel=rbf;, score=0.649 total time=   0.0s\n",
      "[CV 5/5] END ...C=1010, gamma=0.009, kernel=rbf;, score=0.188 total time=   0.0s\n",
      "[CV 1/5] END C=1010, gamma=0.009, kernel=linear;, score=0.667 total time=   0.2s\n",
      "[CV 2/5] END C=1010, gamma=0.009, kernel=linear;, score=0.663 total time=   0.2s\n",
      "[CV 3/5] END C=1010, gamma=0.009, kernel=linear;, score=0.361 total time=   0.1s\n",
      "[CV 4/5] END C=1010, gamma=0.009, kernel=linear;, score=0.674 total time=   0.3s\n",
      "[CV 5/5] END C=1010, gamma=0.009, kernel=linear;, score=0.199 total time=   0.1s\n",
      "[CV 1/5] END ....C=1010, gamma=0.01, kernel=rbf;, score=0.656 total time=   0.0s\n",
      "[CV 2/5] END ....C=1010, gamma=0.01, kernel=rbf;, score=0.712 total time=   0.0s\n",
      "[CV 3/5] END ....C=1010, gamma=0.01, kernel=rbf;, score=0.423 total time=   0.0s\n",
      "[CV 4/5] END ....C=1010, gamma=0.01, kernel=rbf;, score=0.644 total time=   0.0s\n",
      "[CV 5/5] END ....C=1010, gamma=0.01, kernel=rbf;, score=0.183 total time=   0.0s\n",
      "[CV 1/5] END .C=1010, gamma=0.01, kernel=linear;, score=0.667 total time=   0.2s\n",
      "[CV 2/5] END .C=1010, gamma=0.01, kernel=linear;, score=0.663 total time=   0.2s\n",
      "[CV 3/5] END .C=1010, gamma=0.01, kernel=linear;, score=0.361 total time=   0.1s\n",
      "[CV 4/5] END .C=1010, gamma=0.01, kernel=linear;, score=0.674 total time=   0.3s\n",
      "[CV 5/5] END .C=1010, gamma=0.01, kernel=linear;, score=0.199 total time=   0.1s\n",
      "[CV 1/5] END ...C=1010, gamma=0.011, kernel=rbf;, score=0.647 total time=   0.0s\n",
      "[CV 2/5] END ...C=1010, gamma=0.011, kernel=rbf;, score=0.713 total time=   0.0s\n",
      "[CV 3/5] END ...C=1010, gamma=0.011, kernel=rbf;, score=0.431 total time=   0.0s\n",
      "[CV 4/5] END ...C=1010, gamma=0.011, kernel=rbf;, score=0.637 total time=   0.0s\n",
      "[CV 5/5] END ...C=1010, gamma=0.011, kernel=rbf;, score=0.179 total time=   0.0s\n",
      "[CV 1/5] END C=1010, gamma=0.011, kernel=linear;, score=0.667 total time=   0.2s\n",
      "[CV 2/5] END C=1010, gamma=0.011, kernel=linear;, score=0.663 total time=   0.2s\n",
      "[CV 3/5] END C=1010, gamma=0.011, kernel=linear;, score=0.361 total time=   0.1s\n",
      "[CV 4/5] END C=1010, gamma=0.011, kernel=linear;, score=0.674 total time=   0.3s\n",
      "[CV 5/5] END C=1010, gamma=0.011, kernel=linear;, score=0.199 total time=   0.1s\n",
      "[CV 1/5] END ...C=1010, gamma=0.012, kernel=rbf;, score=0.633 total time=   0.0s\n",
      "[CV 2/5] END ...C=1010, gamma=0.012, kernel=rbf;, score=0.715 total time=   0.0s\n",
      "[CV 3/5] END ...C=1010, gamma=0.012, kernel=rbf;, score=0.439 total time=   0.0s\n",
      "[CV 4/5] END ...C=1010, gamma=0.012, kernel=rbf;, score=0.629 total time=   0.0s\n",
      "[CV 5/5] END ...C=1010, gamma=0.012, kernel=rbf;, score=0.179 total time=   0.0s\n",
      "[CV 1/5] END C=1010, gamma=0.012, kernel=linear;, score=0.667 total time=   0.2s\n",
      "[CV 2/5] END C=1010, gamma=0.012, kernel=linear;, score=0.663 total time=   0.2s\n",
      "[CV 3/5] END C=1010, gamma=0.012, kernel=linear;, score=0.361 total time=   0.1s\n",
      "[CV 4/5] END C=1010, gamma=0.012, kernel=linear;, score=0.674 total time=   0.3s\n",
      "[CV 5/5] END C=1010, gamma=0.012, kernel=linear;, score=0.199 total time=   0.1s\n",
      "[CV 1/5] END ...C=1020, gamma=0.009, kernel=rbf;, score=0.661 total time=   0.0s\n",
      "[CV 2/5] END ...C=1020, gamma=0.009, kernel=rbf;, score=0.709 total time=   0.0s\n",
      "[CV 3/5] END ...C=1020, gamma=0.009, kernel=rbf;, score=0.416 total time=   0.0s\n",
      "[CV 4/5] END ...C=1020, gamma=0.009, kernel=rbf;, score=0.649 total time=   0.0s\n",
      "[CV 5/5] END ...C=1020, gamma=0.009, kernel=rbf;, score=0.188 total time=   0.0s\n",
      "[CV 1/5] END C=1020, gamma=0.009, kernel=linear;, score=0.667 total time=   0.1s\n",
      "[CV 2/5] END C=1020, gamma=0.009, kernel=linear;, score=0.663 total time=   0.1s\n",
      "[CV 3/5] END C=1020, gamma=0.009, kernel=linear;, score=0.361 total time=   0.1s\n",
      "[CV 4/5] END C=1020, gamma=0.009, kernel=linear;, score=0.674 total time=   0.6s\n",
      "[CV 5/5] END C=1020, gamma=0.009, kernel=linear;, score=0.199 total time=   0.2s\n",
      "[CV 1/5] END ....C=1020, gamma=0.01, kernel=rbf;, score=0.655 total time=   0.0s\n",
      "[CV 2/5] END ....C=1020, gamma=0.01, kernel=rbf;, score=0.712 total time=   0.0s\n",
      "[CV 3/5] END ....C=1020, gamma=0.01, kernel=rbf;, score=0.423 total time=   0.0s\n",
      "[CV 4/5] END ....C=1020, gamma=0.01, kernel=rbf;, score=0.643 total time=   0.0s\n",
      "[CV 5/5] END ....C=1020, gamma=0.01, kernel=rbf;, score=0.183 total time=   0.0s\n",
      "[CV 1/5] END .C=1020, gamma=0.01, kernel=linear;, score=0.667 total time=   0.1s\n",
      "[CV 2/5] END .C=1020, gamma=0.01, kernel=linear;, score=0.663 total time=   0.1s\n",
      "[CV 3/5] END .C=1020, gamma=0.01, kernel=linear;, score=0.361 total time=   0.1s\n",
      "[CV 4/5] END .C=1020, gamma=0.01, kernel=linear;, score=0.674 total time=   0.5s\n",
      "[CV 5/5] END .C=1020, gamma=0.01, kernel=linear;, score=0.199 total time=   0.1s\n",
      "[CV 1/5] END ...C=1020, gamma=0.011, kernel=rbf;, score=0.646 total time=   0.0s\n",
      "[CV 2/5] END ...C=1020, gamma=0.011, kernel=rbf;, score=0.713 total time=   0.0s\n",
      "[CV 3/5] END ...C=1020, gamma=0.011, kernel=rbf;, score=0.432 total time=   0.0s\n",
      "[CV 4/5] END ...C=1020, gamma=0.011, kernel=rbf;, score=0.637 total time=   0.0s\n",
      "[CV 5/5] END ...C=1020, gamma=0.011, kernel=rbf;, score=0.178 total time=   0.0s\n",
      "[CV 1/5] END C=1020, gamma=0.011, kernel=linear;, score=0.667 total time=   0.1s\n",
      "[CV 2/5] END C=1020, gamma=0.011, kernel=linear;, score=0.663 total time=   0.1s\n",
      "[CV 3/5] END C=1020, gamma=0.011, kernel=linear;, score=0.361 total time=   0.1s\n",
      "[CV 4/5] END C=1020, gamma=0.011, kernel=linear;, score=0.674 total time=   0.5s\n",
      "[CV 5/5] END C=1020, gamma=0.011, kernel=linear;, score=0.199 total time=   0.1s\n",
      "[CV 1/5] END ...C=1020, gamma=0.012, kernel=rbf;, score=0.632 total time=   0.0s\n",
      "[CV 2/5] END ...C=1020, gamma=0.012, kernel=rbf;, score=0.715 total time=   0.0s\n",
      "[CV 3/5] END ...C=1020, gamma=0.012, kernel=rbf;, score=0.439 total time=   0.0s\n",
      "[CV 4/5] END ...C=1020, gamma=0.012, kernel=rbf;, score=0.629 total time=   0.0s\n",
      "[CV 5/5] END ...C=1020, gamma=0.012, kernel=rbf;, score=0.179 total time=   0.0s\n",
      "[CV 1/5] END C=1020, gamma=0.012, kernel=linear;, score=0.667 total time=   0.1s\n",
      "[CV 2/5] END C=1020, gamma=0.012, kernel=linear;, score=0.663 total time=   0.2s\n",
      "[CV 3/5] END C=1020, gamma=0.012, kernel=linear;, score=0.361 total time=   0.1s\n",
      "[CV 4/5] END C=1020, gamma=0.012, kernel=linear;, score=0.674 total time=   0.5s\n",
      "[CV 5/5] END C=1020, gamma=0.012, kernel=linear;, score=0.199 total time=   0.1s\n"
     ]
    },
    {
     "data": {
      "text/html": [
       "<style>#sk-container-id-8 {color: black;background-color: white;}#sk-container-id-8 pre{padding: 0;}#sk-container-id-8 div.sk-toggleable {background-color: white;}#sk-container-id-8 label.sk-toggleable__label {cursor: pointer;display: block;width: 100%;margin-bottom: 0;padding: 0.3em;box-sizing: border-box;text-align: center;}#sk-container-id-8 label.sk-toggleable__label-arrow:before {content: \"▸\";float: left;margin-right: 0.25em;color: #696969;}#sk-container-id-8 label.sk-toggleable__label-arrow:hover:before {color: black;}#sk-container-id-8 div.sk-estimator:hover label.sk-toggleable__label-arrow:before {color: black;}#sk-container-id-8 div.sk-toggleable__content {max-height: 0;max-width: 0;overflow: hidden;text-align: left;background-color: #f0f8ff;}#sk-container-id-8 div.sk-toggleable__content pre {margin: 0.2em;color: black;border-radius: 0.25em;background-color: #f0f8ff;}#sk-container-id-8 input.sk-toggleable__control:checked~div.sk-toggleable__content {max-height: 200px;max-width: 100%;overflow: auto;}#sk-container-id-8 input.sk-toggleable__control:checked~label.sk-toggleable__label-arrow:before {content: \"▾\";}#sk-container-id-8 div.sk-estimator input.sk-toggleable__control:checked~label.sk-toggleable__label {background-color: #d4ebff;}#sk-container-id-8 div.sk-label input.sk-toggleable__control:checked~label.sk-toggleable__label {background-color: #d4ebff;}#sk-container-id-8 input.sk-hidden--visually {border: 0;clip: rect(1px 1px 1px 1px);clip: rect(1px, 1px, 1px, 1px);height: 1px;margin: -1px;overflow: hidden;padding: 0;position: absolute;width: 1px;}#sk-container-id-8 div.sk-estimator {font-family: monospace;background-color: #f0f8ff;border: 1px dotted black;border-radius: 0.25em;box-sizing: border-box;margin-bottom: 0.5em;}#sk-container-id-8 div.sk-estimator:hover {background-color: #d4ebff;}#sk-container-id-8 div.sk-parallel-item::after {content: \"\";width: 100%;border-bottom: 1px solid gray;flex-grow: 1;}#sk-container-id-8 div.sk-label:hover label.sk-toggleable__label {background-color: #d4ebff;}#sk-container-id-8 div.sk-serial::before {content: \"\";position: absolute;border-left: 1px solid gray;box-sizing: border-box;top: 0;bottom: 0;left: 50%;z-index: 0;}#sk-container-id-8 div.sk-serial {display: flex;flex-direction: column;align-items: center;background-color: white;padding-right: 0.2em;padding-left: 0.2em;position: relative;}#sk-container-id-8 div.sk-item {position: relative;z-index: 1;}#sk-container-id-8 div.sk-parallel {display: flex;align-items: stretch;justify-content: center;background-color: white;position: relative;}#sk-container-id-8 div.sk-item::before, #sk-container-id-8 div.sk-parallel-item::before {content: \"\";position: absolute;border-left: 1px solid gray;box-sizing: border-box;top: 0;bottom: 0;left: 50%;z-index: -1;}#sk-container-id-8 div.sk-parallel-item {display: flex;flex-direction: column;z-index: 1;position: relative;background-color: white;}#sk-container-id-8 div.sk-parallel-item:first-child::after {align-self: flex-end;width: 50%;}#sk-container-id-8 div.sk-parallel-item:last-child::after {align-self: flex-start;width: 50%;}#sk-container-id-8 div.sk-parallel-item:only-child::after {width: 0;}#sk-container-id-8 div.sk-dashed-wrapped {border: 1px dashed gray;margin: 0 0.4em 0.5em 0.4em;box-sizing: border-box;padding-bottom: 0.4em;background-color: white;}#sk-container-id-8 div.sk-label label {font-family: monospace;font-weight: bold;display: inline-block;line-height: 1.2em;}#sk-container-id-8 div.sk-label-container {text-align: center;}#sk-container-id-8 div.sk-container {/* jupyter's `normalize.less` sets `[hidden] { display: none; }` but bootstrap.min.css set `[hidden] { display: none !important; }` so we also need the `!important` here to be able to override the default hidden behavior on the sphinx rendered scikit-learn.org. See: https://github.com/scikit-learn/scikit-learn/issues/21755 */display: inline-block !important;position: relative;}#sk-container-id-8 div.sk-text-repr-fallback {display: none;}</style><div id=\"sk-container-id-8\" class=\"sk-top-container\"><div class=\"sk-text-repr-fallback\"><pre>GridSearchCV(cv=5, estimator=SVR(),\n",
       "             param_grid={&#x27;C&#x27;: [900, 950, 1000, 1010, 1020],\n",
       "                         &#x27;gamma&#x27;: [0.009, 0.01, 0.011, 0.012],\n",
       "                         &#x27;kernel&#x27;: [&#x27;rbf&#x27;, &#x27;linear&#x27;]},\n",
       "             verbose=3)</pre><b>In a Jupyter environment, please rerun this cell to show the HTML representation or trust the notebook. <br />On GitHub, the HTML representation is unable to render, please try loading this page with nbviewer.org.</b></div><div class=\"sk-container\" hidden><div class=\"sk-item sk-dashed-wrapped\"><div class=\"sk-label-container\"><div class=\"sk-label sk-toggleable\"><input class=\"sk-toggleable__control sk-hidden--visually\" id=\"sk-estimator-id-22\" type=\"checkbox\" ><label for=\"sk-estimator-id-22\" class=\"sk-toggleable__label sk-toggleable__label-arrow\">GridSearchCV</label><div class=\"sk-toggleable__content\"><pre>GridSearchCV(cv=5, estimator=SVR(),\n",
       "             param_grid={&#x27;C&#x27;: [900, 950, 1000, 1010, 1020],\n",
       "                         &#x27;gamma&#x27;: [0.009, 0.01, 0.011, 0.012],\n",
       "                         &#x27;kernel&#x27;: [&#x27;rbf&#x27;, &#x27;linear&#x27;]},\n",
       "             verbose=3)</pre></div></div></div><div class=\"sk-parallel\"><div class=\"sk-parallel-item\"><div class=\"sk-item\"><div class=\"sk-label-container\"><div class=\"sk-label sk-toggleable\"><input class=\"sk-toggleable__control sk-hidden--visually\" id=\"sk-estimator-id-23\" type=\"checkbox\" ><label for=\"sk-estimator-id-23\" class=\"sk-toggleable__label sk-toggleable__label-arrow\">estimator: SVR</label><div class=\"sk-toggleable__content\"><pre>SVR()</pre></div></div></div><div class=\"sk-serial\"><div class=\"sk-item\"><div class=\"sk-estimator sk-toggleable\"><input class=\"sk-toggleable__control sk-hidden--visually\" id=\"sk-estimator-id-24\" type=\"checkbox\" ><label for=\"sk-estimator-id-24\" class=\"sk-toggleable__label sk-toggleable__label-arrow\">SVR</label><div class=\"sk-toggleable__content\"><pre>SVR()</pre></div></div></div></div></div></div></div></div></div></div>"
      ],
      "text/plain": [
       "GridSearchCV(cv=5, estimator=SVR(),\n",
       "             param_grid={'C': [900, 950, 1000, 1010, 1020],\n",
       "                         'gamma': [0.009, 0.01, 0.011, 0.012],\n",
       "                         'kernel': ['rbf', 'linear']},\n",
       "             verbose=3)"
      ]
     },
     "execution_count": 125,
     "metadata": {},
     "output_type": "execute_result"
    }
   ],
   "source": [
    "param_grid={'C':[900,950,1000,1010,1020],\n",
    "            'gamma':[0.009,0.01,0.011,0.012],\n",
    "            'kernel':['rbf','linear']}\n",
    "grid=GridSearchCV(estimator=svr,param_grid=param_grid,refit=True,cv=5,verbose=3)\n",
    "grid.fit(X_train,y_train)"
   ]
  },
  {
   "cell_type": "code",
   "execution_count": 126,
   "id": "ff9e122e-14bc-486a-a09f-400a85f4349b",
   "metadata": {},
   "outputs": [
    {
     "data": {
      "text/plain": [
       "{'C': 900, 'gamma': 0.009, 'kernel': 'rbf'}"
      ]
     },
     "execution_count": 126,
     "metadata": {},
     "output_type": "execute_result"
    }
   ],
   "source": [
    "grid.best_params_"
   ]
  },
  {
   "cell_type": "code",
   "execution_count": 127,
   "id": "35202b69-00f5-40e3-bbdc-5afda7f2e1e6",
   "metadata": {},
   "outputs": [
    {
     "name": "stdout",
     "output_type": "stream",
     "text": [
      "0.566922631921037\n",
      "4.248462213426501\n"
     ]
    }
   ],
   "source": [
    "grid_prediction=grid.predict(X_test)\n",
    "from sklearn.metrics import r2_score,mean_absolute_error\n",
    "print(r2_score(y_test,grid_prediction))\n",
    "print(mean_absolute_error(y_test,grid_prediction))"
   ]
  },
  {
   "cell_type": "markdown",
   "id": "4a4fe101-7ec8-457c-b9f6-59db13b578d9",
   "metadata": {},
   "source": [
    "### Continue Testing"
   ]
  },
  {
   "cell_type": "code",
   "execution_count": 128,
   "id": "f07afe70-17d4-4174-b60b-e11c32fa344d",
   "metadata": {},
   "outputs": [
    {
     "name": "stdout",
     "output_type": "stream",
     "text": [
      "Fitting 5 folds for each of 40 candidates, totalling 200 fits\n",
      "[CV 1/5] END ...C=800, gamma=0.0085, kernel=rbf;, score=0.660 total time=   0.0s\n",
      "[CV 2/5] END ...C=800, gamma=0.0085, kernel=rbf;, score=0.707 total time=   0.0s\n",
      "[CV 3/5] END ...C=800, gamma=0.0085, kernel=rbf;, score=0.409 total time=   0.0s\n",
      "[CV 4/5] END ...C=800, gamma=0.0085, kernel=rbf;, score=0.661 total time=   0.0s\n",
      "[CV 5/5] END ...C=800, gamma=0.0085, kernel=rbf;, score=0.198 total time=   0.0s\n",
      "[CV 1/5] END ..C=800, gamma=0.0085, kernel=poly;, score=0.427 total time=   0.0s\n",
      "[CV 2/5] END ..C=800, gamma=0.0085, kernel=poly;, score=0.543 total time=   0.0s\n",
      "[CV 3/5] END ..C=800, gamma=0.0085, kernel=poly;, score=0.203 total time=   0.0s\n",
      "[CV 4/5] END ..C=800, gamma=0.0085, kernel=poly;, score=0.652 total time=   0.0s\n",
      "[CV 5/5] END ..C=800, gamma=0.0085, kernel=poly;, score=0.214 total time=   0.0s\n",
      "[CV 1/5] END ...C=800, gamma=0.0088, kernel=rbf;, score=0.659 total time=   0.0s\n",
      "[CV 2/5] END ...C=800, gamma=0.0088, kernel=rbf;, score=0.707 total time=   0.0s\n",
      "[CV 3/5] END ...C=800, gamma=0.0088, kernel=rbf;, score=0.410 total time=   0.0s\n",
      "[CV 4/5] END ...C=800, gamma=0.0088, kernel=rbf;, score=0.658 total time=   0.0s\n",
      "[CV 5/5] END ...C=800, gamma=0.0088, kernel=rbf;, score=0.197 total time=   0.0s\n",
      "[CV 1/5] END ..C=800, gamma=0.0088, kernel=poly;, score=0.441 total time=   0.0s\n",
      "[CV 2/5] END ..C=800, gamma=0.0088, kernel=poly;, score=0.545 total time=   0.0s\n",
      "[CV 3/5] END ..C=800, gamma=0.0088, kernel=poly;, score=0.199 total time=   0.0s\n",
      "[CV 4/5] END ..C=800, gamma=0.0088, kernel=poly;, score=0.652 total time=   0.0s\n",
      "[CV 5/5] END ..C=800, gamma=0.0088, kernel=poly;, score=0.218 total time=   0.0s\n",
      "[CV 1/5] END ....C=800, gamma=0.009, kernel=rbf;, score=0.660 total time=   0.0s\n",
      "[CV 2/5] END ....C=800, gamma=0.009, kernel=rbf;, score=0.707 total time=   0.0s\n",
      "[CV 3/5] END ....C=800, gamma=0.009, kernel=rbf;, score=0.410 total time=   0.0s\n",
      "[CV 4/5] END ....C=800, gamma=0.009, kernel=rbf;, score=0.657 total time=   0.0s\n",
      "[CV 5/5] END ....C=800, gamma=0.009, kernel=rbf;, score=0.196 total time=   0.0s\n",
      "[CV 1/5] END ...C=800, gamma=0.009, kernel=poly;, score=0.456 total time=   0.0s\n",
      "[CV 2/5] END ...C=800, gamma=0.009, kernel=poly;, score=0.545 total time=   0.0s\n",
      "[CV 3/5] END ...C=800, gamma=0.009, kernel=poly;, score=0.199 total time=   0.0s\n",
      "[CV 4/5] END ...C=800, gamma=0.009, kernel=poly;, score=0.653 total time=   0.0s\n",
      "[CV 5/5] END ...C=800, gamma=0.009, kernel=poly;, score=0.221 total time=   0.0s\n",
      "[CV 1/5] END ...C=800, gamma=0.0095, kernel=rbf;, score=0.662 total time=   0.0s\n",
      "[CV 2/5] END ...C=800, gamma=0.0095, kernel=rbf;, score=0.708 total time=   0.0s\n",
      "[CV 3/5] END ...C=800, gamma=0.0095, kernel=rbf;, score=0.414 total time=   0.0s\n",
      "[CV 4/5] END ...C=800, gamma=0.0095, kernel=rbf;, score=0.653 total time=   0.0s\n",
      "[CV 5/5] END ...C=800, gamma=0.0095, kernel=rbf;, score=0.194 total time=   0.0s\n",
      "[CV 1/5] END ..C=800, gamma=0.0095, kernel=poly;, score=0.489 total time=   0.0s\n",
      "[CV 2/5] END ..C=800, gamma=0.0095, kernel=poly;, score=0.544 total time=   0.0s\n",
      "[CV 3/5] END ..C=800, gamma=0.0095, kernel=poly;, score=0.191 total time=   0.0s\n",
      "[CV 4/5] END ..C=800, gamma=0.0095, kernel=poly;, score=0.653 total time=   0.0s\n",
      "[CV 5/5] END ..C=800, gamma=0.0095, kernel=poly;, score=0.229 total time=   0.0s\n",
      "[CV 1/5] END ...C=850, gamma=0.0085, kernel=rbf;, score=0.659 total time=   0.0s\n",
      "[CV 2/5] END ...C=850, gamma=0.0085, kernel=rbf;, score=0.707 total time=   0.0s\n",
      "[CV 3/5] END ...C=850, gamma=0.0085, kernel=rbf;, score=0.409 total time=   0.0s\n",
      "[CV 4/5] END ...C=850, gamma=0.0085, kernel=rbf;, score=0.658 total time=   0.0s\n",
      "[CV 5/5] END ...C=850, gamma=0.0085, kernel=rbf;, score=0.197 total time=   0.0s\n",
      "[CV 1/5] END ..C=850, gamma=0.0085, kernel=poly;, score=0.435 total time=   0.0s\n",
      "[CV 2/5] END ..C=850, gamma=0.0085, kernel=poly;, score=0.544 total time=   0.0s\n",
      "[CV 3/5] END ..C=850, gamma=0.0085, kernel=poly;, score=0.199 total time=   0.0s\n",
      "[CV 4/5] END ..C=850, gamma=0.0085, kernel=poly;, score=0.652 total time=   0.0s\n",
      "[CV 5/5] END ..C=850, gamma=0.0085, kernel=poly;, score=0.216 total time=   0.0s\n",
      "[CV 1/5] END ...C=850, gamma=0.0088, kernel=rbf;, score=0.660 total time=   0.0s\n",
      "[CV 2/5] END ...C=850, gamma=0.0088, kernel=rbf;, score=0.707 total time=   0.0s\n",
      "[CV 3/5] END ...C=850, gamma=0.0088, kernel=rbf;, score=0.411 total time=   0.0s\n",
      "[CV 4/5] END ...C=850, gamma=0.0088, kernel=rbf;, score=0.656 total time=   0.0s\n",
      "[CV 5/5] END ...C=850, gamma=0.0088, kernel=rbf;, score=0.195 total time=   0.0s\n",
      "[CV 1/5] END ..C=850, gamma=0.0088, kernel=poly;, score=0.454 total time=   0.0s\n",
      "[CV 2/5] END ..C=850, gamma=0.0088, kernel=poly;, score=0.545 total time=   0.0s\n",
      "[CV 3/5] END ..C=850, gamma=0.0088, kernel=poly;, score=0.199 total time=   0.0s\n",
      "[CV 4/5] END ..C=850, gamma=0.0088, kernel=poly;, score=0.653 total time=   0.0s\n",
      "[CV 5/5] END ..C=850, gamma=0.0088, kernel=poly;, score=0.221 total time=   0.0s\n",
      "[CV 1/5] END ....C=850, gamma=0.009, kernel=rbf;, score=0.661 total time=   0.0s\n",
      "[CV 2/5] END ....C=850, gamma=0.009, kernel=rbf;, score=0.707 total time=   0.0s\n",
      "[CV 3/5] END ....C=850, gamma=0.009, kernel=rbf;, score=0.412 total time=   0.0s\n",
      "[CV 4/5] END ....C=850, gamma=0.009, kernel=rbf;, score=0.654 total time=   0.0s\n",
      "[CV 5/5] END ....C=850, gamma=0.009, kernel=rbf;, score=0.194 total time=   0.0s\n",
      "[CV 1/5] END ...C=850, gamma=0.009, kernel=poly;, score=0.469 total time=   0.0s\n",
      "[CV 2/5] END ...C=850, gamma=0.009, kernel=poly;, score=0.546 total time=   0.0s\n",
      "[CV 3/5] END ...C=850, gamma=0.009, kernel=poly;, score=0.196 total time=   0.0s\n",
      "[CV 4/5] END ...C=850, gamma=0.009, kernel=poly;, score=0.653 total time=   0.0s\n",
      "[CV 5/5] END ...C=850, gamma=0.009, kernel=poly;, score=0.224 total time=   0.0s\n",
      "[CV 1/5] END ...C=850, gamma=0.0095, kernel=rbf;, score=0.662 total time=   0.0s\n",
      "[CV 2/5] END ...C=850, gamma=0.0095, kernel=rbf;, score=0.708 total time=   0.0s\n",
      "[CV 3/5] END ...C=850, gamma=0.0095, kernel=rbf;, score=0.415 total time=   0.0s\n",
      "[CV 4/5] END ...C=850, gamma=0.0095, kernel=rbf;, score=0.651 total time=   0.0s\n",
      "[CV 5/5] END ...C=850, gamma=0.0095, kernel=rbf;, score=0.191 total time=   0.0s\n",
      "[CV 1/5] END ..C=850, gamma=0.0095, kernel=poly;, score=0.490 total time=   0.0s\n",
      "[CV 2/5] END ..C=850, gamma=0.0095, kernel=poly;, score=0.542 total time=   0.0s\n",
      "[CV 3/5] END ..C=850, gamma=0.0095, kernel=poly;, score=0.192 total time=   0.0s\n",
      "[CV 4/5] END ..C=850, gamma=0.0095, kernel=poly;, score=0.654 total time=   0.0s\n",
      "[CV 5/5] END ..C=850, gamma=0.0095, kernel=poly;, score=0.233 total time=   0.0s\n",
      "[CV 1/5] END ...C=895, gamma=0.0085, kernel=rbf;, score=0.659 total time=   0.0s\n",
      "[CV 2/5] END ...C=895, gamma=0.0085, kernel=rbf;, score=0.706 total time=   0.0s\n",
      "[CV 3/5] END ...C=895, gamma=0.0085, kernel=rbf;, score=0.410 total time=   0.0s\n",
      "[CV 4/5] END ...C=895, gamma=0.0085, kernel=rbf;, score=0.657 total time=   0.0s\n",
      "[CV 5/5] END ...C=895, gamma=0.0085, kernel=rbf;, score=0.196 total time=   0.0s\n",
      "[CV 1/5] END ..C=895, gamma=0.0085, kernel=poly;, score=0.442 total time=   0.0s\n",
      "[CV 2/5] END ..C=895, gamma=0.0085, kernel=poly;, score=0.545 total time=   0.0s\n",
      "[CV 3/5] END ..C=895, gamma=0.0085, kernel=poly;, score=0.199 total time=   0.0s\n",
      "[CV 4/5] END ..C=895, gamma=0.0085, kernel=poly;, score=0.652 total time=   0.0s\n",
      "[CV 5/5] END ..C=895, gamma=0.0085, kernel=poly;, score=0.218 total time=   0.0s\n",
      "[CV 1/5] END ...C=895, gamma=0.0088, kernel=rbf;, score=0.661 total time=   0.0s\n",
      "[CV 2/5] END ...C=895, gamma=0.0088, kernel=rbf;, score=0.707 total time=   0.0s\n",
      "[CV 3/5] END ...C=895, gamma=0.0088, kernel=rbf;, score=0.412 total time=   0.0s\n",
      "[CV 4/5] END ...C=895, gamma=0.0088, kernel=rbf;, score=0.654 total time=   0.0s\n",
      "[CV 5/5] END ...C=895, gamma=0.0088, kernel=rbf;, score=0.194 total time=   0.0s\n",
      "[CV 1/5] END ..C=895, gamma=0.0088, kernel=poly;, score=0.464 total time=   0.0s\n",
      "[CV 2/5] END ..C=895, gamma=0.0088, kernel=poly;, score=0.546 total time=   0.0s\n",
      "[CV 3/5] END ..C=895, gamma=0.0088, kernel=poly;, score=0.197 total time=   0.0s\n",
      "[CV 4/5] END ..C=895, gamma=0.0088, kernel=poly;, score=0.653 total time=   0.0s\n",
      "[CV 5/5] END ..C=895, gamma=0.0088, kernel=poly;, score=0.223 total time=   0.0s\n",
      "[CV 1/5] END ....C=895, gamma=0.009, kernel=rbf;, score=0.662 total time=   0.0s\n",
      "[CV 2/5] END ....C=895, gamma=0.009, kernel=rbf;, score=0.707 total time=   0.0s\n",
      "[CV 3/5] END ....C=895, gamma=0.009, kernel=rbf;, score=0.413 total time=   0.0s\n",
      "[CV 4/5] END ....C=895, gamma=0.009, kernel=rbf;, score=0.653 total time=   0.0s\n",
      "[CV 5/5] END ....C=895, gamma=0.009, kernel=rbf;, score=0.193 total time=   0.0s\n",
      "[CV 1/5] END ...C=895, gamma=0.009, kernel=poly;, score=0.482 total time=   0.0s\n",
      "[CV 2/5] END ...C=895, gamma=0.009, kernel=poly;, score=0.546 total time=   0.0s\n",
      "[CV 3/5] END ...C=895, gamma=0.009, kernel=poly;, score=0.193 total time=   0.0s\n",
      "[CV 4/5] END ...C=895, gamma=0.009, kernel=poly;, score=0.653 total time=   0.0s\n",
      "[CV 5/5] END ...C=895, gamma=0.009, kernel=poly;, score=0.226 total time=   0.0s\n",
      "[CV 1/5] END ...C=895, gamma=0.0095, kernel=rbf;, score=0.662 total time=   0.0s\n",
      "[CV 2/5] END ...C=895, gamma=0.0095, kernel=rbf;, score=0.708 total time=   0.0s\n",
      "[CV 3/5] END ...C=895, gamma=0.0095, kernel=rbf;, score=0.416 total time=   0.0s\n",
      "[CV 4/5] END ...C=895, gamma=0.0095, kernel=rbf;, score=0.649 total time=   0.0s\n",
      "[CV 5/5] END ...C=895, gamma=0.0095, kernel=rbf;, score=0.189 total time=   0.0s\n",
      "[CV 1/5] END ..C=895, gamma=0.0095, kernel=poly;, score=0.490 total time=   0.0s\n",
      "[CV 2/5] END ..C=895, gamma=0.0095, kernel=poly;, score=0.541 total time=   0.0s\n",
      "[CV 3/5] END ..C=895, gamma=0.0095, kernel=poly;, score=0.192 total time=   0.0s\n",
      "[CV 4/5] END ..C=895, gamma=0.0095, kernel=poly;, score=0.655 total time=   0.0s\n",
      "[CV 5/5] END ..C=895, gamma=0.0095, kernel=poly;, score=0.235 total time=   0.0s\n",
      "[CV 1/5] END ...C=900, gamma=0.0085, kernel=rbf;, score=0.659 total time=   0.0s\n",
      "[CV 2/5] END ...C=900, gamma=0.0085, kernel=rbf;, score=0.706 total time=   0.0s\n",
      "[CV 3/5] END ...C=900, gamma=0.0085, kernel=rbf;, score=0.410 total time=   0.0s\n",
      "[CV 4/5] END ...C=900, gamma=0.0085, kernel=rbf;, score=0.657 total time=   0.0s\n",
      "[CV 5/5] END ...C=900, gamma=0.0085, kernel=rbf;, score=0.196 total time=   0.0s\n",
      "[CV 1/5] END ..C=900, gamma=0.0085, kernel=poly;, score=0.444 total time=   0.0s\n",
      "[CV 2/5] END ..C=900, gamma=0.0085, kernel=poly;, score=0.545 total time=   0.0s\n",
      "[CV 3/5] END ..C=900, gamma=0.0085, kernel=poly;, score=0.199 total time=   0.0s\n",
      "[CV 4/5] END ..C=900, gamma=0.0085, kernel=poly;, score=0.652 total time=   0.0s\n",
      "[CV 5/5] END ..C=900, gamma=0.0085, kernel=poly;, score=0.219 total time=   0.0s\n",
      "[CV 1/5] END ...C=900, gamma=0.0088, kernel=rbf;, score=0.661 total time=   0.0s\n",
      "[CV 2/5] END ...C=900, gamma=0.0088, kernel=rbf;, score=0.707 total time=   0.0s\n",
      "[CV 3/5] END ...C=900, gamma=0.0088, kernel=rbf;, score=0.412 total time=   0.0s\n",
      "[CV 4/5] END ...C=900, gamma=0.0088, kernel=rbf;, score=0.654 total time=   0.0s\n",
      "[CV 5/5] END ...C=900, gamma=0.0088, kernel=rbf;, score=0.194 total time=   0.0s\n",
      "[CV 1/5] END ..C=900, gamma=0.0088, kernel=poly;, score=0.466 total time=   0.0s\n",
      "[CV 2/5] END ..C=900, gamma=0.0088, kernel=poly;, score=0.546 total time=   0.0s\n",
      "[CV 3/5] END ..C=900, gamma=0.0088, kernel=poly;, score=0.197 total time=   0.0s\n",
      "[CV 4/5] END ..C=900, gamma=0.0088, kernel=poly;, score=0.653 total time=   0.0s\n",
      "[CV 5/5] END ..C=900, gamma=0.0088, kernel=poly;, score=0.223 total time=   0.0s\n",
      "[CV 1/5] END ....C=900, gamma=0.009, kernel=rbf;, score=0.662 total time=   0.0s\n",
      "[CV 2/5] END ....C=900, gamma=0.009, kernel=rbf;, score=0.708 total time=   0.0s\n",
      "[CV 3/5] END ....C=900, gamma=0.009, kernel=rbf;, score=0.413 total time=   0.0s\n",
      "[CV 4/5] END ....C=900, gamma=0.009, kernel=rbf;, score=0.653 total time=   0.0s\n",
      "[CV 5/5] END ....C=900, gamma=0.009, kernel=rbf;, score=0.193 total time=   0.0s\n",
      "[CV 1/5] END ...C=900, gamma=0.009, kernel=poly;, score=0.483 total time=   0.0s\n",
      "[CV 2/5] END ...C=900, gamma=0.009, kernel=poly;, score=0.545 total time=   0.0s\n",
      "[CV 3/5] END ...C=900, gamma=0.009, kernel=poly;, score=0.192 total time=   0.0s\n",
      "[CV 4/5] END ...C=900, gamma=0.009, kernel=poly;, score=0.653 total time=   0.0s\n",
      "[CV 5/5] END ...C=900, gamma=0.009, kernel=poly;, score=0.226 total time=   0.0s\n",
      "[CV 1/5] END ...C=900, gamma=0.0095, kernel=rbf;, score=0.661 total time=   0.0s\n",
      "[CV 2/5] END ...C=900, gamma=0.0095, kernel=rbf;, score=0.709 total time=   0.0s\n",
      "[CV 3/5] END ...C=900, gamma=0.0095, kernel=rbf;, score=0.416 total time=   0.0s\n",
      "[CV 4/5] END ...C=900, gamma=0.0095, kernel=rbf;, score=0.649 total time=   0.0s\n",
      "[CV 5/5] END ...C=900, gamma=0.0095, kernel=rbf;, score=0.188 total time=   0.0s\n",
      "[CV 1/5] END ..C=900, gamma=0.0095, kernel=poly;, score=0.490 total time=   0.0s\n",
      "[CV 2/5] END ..C=900, gamma=0.0095, kernel=poly;, score=0.540 total time=   0.0s\n",
      "[CV 3/5] END ..C=900, gamma=0.0095, kernel=poly;, score=0.192 total time=   0.0s\n",
      "[CV 4/5] END ..C=900, gamma=0.0095, kernel=poly;, score=0.655 total time=   0.0s\n",
      "[CV 5/5] END ..C=900, gamma=0.0095, kernel=poly;, score=0.235 total time=   0.0s\n",
      "[CV 1/5] END ...C=905, gamma=0.0085, kernel=rbf;, score=0.660 total time=   0.0s\n",
      "[CV 2/5] END ...C=905, gamma=0.0085, kernel=rbf;, score=0.706 total time=   0.0s\n",
      "[CV 3/5] END ...C=905, gamma=0.0085, kernel=rbf;, score=0.410 total time=   0.0s\n",
      "[CV 4/5] END ...C=905, gamma=0.0085, kernel=rbf;, score=0.657 total time=   0.0s\n",
      "[CV 5/5] END ...C=905, gamma=0.0085, kernel=rbf;, score=0.196 total time=   0.0s\n",
      "[CV 1/5] END ..C=905, gamma=0.0085, kernel=poly;, score=0.445 total time=   0.0s\n",
      "[CV 2/5] END ..C=905, gamma=0.0085, kernel=poly;, score=0.545 total time=   0.0s\n",
      "[CV 3/5] END ..C=905, gamma=0.0085, kernel=poly;, score=0.199 total time=   0.0s\n",
      "[CV 4/5] END ..C=905, gamma=0.0085, kernel=poly;, score=0.652 total time=   0.0s\n",
      "[CV 5/5] END ..C=905, gamma=0.0085, kernel=poly;, score=0.219 total time=   0.0s\n",
      "[CV 1/5] END ...C=905, gamma=0.0088, kernel=rbf;, score=0.661 total time=   0.0s\n",
      "[CV 2/5] END ...C=905, gamma=0.0088, kernel=rbf;, score=0.707 total time=   0.0s\n",
      "[CV 3/5] END ...C=905, gamma=0.0088, kernel=rbf;, score=0.412 total time=   0.0s\n",
      "[CV 4/5] END ...C=905, gamma=0.0088, kernel=rbf;, score=0.654 total time=   0.0s\n",
      "[CV 5/5] END ...C=905, gamma=0.0088, kernel=rbf;, score=0.194 total time=   0.0s\n",
      "[CV 1/5] END ..C=905, gamma=0.0088, kernel=poly;, score=0.467 total time=   0.0s\n",
      "[CV 2/5] END ..C=905, gamma=0.0088, kernel=poly;, score=0.546 total time=   0.0s\n",
      "[CV 3/5] END ..C=905, gamma=0.0088, kernel=poly;, score=0.196 total time=   0.0s\n",
      "[CV 4/5] END ..C=905, gamma=0.0088, kernel=poly;, score=0.653 total time=   0.0s\n",
      "[CV 5/5] END ..C=905, gamma=0.0088, kernel=poly;, score=0.223 total time=   0.0s\n",
      "[CV 1/5] END ....C=905, gamma=0.009, kernel=rbf;, score=0.663 total time=   0.0s\n",
      "[CV 2/5] END ....C=905, gamma=0.009, kernel=rbf;, score=0.708 total time=   0.0s\n",
      "[CV 3/5] END ....C=905, gamma=0.009, kernel=rbf;, score=0.413 total time=   0.0s\n",
      "[CV 4/5] END ....C=905, gamma=0.009, kernel=rbf;, score=0.653 total time=   0.0s\n",
      "[CV 5/5] END ....C=905, gamma=0.009, kernel=rbf;, score=0.193 total time=   0.0s\n",
      "[CV 1/5] END ...C=905, gamma=0.009, kernel=poly;, score=0.485 total time=   0.0s\n",
      "[CV 2/5] END ...C=905, gamma=0.009, kernel=poly;, score=0.545 total time=   0.0s\n",
      "[CV 3/5] END ...C=905, gamma=0.009, kernel=poly;, score=0.192 total time=   0.0s\n",
      "[CV 4/5] END ...C=905, gamma=0.009, kernel=poly;, score=0.653 total time=   0.0s\n",
      "[CV 5/5] END ...C=905, gamma=0.009, kernel=poly;, score=0.226 total time=   0.0s\n",
      "[CV 1/5] END ...C=905, gamma=0.0095, kernel=rbf;, score=0.661 total time=   0.0s\n",
      "[CV 2/5] END ...C=905, gamma=0.0095, kernel=rbf;, score=0.709 total time=   0.0s\n",
      "[CV 3/5] END ...C=905, gamma=0.0095, kernel=rbf;, score=0.416 total time=   0.0s\n",
      "[CV 4/5] END ...C=905, gamma=0.0095, kernel=rbf;, score=0.649 total time=   0.0s\n",
      "[CV 5/5] END ...C=905, gamma=0.0095, kernel=rbf;, score=0.188 total time=   0.0s\n",
      "[CV 1/5] END ..C=905, gamma=0.0095, kernel=poly;, score=0.490 total time=   0.0s\n",
      "[CV 2/5] END ..C=905, gamma=0.0095, kernel=poly;, score=0.540 total time=   0.0s\n",
      "[CV 3/5] END ..C=905, gamma=0.0095, kernel=poly;, score=0.192 total time=   0.0s\n",
      "[CV 4/5] END ..C=905, gamma=0.0095, kernel=poly;, score=0.655 total time=   0.0s\n",
      "[CV 5/5] END ..C=905, gamma=0.0095, kernel=poly;, score=0.236 total time=   0.0s\n"
     ]
    },
    {
     "data": {
      "text/html": [
       "<style>#sk-container-id-9 {color: black;background-color: white;}#sk-container-id-9 pre{padding: 0;}#sk-container-id-9 div.sk-toggleable {background-color: white;}#sk-container-id-9 label.sk-toggleable__label {cursor: pointer;display: block;width: 100%;margin-bottom: 0;padding: 0.3em;box-sizing: border-box;text-align: center;}#sk-container-id-9 label.sk-toggleable__label-arrow:before {content: \"▸\";float: left;margin-right: 0.25em;color: #696969;}#sk-container-id-9 label.sk-toggleable__label-arrow:hover:before {color: black;}#sk-container-id-9 div.sk-estimator:hover label.sk-toggleable__label-arrow:before {color: black;}#sk-container-id-9 div.sk-toggleable__content {max-height: 0;max-width: 0;overflow: hidden;text-align: left;background-color: #f0f8ff;}#sk-container-id-9 div.sk-toggleable__content pre {margin: 0.2em;color: black;border-radius: 0.25em;background-color: #f0f8ff;}#sk-container-id-9 input.sk-toggleable__control:checked~div.sk-toggleable__content {max-height: 200px;max-width: 100%;overflow: auto;}#sk-container-id-9 input.sk-toggleable__control:checked~label.sk-toggleable__label-arrow:before {content: \"▾\";}#sk-container-id-9 div.sk-estimator input.sk-toggleable__control:checked~label.sk-toggleable__label {background-color: #d4ebff;}#sk-container-id-9 div.sk-label input.sk-toggleable__control:checked~label.sk-toggleable__label {background-color: #d4ebff;}#sk-container-id-9 input.sk-hidden--visually {border: 0;clip: rect(1px 1px 1px 1px);clip: rect(1px, 1px, 1px, 1px);height: 1px;margin: -1px;overflow: hidden;padding: 0;position: absolute;width: 1px;}#sk-container-id-9 div.sk-estimator {font-family: monospace;background-color: #f0f8ff;border: 1px dotted black;border-radius: 0.25em;box-sizing: border-box;margin-bottom: 0.5em;}#sk-container-id-9 div.sk-estimator:hover {background-color: #d4ebff;}#sk-container-id-9 div.sk-parallel-item::after {content: \"\";width: 100%;border-bottom: 1px solid gray;flex-grow: 1;}#sk-container-id-9 div.sk-label:hover label.sk-toggleable__label {background-color: #d4ebff;}#sk-container-id-9 div.sk-serial::before {content: \"\";position: absolute;border-left: 1px solid gray;box-sizing: border-box;top: 0;bottom: 0;left: 50%;z-index: 0;}#sk-container-id-9 div.sk-serial {display: flex;flex-direction: column;align-items: center;background-color: white;padding-right: 0.2em;padding-left: 0.2em;position: relative;}#sk-container-id-9 div.sk-item {position: relative;z-index: 1;}#sk-container-id-9 div.sk-parallel {display: flex;align-items: stretch;justify-content: center;background-color: white;position: relative;}#sk-container-id-9 div.sk-item::before, #sk-container-id-9 div.sk-parallel-item::before {content: \"\";position: absolute;border-left: 1px solid gray;box-sizing: border-box;top: 0;bottom: 0;left: 50%;z-index: -1;}#sk-container-id-9 div.sk-parallel-item {display: flex;flex-direction: column;z-index: 1;position: relative;background-color: white;}#sk-container-id-9 div.sk-parallel-item:first-child::after {align-self: flex-end;width: 50%;}#sk-container-id-9 div.sk-parallel-item:last-child::after {align-self: flex-start;width: 50%;}#sk-container-id-9 div.sk-parallel-item:only-child::after {width: 0;}#sk-container-id-9 div.sk-dashed-wrapped {border: 1px dashed gray;margin: 0 0.4em 0.5em 0.4em;box-sizing: border-box;padding-bottom: 0.4em;background-color: white;}#sk-container-id-9 div.sk-label label {font-family: monospace;font-weight: bold;display: inline-block;line-height: 1.2em;}#sk-container-id-9 div.sk-label-container {text-align: center;}#sk-container-id-9 div.sk-container {/* jupyter's `normalize.less` sets `[hidden] { display: none; }` but bootstrap.min.css set `[hidden] { display: none !important; }` so we also need the `!important` here to be able to override the default hidden behavior on the sphinx rendered scikit-learn.org. See: https://github.com/scikit-learn/scikit-learn/issues/21755 */display: inline-block !important;position: relative;}#sk-container-id-9 div.sk-text-repr-fallback {display: none;}</style><div id=\"sk-container-id-9\" class=\"sk-top-container\"><div class=\"sk-text-repr-fallback\"><pre>GridSearchCV(cv=5, estimator=SVR(),\n",
       "             param_grid={&#x27;C&#x27;: [800, 850, 895, 900, 905],\n",
       "                         &#x27;gamma&#x27;: [0.0085, 0.0088, 0.009, 0.0095],\n",
       "                         &#x27;kernel&#x27;: [&#x27;rbf&#x27;, &#x27;poly&#x27;]},\n",
       "             verbose=3)</pre><b>In a Jupyter environment, please rerun this cell to show the HTML representation or trust the notebook. <br />On GitHub, the HTML representation is unable to render, please try loading this page with nbviewer.org.</b></div><div class=\"sk-container\" hidden><div class=\"sk-item sk-dashed-wrapped\"><div class=\"sk-label-container\"><div class=\"sk-label sk-toggleable\"><input class=\"sk-toggleable__control sk-hidden--visually\" id=\"sk-estimator-id-25\" type=\"checkbox\" ><label for=\"sk-estimator-id-25\" class=\"sk-toggleable__label sk-toggleable__label-arrow\">GridSearchCV</label><div class=\"sk-toggleable__content\"><pre>GridSearchCV(cv=5, estimator=SVR(),\n",
       "             param_grid={&#x27;C&#x27;: [800, 850, 895, 900, 905],\n",
       "                         &#x27;gamma&#x27;: [0.0085, 0.0088, 0.009, 0.0095],\n",
       "                         &#x27;kernel&#x27;: [&#x27;rbf&#x27;, &#x27;poly&#x27;]},\n",
       "             verbose=3)</pre></div></div></div><div class=\"sk-parallel\"><div class=\"sk-parallel-item\"><div class=\"sk-item\"><div class=\"sk-label-container\"><div class=\"sk-label sk-toggleable\"><input class=\"sk-toggleable__control sk-hidden--visually\" id=\"sk-estimator-id-26\" type=\"checkbox\" ><label for=\"sk-estimator-id-26\" class=\"sk-toggleable__label sk-toggleable__label-arrow\">estimator: SVR</label><div class=\"sk-toggleable__content\"><pre>SVR()</pre></div></div></div><div class=\"sk-serial\"><div class=\"sk-item\"><div class=\"sk-estimator sk-toggleable\"><input class=\"sk-toggleable__control sk-hidden--visually\" id=\"sk-estimator-id-27\" type=\"checkbox\" ><label for=\"sk-estimator-id-27\" class=\"sk-toggleable__label sk-toggleable__label-arrow\">SVR</label><div class=\"sk-toggleable__content\"><pre>SVR()</pre></div></div></div></div></div></div></div></div></div></div>"
      ],
      "text/plain": [
       "GridSearchCV(cv=5, estimator=SVR(),\n",
       "             param_grid={'C': [800, 850, 895, 900, 905],\n",
       "                         'gamma': [0.0085, 0.0088, 0.009, 0.0095],\n",
       "                         'kernel': ['rbf', 'poly']},\n",
       "             verbose=3)"
      ]
     },
     "execution_count": 128,
     "metadata": {},
     "output_type": "execute_result"
    }
   ],
   "source": [
    "param_grid={'C':[800,850,895,900,905],\n",
    "            'gamma':[0.0085,0.0088,0.009,0.0095],\n",
    "            'kernel':['rbf','poly']}\n",
    "grid=GridSearchCV(estimator=svr,param_grid=param_grid,refit=True,cv=5,verbose=3)\n",
    "grid.fit(X_train,y_train)"
   ]
  },
  {
   "cell_type": "code",
   "execution_count": 129,
   "id": "919d7083-3105-4278-bc61-bd8949d19b30",
   "metadata": {},
   "outputs": [
    {
     "data": {
      "text/plain": [
       "{'C': 800, 'gamma': 0.0085, 'kernel': 'rbf'}"
      ]
     },
     "execution_count": 129,
     "metadata": {},
     "output_type": "execute_result"
    }
   ],
   "source": [
    "grid.best_params_"
   ]
  },
  {
   "cell_type": "code",
   "execution_count": 130,
   "id": "d3541520-5da1-40b8-be77-8c5ac38e6c7d",
   "metadata": {},
   "outputs": [
    {
     "name": "stdout",
     "output_type": "stream",
     "text": [
      "0.5692194045288331\n",
      "4.258210847126227\n"
     ]
    }
   ],
   "source": [
    "grid_prediction=grid.predict(X_test)\n",
    "from sklearn.metrics import r2_score,mean_absolute_error\n",
    "print(r2_score(y_test,grid_prediction))\n",
    "print(mean_absolute_error(y_test,grid_prediction))"
   ]
  },
  {
   "cell_type": "markdown",
   "id": "dc54e557-2326-423e-b3e3-7be05a6011e5",
   "metadata": {},
   "source": [
    "### Continue Testing"
   ]
  },
  {
   "cell_type": "code",
   "execution_count": 131,
   "id": "32a2306b-da90-47bd-bbb6-4761581c84ed",
   "metadata": {},
   "outputs": [
    {
     "name": "stdout",
     "output_type": "stream",
     "text": [
      "Fitting 5 folds for each of 12 candidates, totalling 60 fits\n",
      "[CV 1/5] END ....C=700, gamma=0.005, kernel=rbf;, score=0.645 total time=   0.0s\n",
      "[CV 2/5] END ....C=700, gamma=0.005, kernel=rbf;, score=0.693 total time=   0.0s\n",
      "[CV 3/5] END ....C=700, gamma=0.005, kernel=rbf;, score=0.397 total time=   0.0s\n",
      "[CV 4/5] END ....C=700, gamma=0.005, kernel=rbf;, score=0.684 total time=   0.0s\n",
      "[CV 5/5] END ....C=700, gamma=0.005, kernel=rbf;, score=0.224 total time=   0.0s\n",
      "[CV 1/5] END ....C=700, gamma=0.007, kernel=rbf;, score=0.646 total time=   0.0s\n",
      "[CV 2/5] END ....C=700, gamma=0.007, kernel=rbf;, score=0.699 total time=   0.0s\n",
      "[CV 3/5] END ....C=700, gamma=0.007, kernel=rbf;, score=0.394 total time=   0.0s\n",
      "[CV 4/5] END ....C=700, gamma=0.007, kernel=rbf;, score=0.674 total time=   0.0s\n",
      "[CV 5/5] END ....C=700, gamma=0.007, kernel=rbf;, score=0.216 total time=   0.0s\n",
      "[CV 1/5] END ....C=700, gamma=0.008, kernel=rbf;, score=0.654 total time=   0.0s\n",
      "[CV 2/5] END ....C=700, gamma=0.008, kernel=rbf;, score=0.705 total time=   0.0s\n",
      "[CV 3/5] END ....C=700, gamma=0.008, kernel=rbf;, score=0.400 total time=   0.0s\n",
      "[CV 4/5] END ....C=700, gamma=0.008, kernel=rbf;, score=0.669 total time=   0.0s\n",
      "[CV 5/5] END ....C=700, gamma=0.008, kernel=rbf;, score=0.204 total time=   0.0s\n",
      "[CV 1/5] END ....C=750, gamma=0.005, kernel=rbf;, score=0.645 total time=   0.0s\n",
      "[CV 2/5] END ....C=750, gamma=0.005, kernel=rbf;, score=0.693 total time=   0.0s\n",
      "[CV 3/5] END ....C=750, gamma=0.005, kernel=rbf;, score=0.396 total time=   0.0s\n",
      "[CV 4/5] END ....C=750, gamma=0.005, kernel=rbf;, score=0.684 total time=   0.0s\n",
      "[CV 5/5] END ....C=750, gamma=0.005, kernel=rbf;, score=0.225 total time=   0.0s\n",
      "[CV 1/5] END ....C=750, gamma=0.007, kernel=rbf;, score=0.646 total time=   0.0s\n",
      "[CV 2/5] END ....C=750, gamma=0.007, kernel=rbf;, score=0.701 total time=   0.0s\n",
      "[CV 3/5] END ....C=750, gamma=0.007, kernel=rbf;, score=0.395 total time=   0.0s\n",
      "[CV 4/5] END ....C=750, gamma=0.007, kernel=rbf;, score=0.673 total time=   0.0s\n",
      "[CV 5/5] END ....C=750, gamma=0.007, kernel=rbf;, score=0.211 total time=   0.0s\n",
      "[CV 1/5] END ....C=750, gamma=0.008, kernel=rbf;, score=0.657 total time=   0.0s\n",
      "[CV 2/5] END ....C=750, gamma=0.008, kernel=rbf;, score=0.706 total time=   0.0s\n",
      "[CV 3/5] END ....C=750, gamma=0.008, kernel=rbf;, score=0.402 total time=   0.0s\n",
      "[CV 4/5] END ....C=750, gamma=0.008, kernel=rbf;, score=0.667 total time=   0.0s\n",
      "[CV 5/5] END ....C=750, gamma=0.008, kernel=rbf;, score=0.203 total time=   0.0s\n",
      "[CV 1/5] END ....C=780, gamma=0.005, kernel=rbf;, score=0.645 total time=   0.0s\n",
      "[CV 2/5] END ....C=780, gamma=0.005, kernel=rbf;, score=0.693 total time=   0.0s\n",
      "[CV 3/5] END ....C=780, gamma=0.005, kernel=rbf;, score=0.396 total time=   0.0s\n",
      "[CV 4/5] END ....C=780, gamma=0.005, kernel=rbf;, score=0.684 total time=   0.0s\n",
      "[CV 5/5] END ....C=780, gamma=0.005, kernel=rbf;, score=0.226 total time=   0.0s\n",
      "[CV 1/5] END ....C=780, gamma=0.007, kernel=rbf;, score=0.647 total time=   0.0s\n",
      "[CV 2/5] END ....C=780, gamma=0.007, kernel=rbf;, score=0.701 total time=   0.0s\n",
      "[CV 3/5] END ....C=780, gamma=0.007, kernel=rbf;, score=0.396 total time=   0.0s\n",
      "[CV 4/5] END ....C=780, gamma=0.007, kernel=rbf;, score=0.672 total time=   0.0s\n",
      "[CV 5/5] END ....C=780, gamma=0.007, kernel=rbf;, score=0.209 total time=   0.0s\n",
      "[CV 1/5] END ....C=780, gamma=0.008, kernel=rbf;, score=0.658 total time=   0.0s\n",
      "[CV 2/5] END ....C=780, gamma=0.008, kernel=rbf;, score=0.707 total time=   0.0s\n",
      "[CV 3/5] END ....C=780, gamma=0.008, kernel=rbf;, score=0.403 total time=   0.0s\n",
      "[CV 4/5] END ....C=780, gamma=0.008, kernel=rbf;, score=0.665 total time=   0.0s\n",
      "[CV 5/5] END ....C=780, gamma=0.008, kernel=rbf;, score=0.199 total time=   0.0s\n",
      "[CV 1/5] END ....C=800, gamma=0.005, kernel=rbf;, score=0.645 total time=   0.0s\n",
      "[CV 2/5] END ....C=800, gamma=0.005, kernel=rbf;, score=0.693 total time=   0.0s\n",
      "[CV 3/5] END ....C=800, gamma=0.005, kernel=rbf;, score=0.395 total time=   0.0s\n",
      "[CV 4/5] END ....C=800, gamma=0.005, kernel=rbf;, score=0.684 total time=   0.0s\n",
      "[CV 5/5] END ....C=800, gamma=0.005, kernel=rbf;, score=0.226 total time=   0.0s\n",
      "[CV 1/5] END ....C=800, gamma=0.007, kernel=rbf;, score=0.647 total time=   0.0s\n",
      "[CV 2/5] END ....C=800, gamma=0.007, kernel=rbf;, score=0.702 total time=   0.0s\n",
      "[CV 3/5] END ....C=800, gamma=0.007, kernel=rbf;, score=0.396 total time=   0.0s\n",
      "[CV 4/5] END ....C=800, gamma=0.007, kernel=rbf;, score=0.672 total time=   0.0s\n",
      "[CV 5/5] END ....C=800, gamma=0.007, kernel=rbf;, score=0.208 total time=   0.0s\n",
      "[CV 1/5] END ....C=800, gamma=0.008, kernel=rbf;, score=0.659 total time=   0.0s\n",
      "[CV 2/5] END ....C=800, gamma=0.008, kernel=rbf;, score=0.707 total time=   0.0s\n",
      "[CV 3/5] END ....C=800, gamma=0.008, kernel=rbf;, score=0.404 total time=   0.0s\n",
      "[CV 4/5] END ....C=800, gamma=0.008, kernel=rbf;, score=0.664 total time=   0.0s\n",
      "[CV 5/5] END ....C=800, gamma=0.008, kernel=rbf;, score=0.197 total time=   0.0s\n"
     ]
    },
    {
     "data": {
      "text/html": [
       "<style>#sk-container-id-10 {color: black;background-color: white;}#sk-container-id-10 pre{padding: 0;}#sk-container-id-10 div.sk-toggleable {background-color: white;}#sk-container-id-10 label.sk-toggleable__label {cursor: pointer;display: block;width: 100%;margin-bottom: 0;padding: 0.3em;box-sizing: border-box;text-align: center;}#sk-container-id-10 label.sk-toggleable__label-arrow:before {content: \"▸\";float: left;margin-right: 0.25em;color: #696969;}#sk-container-id-10 label.sk-toggleable__label-arrow:hover:before {color: black;}#sk-container-id-10 div.sk-estimator:hover label.sk-toggleable__label-arrow:before {color: black;}#sk-container-id-10 div.sk-toggleable__content {max-height: 0;max-width: 0;overflow: hidden;text-align: left;background-color: #f0f8ff;}#sk-container-id-10 div.sk-toggleable__content pre {margin: 0.2em;color: black;border-radius: 0.25em;background-color: #f0f8ff;}#sk-container-id-10 input.sk-toggleable__control:checked~div.sk-toggleable__content {max-height: 200px;max-width: 100%;overflow: auto;}#sk-container-id-10 input.sk-toggleable__control:checked~label.sk-toggleable__label-arrow:before {content: \"▾\";}#sk-container-id-10 div.sk-estimator input.sk-toggleable__control:checked~label.sk-toggleable__label {background-color: #d4ebff;}#sk-container-id-10 div.sk-label input.sk-toggleable__control:checked~label.sk-toggleable__label {background-color: #d4ebff;}#sk-container-id-10 input.sk-hidden--visually {border: 0;clip: rect(1px 1px 1px 1px);clip: rect(1px, 1px, 1px, 1px);height: 1px;margin: -1px;overflow: hidden;padding: 0;position: absolute;width: 1px;}#sk-container-id-10 div.sk-estimator {font-family: monospace;background-color: #f0f8ff;border: 1px dotted black;border-radius: 0.25em;box-sizing: border-box;margin-bottom: 0.5em;}#sk-container-id-10 div.sk-estimator:hover {background-color: #d4ebff;}#sk-container-id-10 div.sk-parallel-item::after {content: \"\";width: 100%;border-bottom: 1px solid gray;flex-grow: 1;}#sk-container-id-10 div.sk-label:hover label.sk-toggleable__label {background-color: #d4ebff;}#sk-container-id-10 div.sk-serial::before {content: \"\";position: absolute;border-left: 1px solid gray;box-sizing: border-box;top: 0;bottom: 0;left: 50%;z-index: 0;}#sk-container-id-10 div.sk-serial {display: flex;flex-direction: column;align-items: center;background-color: white;padding-right: 0.2em;padding-left: 0.2em;position: relative;}#sk-container-id-10 div.sk-item {position: relative;z-index: 1;}#sk-container-id-10 div.sk-parallel {display: flex;align-items: stretch;justify-content: center;background-color: white;position: relative;}#sk-container-id-10 div.sk-item::before, #sk-container-id-10 div.sk-parallel-item::before {content: \"\";position: absolute;border-left: 1px solid gray;box-sizing: border-box;top: 0;bottom: 0;left: 50%;z-index: -1;}#sk-container-id-10 div.sk-parallel-item {display: flex;flex-direction: column;z-index: 1;position: relative;background-color: white;}#sk-container-id-10 div.sk-parallel-item:first-child::after {align-self: flex-end;width: 50%;}#sk-container-id-10 div.sk-parallel-item:last-child::after {align-self: flex-start;width: 50%;}#sk-container-id-10 div.sk-parallel-item:only-child::after {width: 0;}#sk-container-id-10 div.sk-dashed-wrapped {border: 1px dashed gray;margin: 0 0.4em 0.5em 0.4em;box-sizing: border-box;padding-bottom: 0.4em;background-color: white;}#sk-container-id-10 div.sk-label label {font-family: monospace;font-weight: bold;display: inline-block;line-height: 1.2em;}#sk-container-id-10 div.sk-label-container {text-align: center;}#sk-container-id-10 div.sk-container {/* jupyter's `normalize.less` sets `[hidden] { display: none; }` but bootstrap.min.css set `[hidden] { display: none !important; }` so we also need the `!important` here to be able to override the default hidden behavior on the sphinx rendered scikit-learn.org. See: https://github.com/scikit-learn/scikit-learn/issues/21755 */display: inline-block !important;position: relative;}#sk-container-id-10 div.sk-text-repr-fallback {display: none;}</style><div id=\"sk-container-id-10\" class=\"sk-top-container\"><div class=\"sk-text-repr-fallback\"><pre>GridSearchCV(cv=5, estimator=SVR(),\n",
       "             param_grid={&#x27;C&#x27;: [700, 750, 780, 800],\n",
       "                         &#x27;gamma&#x27;: [0.005, 0.007, 0.008], &#x27;kernel&#x27;: [&#x27;rbf&#x27;]},\n",
       "             verbose=3)</pre><b>In a Jupyter environment, please rerun this cell to show the HTML representation or trust the notebook. <br />On GitHub, the HTML representation is unable to render, please try loading this page with nbviewer.org.</b></div><div class=\"sk-container\" hidden><div class=\"sk-item sk-dashed-wrapped\"><div class=\"sk-label-container\"><div class=\"sk-label sk-toggleable\"><input class=\"sk-toggleable__control sk-hidden--visually\" id=\"sk-estimator-id-28\" type=\"checkbox\" ><label for=\"sk-estimator-id-28\" class=\"sk-toggleable__label sk-toggleable__label-arrow\">GridSearchCV</label><div class=\"sk-toggleable__content\"><pre>GridSearchCV(cv=5, estimator=SVR(),\n",
       "             param_grid={&#x27;C&#x27;: [700, 750, 780, 800],\n",
       "                         &#x27;gamma&#x27;: [0.005, 0.007, 0.008], &#x27;kernel&#x27;: [&#x27;rbf&#x27;]},\n",
       "             verbose=3)</pre></div></div></div><div class=\"sk-parallel\"><div class=\"sk-parallel-item\"><div class=\"sk-item\"><div class=\"sk-label-container\"><div class=\"sk-label sk-toggleable\"><input class=\"sk-toggleable__control sk-hidden--visually\" id=\"sk-estimator-id-29\" type=\"checkbox\" ><label for=\"sk-estimator-id-29\" class=\"sk-toggleable__label sk-toggleable__label-arrow\">estimator: SVR</label><div class=\"sk-toggleable__content\"><pre>SVR()</pre></div></div></div><div class=\"sk-serial\"><div class=\"sk-item\"><div class=\"sk-estimator sk-toggleable\"><input class=\"sk-toggleable__control sk-hidden--visually\" id=\"sk-estimator-id-30\" type=\"checkbox\" ><label for=\"sk-estimator-id-30\" class=\"sk-toggleable__label sk-toggleable__label-arrow\">SVR</label><div class=\"sk-toggleable__content\"><pre>SVR()</pre></div></div></div></div></div></div></div></div></div></div>"
      ],
      "text/plain": [
       "GridSearchCV(cv=5, estimator=SVR(),\n",
       "             param_grid={'C': [700, 750, 780, 800],\n",
       "                         'gamma': [0.005, 0.007, 0.008], 'kernel': ['rbf']},\n",
       "             verbose=3)"
      ]
     },
     "execution_count": 131,
     "metadata": {},
     "output_type": "execute_result"
    }
   ],
   "source": [
    "param_grid={'C':[700,750,780,800],\n",
    "            'gamma':[0.0050,0.0070,0.0080],\n",
    "            'kernel':['rbf']}\n",
    "grid=GridSearchCV(estimator=svr,param_grid=param_grid,refit=True,cv=5,verbose=3)\n",
    "grid.fit(X_train,y_train)"
   ]
  },
  {
   "cell_type": "code",
   "execution_count": 132,
   "id": "e86bae2e-311d-41e9-b88a-857625c45e42",
   "metadata": {},
   "outputs": [
    {
     "data": {
      "text/plain": [
       "{'C': 800, 'gamma': 0.005, 'kernel': 'rbf'}"
      ]
     },
     "execution_count": 132,
     "metadata": {},
     "output_type": "execute_result"
    }
   ],
   "source": [
    "grid.best_params_"
   ]
  },
  {
   "cell_type": "code",
   "execution_count": 133,
   "id": "9997d556-2aa1-4070-8c43-6ce0cd34a574",
   "metadata": {},
   "outputs": [
    {
     "name": "stdout",
     "output_type": "stream",
     "text": [
      "0.5590322281705136\n",
      "4.285385522171012\n"
     ]
    }
   ],
   "source": [
    "grid_prediction=grid.predict(X_test)\n",
    "from sklearn.metrics import r2_score,mean_absolute_error\n",
    "print(r2_score(y_test,grid_prediction))\n",
    "print(mean_absolute_error(y_test,grid_prediction))"
   ]
  },
  {
   "cell_type": "markdown",
   "id": "659f66ca-bbd7-416b-a719-8b58b211bc47",
   "metadata": {},
   "source": [
    "### The first tuning had the best r2_score\n",
    "- {'C': 100, 'gamma': 0.01, 'kernel': 'rbf'}"
   ]
  },
  {
   "cell_type": "code",
   "execution_count": 53,
   "id": "4518dbed-283b-402a-95d2-7a951e4050ef",
   "metadata": {},
   "outputs": [],
   "source": [
    "model=SVR(C=100,gamma=0.01,kernel='rbf')\n",
    "model.fit(X_train,y_train)\n",
    "y_pred=model.predict(X_test)"
   ]
  },
  {
   "cell_type": "code",
   "execution_count": 55,
   "id": "91824154-a1bf-4546-836a-bc78a5ba7709",
   "metadata": {},
   "outputs": [
    {
     "data": {
      "text/plain": [
       "<matplotlib.collections.PathCollection at 0x7f112effbcd0>"
      ]
     },
     "execution_count": 55,
     "metadata": {},
     "output_type": "execute_result"
    },
    {
     "data": {
      "image/png": "[encoded data removed]",
      "text/plain": [
       "<Figure size 640x480 with 1 Axes>"
      ]
     },
     "metadata": {},
     "output_type": "display_data"
    }
   ],
   "source": [
    "import matplotlib.pyplot as plt\n",
    "plt.scatter(y_test,y_pred)"
   ]
  },
  {
   "cell_type": "code",
   "execution_count": 57,
   "id": "cfdabce6-8b1c-4b82-8293-05da0e410a54",
   "metadata": {},
   "outputs": [
    {
     "name": "stdout",
     "output_type": "stream",
     "text": [
      "mse:  34.21448856486322\n",
      "mae:  4.260483973872266\n",
      "rmse:  5.849315221875396\n",
      "r2:  0.5630727637616455\n",
      "r2_adjusted:  0.4958531889557448\n"
     ]
    }
   ],
   "source": [
    "from sklearn.metrics import mean_absolute_error,mean_squared_error,r2_score\n",
    "import numpy as np\n",
    "mse=mean_squared_error(y_test,y_pred)\n",
    "mae=mean_absolute_error(y_test,y_pred)\n",
    "rmse=np.sqrt(mse)\n",
    "score=r2_score(y_test,y_pred)\n",
    "print(\"mse: \",mse)\n",
    "print(\"mae: \",mae)\n",
    "print(\"rmse: \",rmse)\n",
    "print(\"r2: \",score)\n",
    "\n",
    "#r2 adjusted\n",
    "r2_adjusted=1-((1-score)*(len(y_test)-1)/(len(y_test)-X_test.shape[1]-1))\n",
    "print(\"r2_adjusted: \",r2_adjusted)"
   ]
  },
  {
   "cell_type": "code",
   "execution_count": 60,
   "id": "ef1114bf-a322-4b8b-bf51-31b5b9892742",
   "metadata": {},
   "outputs": [
    {
     "data": {
      "text/plain": [
       "array([1.  , 0.  , 0.  , 3.18, 1.  , 0.  , 0.  , 2.  ])"
      ]
     },
     "execution_count": 60,
     "metadata": {},
     "output_type": "execute_result"
    }
   ],
   "source": [
    "X_test[0]"
   ]
  },
  {
   "cell_type": "code",
   "execution_count": 74,
   "id": "315456bd-a3b4-4047-a08c-645c03540a71",
   "metadata": {},
   "outputs": [
    {
     "name": "stdout",
     "output_type": "stream",
     "text": [
      "Prediction:  [17.5561784]\n"
     ]
    }
   ],
   "source": [
    "print(\"Prediction: \",svr.predict([X_test[0]]))\n"
   ]
  },
  {
   "cell_type": "code",
   "execution_count": 75,
   "id": "0125ccee-8ae9-42ab-94de-bcba9958d74a",
   "metadata": {},
   "outputs": [
    {
     "name": "stdout",
     "output_type": "stream",
     "text": [
      "Real Value:  16.99\n"
     ]
    }
   ],
   "source": [
    "print(\"Real Value: \",df['total_bill'][0])"
   ]
  },
  {
   "cell_type": "markdown",
   "id": "09cd2337-bf13-46cd-9943-ef842d4774e0",
   "metadata": {},
   "source": [
    "# Saving The Model"
   ]
  },
  {
   "cell_type": "code",
   "execution_count": 76,
   "id": "67ae5944-0eda-416e-9df7-d8cd414176d4",
   "metadata": {},
   "outputs": [],
   "source": [
    "import pickle\n",
    "pickle.dump(svr,open('svr.pkl','wb'))"
   ]
  }
 ],
 "metadata": {
  "kernelspec": {
   "display_name": "Python 3 (ipykernel)",
   "language": "python",
   "name": "python3"
  },
  "language_info": {
   "codemirror_mode": {
    "name": "ipython",
    "version": 3
   },
   "file_extension": ".py",
   "mimetype": "text/x-python",
   "name": "python",
   "nbconvert_exporter": "python",
   "pygments_lexer": "ipython3",
   "version": "3.10.8"
  }
 },
 "nbformat": 4,
 "nbformat_minor": 5
}
